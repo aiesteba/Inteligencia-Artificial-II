{
 "cells": [
  {
   "cell_type": "markdown",
   "metadata": {
    "id": "OUBRwgEu3yu1"
   },
   "source": [
    "# Práctica 2: Procesamiento del Lenguaje Natural\n",
    "\n",
    "__Fecha de entrega: 17 de abril de 2022__\n",
    "\n",
    "El objetivo de esta práctica es aplicar los conceptos teóricos vistos en clase en el módulo de PLN. La práctica consta de 2 notebooks que se entregarán simultáneamente en la tarea de entrega habilitada en el Campus  Virtual.\n",
    "\n",
    "Lo más importante en esta práctica no es el código Python, sino el análisis de los datos y modelos que construyas y las explicaciones razonadas de cada una de las decisiones que tomes. __No se valorarán trozos de código o gráficas sin ningún tipo de contexto o explicación__.\n",
    "\n",
    "Finalmente, recuerda establecer el parámetro `random_state` en todas las funciones que tomen decisiones aleatorias para que los resultados sean reproducibles (los resultados no varíen entre ejecuciones)."
   ]
  },
  {
   "cell_type": "code",
   "execution_count": 4,
   "metadata": {
    "id": "V3YxCTUW3yu9"
   },
   "outputs": [],
   "source": [
    "RANDOM_STATE = 333"
   ]
  },
  {
   "cell_type": "markdown",
   "metadata": {
    "id": "pn_YQLVL3yvA"
   },
   "source": [
    "# Apartado 1: Clasificador de noticias"
   ]
  },
  {
   "cell_type": "markdown",
   "metadata": {
    "id": "de-i8w0s3yvC"
   },
   "source": [
    "__Número de grupo: 11__\n",
    "\n",
    "__Nombres de los estudiantes: Aitor Esteban y Edurne Ruiz__"
   ]
  },
  {
   "cell_type": "markdown",
   "metadata": {
    "id": "yeVD_g2D3yvC"
   },
   "source": [
    "## 1) Carga del conjunto de datos\n",
    "\n",
    "El fichero `BBC News.csv` contiene noticias clasificadas en 5 categorías diferentes. \n",
    "\n",
    "Carga los datos en un dataframe teniendo en cuenta que la columna `ArticleId` es un identificador de la noticia y por lo tanto no debes usarlo para clasificar. \n",
    "\n",
    "Estudia el tamaño del conjunto de datos y la proporción de noticias que pertenecen a cada una de las categorías. Indica si debemos tenerlo en cuenta de alguna forma al analizar los modelos que construyamos.\n",
    "\n",
    "Muestra un mensaje cualquiera y explica si lo habrías clasificado en la clase correcta tras leerlo.\n",
    "\n",
    "Crea una partición de los datos dejando el 80% para entrenamiento y el 20% restante para test usando la función `train_test_split` de sklearn. "
   ]
  },
  {
   "cell_type": "code",
   "execution_count": 5,
   "metadata": {
    "id": "0csu2B8N3yvE"
   },
   "outputs": [],
   "source": [
    "import numpy as np\n",
    "import pandas as pd"
   ]
  },
  {
   "cell_type": "code",
   "execution_count": 6,
   "metadata": {},
   "outputs": [
    {
     "data": {
      "text/html": [
       "<div>\n",
       "<style scoped>\n",
       "    .dataframe tbody tr th:only-of-type {\n",
       "        vertical-align: middle;\n",
       "    }\n",
       "\n",
       "    .dataframe tbody tr th {\n",
       "        vertical-align: top;\n",
       "    }\n",
       "\n",
       "    .dataframe thead th {\n",
       "        text-align: right;\n",
       "    }\n",
       "</style>\n",
       "<table border=\"1\" class=\"dataframe\">\n",
       "  <thead>\n",
       "    <tr style=\"text-align: right;\">\n",
       "      <th></th>\n",
       "      <th>Text</th>\n",
       "      <th>Category</th>\n",
       "    </tr>\n",
       "  </thead>\n",
       "  <tbody>\n",
       "    <tr>\n",
       "      <th>0</th>\n",
       "      <td>worldcom ex-boss launches defence lawyers defe...</td>\n",
       "      <td>business</td>\n",
       "    </tr>\n",
       "    <tr>\n",
       "      <th>1</th>\n",
       "      <td>german business confidence slides german busin...</td>\n",
       "      <td>business</td>\n",
       "    </tr>\n",
       "    <tr>\n",
       "      <th>2</th>\n",
       "      <td>bbc poll indicates economic gloom citizens in ...</td>\n",
       "      <td>business</td>\n",
       "    </tr>\n",
       "    <tr>\n",
       "      <th>3</th>\n",
       "      <td>lifestyle  governs mobile choice  faster  bett...</td>\n",
       "      <td>tech</td>\n",
       "    </tr>\n",
       "    <tr>\n",
       "      <th>4</th>\n",
       "      <td>enron bosses in $168m payout eighteen former e...</td>\n",
       "      <td>business</td>\n",
       "    </tr>\n",
       "    <tr>\n",
       "      <th>...</th>\n",
       "      <td>...</td>\n",
       "      <td>...</td>\n",
       "    </tr>\n",
       "    <tr>\n",
       "      <th>1485</th>\n",
       "      <td>double eviction from big brother model caprice...</td>\n",
       "      <td>entertainment</td>\n",
       "    </tr>\n",
       "    <tr>\n",
       "      <th>1486</th>\n",
       "      <td>dj double act revamp chart show dj duo jk and ...</td>\n",
       "      <td>entertainment</td>\n",
       "    </tr>\n",
       "    <tr>\n",
       "      <th>1487</th>\n",
       "      <td>weak dollar hits reuters revenues at media gro...</td>\n",
       "      <td>business</td>\n",
       "    </tr>\n",
       "    <tr>\n",
       "      <th>1488</th>\n",
       "      <td>apple ipod family expands market apple has exp...</td>\n",
       "      <td>tech</td>\n",
       "    </tr>\n",
       "    <tr>\n",
       "      <th>1489</th>\n",
       "      <td>santy worm makes unwelcome visit thousands of ...</td>\n",
       "      <td>tech</td>\n",
       "    </tr>\n",
       "  </tbody>\n",
       "</table>\n",
       "<p>1490 rows × 2 columns</p>\n",
       "</div>"
      ],
      "text/plain": [
       "                                                   Text       Category\n",
       "0     worldcom ex-boss launches defence lawyers defe...       business\n",
       "1     german business confidence slides german busin...       business\n",
       "2     bbc poll indicates economic gloom citizens in ...       business\n",
       "3     lifestyle  governs mobile choice  faster  bett...           tech\n",
       "4     enron bosses in $168m payout eighteen former e...       business\n",
       "...                                                 ...            ...\n",
       "1485  double eviction from big brother model caprice...  entertainment\n",
       "1486  dj double act revamp chart show dj duo jk and ...  entertainment\n",
       "1487  weak dollar hits reuters revenues at media gro...       business\n",
       "1488  apple ipod family expands market apple has exp...           tech\n",
       "1489  santy worm makes unwelcome visit thousands of ...           tech\n",
       "\n",
       "[1490 rows x 2 columns]"
      ]
     },
     "execution_count": 6,
     "metadata": {},
     "output_type": "execute_result"
    }
   ],
   "source": [
    "df = pd.read_csv('BBC News.csv')\n",
    "df = df.drop(['ArticleId'], axis = 1)\n",
    "df"
   ]
  },
  {
   "cell_type": "code",
   "execution_count": 7,
   "metadata": {},
   "outputs": [
    {
     "data": {
      "text/plain": [
       "sport            346\n",
       "business         336\n",
       "politics         274\n",
       "entertainment    273\n",
       "tech             261\n",
       "Name: Category, dtype: int64"
      ]
     },
     "execution_count": 7,
     "metadata": {},
     "output_type": "execute_result"
    }
   ],
   "source": [
    "df['Category'].value_counts()"
   ]
  },
  {
   "cell_type": "code",
   "execution_count": 8,
   "metadata": {},
   "outputs": [
    {
     "data": {
      "text/plain": [
       "<AxesSubplot:ylabel='Category'>"
      ]
     },
     "execution_count": 8,
     "metadata": {},
     "output_type": "execute_result"
    },
    {
     "data": {
      "image/png": "[encoded data removed]",
      "text/plain": [
       "<Figure size 432x288 with 1 Axes>"
      ]
     },
     "metadata": {},
     "output_type": "display_data"
    }
   ],
   "source": [
    "# Diagrama mostrando las categorias\n",
    "df['Category'].value_counts().plot.pie()"
   ]
  },
  {
   "cell_type": "markdown",
   "metadata": {},
   "source": [
    "Vemos que contamos con 1490 noticias sobre cinco grandes temas: deportes, negocios, política, entretenimiento y tecnología. Los temas están más o menos repartidos equitativamente, aunque hay ligeramente mayor cantidad de noticias de deportes y negocios. Esto va a ser importante para analizar el modelo que construyamos, pues va a relacionar las 'palabras clave' que encuentre en cada texto con su tema correspondiente. Cuánto mayor sea el número de noticias, más refinado debería ser el modelo, aunque podría fallar al añadir noticias que relacionen más de un tema y que fueran difíciles de clasificar. "
   ]
  },
  {
   "cell_type": "markdown",
   "metadata": {},
   "source": [
    "Ahora, elegimos una noticia al azar entre las tantas propuestas:"
   ]
  },
  {
   "cell_type": "code",
   "execution_count": 9,
   "metadata": {},
   "outputs": [
    {
     "data": {
      "text/plain": [
       "'ferguson urges henry punishment sir alex ferguson has called on the football association to punish arsenal s thierry henry for an incident involving gabriel heinze.  ferguson believes henry deliberately caught heinze on the head with his knee during united s controversial win. the united boss said it was worse than ruud van nistelrooy s foul on ashley cole for which he got a three-game ban.  we shall present it to the fa and see what they do. the tackle on heinze was terrible   he said. clubs are permitted to ask the fa to examine specific incidents but information is expected to be provided within 48 hours of the game. the clash occurred moments before half-time when a freddie ljungberg challenge left heinze on the ground on the left touchline. henry  following the ball  attempted to hurdle the argentine but his knee collided with the back of heinze s head.  the striker protested his innocence - and referee mike riley deemed the collision accidental. ferguson was also upset by arsenal s overall discipline during the heated encounter between the two arch-rivals and praised his own side s behaviour.  edu produced a terrible tackle on scholes that was a potential leg-breaker   he said.  there were 24 fouls in the game by arsenal  seven on heinze  five on ronaldo  six by vieira - and it was only his sixth foul that got him booked. phil neville got booked for his first challenge.  i am proud of my players for the way they handled that pressure.  we have always been good at being gracious in defeat. what happened on sunday overshadowed our achievement  but then they do it all the time  don t they'"
      ]
     },
     "execution_count": 9,
     "metadata": {},
     "output_type": "execute_result"
    }
   ],
   "source": [
    "df.values[23][0]"
   ]
  },
  {
   "cell_type": "markdown",
   "metadata": {},
   "source": [
    "Si analizamos el siguiente texto podemos podemos obsevar que es se trata de una noticia sobre un acontecimiento en un partido de fútbol entre los equipos Arsenal y Manchester United. Se narra la controversia que hubo a raíz de una falta cometida por un jugador. Por tanto podemos clasificarlo como una noticia deportiva fijandonos en el tema y en las palabras clave utilizadas como 'football, game, defeat, arsenal, fouls, referee...'"
   ]
  },
  {
   "cell_type": "code",
   "execution_count": 10,
   "metadata": {},
   "outputs": [
    {
     "data": {
      "text/plain": [
       "'sport'"
      ]
     },
     "execution_count": 10,
     "metadata": {},
     "output_type": "execute_result"
    }
   ],
   "source": [
    "df.values[23][1]"
   ]
  },
  {
   "cell_type": "markdown",
   "metadata": {},
   "source": [
    "Como habíamos supuesto en el apartado anterior, el texto está correctamente clasificado como deportivo. "
   ]
  },
  {
   "cell_type": "markdown",
   "metadata": {},
   "source": [
    "Por último, realizamos una partición de los datos, de forma que el 80% de ellos se usen como datos de entrenamiento y el 20% restante, como datos de test. "
   ]
  },
  {
   "cell_type": "code",
   "execution_count": 11,
   "metadata": {},
   "outputs": [],
   "source": [
    "from sklearn.model_selection import train_test_split"
   ]
  },
  {
   "cell_type": "code",
   "execution_count": 12,
   "metadata": {},
   "outputs": [
    {
     "data": {
      "text/plain": [
       "(1192, 298)"
      ]
     },
     "execution_count": 12,
     "metadata": {},
     "output_type": "execute_result"
    }
   ],
   "source": [
    "train_data , test_data = train_test_split(df, train_size = 0.8, random_state = RANDOM_STATE)\n",
    "len(train_data), len(test_data)"
   ]
  },
  {
   "cell_type": "markdown",
   "metadata": {
    "id": "r4rXv3xX3yvG"
   },
   "source": [
    "## 2) Representación basada en bolsa de palabras y frecuencia de aparición\n",
    "\n",
    "La primera vectorización que vamos a usar representará los mensajes usando el modelo de bolsa de palabras, monogramas y la frecuencia de aparición de cada palabra. Usa como _stop words_ las que vienen configuradas por defecto para el inglés.\n",
    "\n",
    "Aplica la vectorización a los conjuntos de mensajes de entrenamiento y test. Muestra algún mensaje tanto en su formato de texto original como en la versión vectorizada. ¿Qué palabras se han eliminado y por qué?\n",
    "\n",
    "Entrena un clasificador Naive Bayes Multinomial y calcula su tasa de aciertos sobre el conjunto de entrenamiento y el conjunto de test. A continuación calcula los valores de precisión, exhaustividad y puntuación F1 para cada una de las clases. Dibuja la matriz de confusión. Analiza los resultados obtenidos.\n",
    "\n",
    "A continuación, entrena un clasificador k-NN con la configuración por defecto y usando la misma vectorización. Analiza los resultados, ¿a qué crees que se deben?"
   ]
  },
  {
   "cell_type": "code",
   "execution_count": 13,
   "metadata": {
    "id": "HsJsTVjL3yvH"
   },
   "outputs": [],
   "source": [
    "from sklearn.feature_extraction.text import CountVectorizer\n",
    "from sklearn.feature_extraction.text import TfidfTransformer"
   ]
  },
  {
   "cell_type": "markdown",
   "metadata": {},
   "source": [
    "El primer paso es obtener las frecuencias de las palabras y lo haremos usando el diccionario que se inferirá de los términos de los documentos que se le pasan al CountVectorizer."
   ]
  },
  {
   "cell_type": "code",
   "execution_count": 14,
   "metadata": {},
   "outputs": [
    {
     "data": {
      "text/plain": [
       "<1192x22201 sparse matrix of type '<class 'numpy.int64'>'\n",
       "\twith 170840 stored elements in Compressed Sparse Row format>"
      ]
     },
     "execution_count": 14,
     "metadata": {},
     "output_type": "execute_result"
    }
   ],
   "source": [
    "vectorizer = CountVectorizer(stop_words='english', binary=False)\n",
    "# Tomamos los textos del conjunto de entrenamiento y los transformamos en \n",
    "# una matriz de datos (palabras) según el diccionario estándar\n",
    "train_vector_data=vectorizer.fit_transform(train_data['Text'])\n",
    "train_vector_data"
   ]
  },
  {
   "cell_type": "code",
   "execution_count": 15,
   "metadata": {},
   "outputs": [
    {
     "name": "stdout",
     "output_type": "stream",
     "text": [
      "22201\n",
      "['00', '000', '000bn', '000m', '000th', '001', '001and', '001st', '0051', '007', '01', '0100', '0130', '028', '03', '033', '04', '041', '04bn', '04secs', '05', '050', '050505', '0530', '0530gmt', '056', '05bn', '05m', '06', '0630', '069', '07', '070', '0710', '072', '0730', '08', '080', '0870', '088', '09', '0900', '093', '0950', '09bn', '09secs', '10', '100', '1000th', '100bn', '100m', '100ml', '101', '102', '103', '104', '105', '105bn', '105m', '106', '107', '108', '1080', '109', '10bn', '10ft', '10m', '10secs', '10th', '11', '110', '1100', '110m', '110th', '111', '1115', '111m', '112', '113', '1130', '1130p', '113bn', '115', '116', '116i', '117', '117m', '118', '119', '119bn', '119m', '11bn', '11m', '11pm', '11th', '12', '120', '1200', '1200m', '120gb', '120m', '121', '1215', '1230', '125', '125m', '126', '127th', '128', '12a', '12bn', '12cm', '12m', '12th', '13', '130', '1300', '130m', '132', '133', '1337', '134', '135', '136', '137', '138m', '139', '13bn', '13m', '13s', '13secs', '13th', '14', '140', '140bn', '142bn', '1430', '143m', '144', '144m', '145', '146m', '148', '149', '1497', '14bn', '14m', '14th', '15', '150', '1500', '1500m', '150m', '150th', '151', '152', '152m', '153', '154m', '155', '156m', '157', '158', '158th', '159', '15bn', '15m', '15mbps', '15s', '15th', '16', '160', '1600', '1600s', '1606', '160gb', '160m', '161', '162', '162bn', '162m', '163', '1642', '165', '1650', '166', '167', '1670', '168', '1689', '169', '16bn', '16k', '16m', '16th', '17', '170', '1700', '1701', '170m', '171', '1727', '1728', '173', '1731', '173m', '174', '175', '175m', '1761', '177', '1774', '1776', '178', '178m', '17bn', '17m', '17th', '18', '180', '1800s', '1801', '180bn', '1812', '1815', '182', '1830', '1831', '1834', '184', '1848', '184m', '185', '1857', '186', '1865', '186m', '187', '1870', '1875', '187m', '187th', '188', '1888', '189', '1891', '1893', '18bn', '18m', '18s', '18th', '19', '190', '1900', '1903', '1905', '1908', '190m', '191', '1910', '1911', '1912', '1915', '1917', '191m', '192', '1920', '1921', '1922', '1924', '1925', '1927', '1928', '1929', '193', '1930', '1930s', '1934', '1935', '1936', '1937', '1938', '1939', '1940', '1940s', '1942', '1943', '1944', '1945', '1946', '1947', '1948', '194m', '195', '1950', '1950s', '1951', '1952', '1953', '1954', '1955', '1956', '1957', '1958', '196', '1960', '1960s', '1961', '1962', '1963', '1964', '1965', '1966', '1967', '1968', '1969', '196m', '1970', '1970s', '1971', '1972', '1973', '1974', '1975', '1976', '1977', '1978', '1979', '197bn', '198', '1980', '1980s', '1981', '1982', '1983', '1984', '1985', '1986', '1987', '1988', '1989', '198m', '1990', '1990s', '1991', '1992', '1993', '1994', '1995', '1996', '1997', '1998', '1999', '19bn', '19m', '19secs', '19th', '1bn', '1m', '1st', '20', '200', '2000', '2001', '2001fetched', '2002', '2003', '2004', '2005', '2006', '2007', '2008', '2009', '200bn', '200lr', '200m', '2010', '2011', '2012', '2013', '2014', '2015', '2018', '2019', '2020', '2022', '2025', '203', '2048', '204m', '205', '2050', '206', '206m', '20bn', '20gb', '20m', '20mbps', '20p', '20s', '20th', '21', '210', '2100', '211', '216', '217', '219', '21bn', '21m', '21st', '22', '2200', '220m', '2230gmt', '225', '226', '227', '229', '22bn', '22m', '22nd', '23', '230', '2300', '230m', '231m', '233', '2340', '234m', '239', '23bn', '23m', '23rd', '24', '240', '242', '245m', '246', '246bn', '247p', '24bn', '24m', '24th', '25', '250', '2500', '250m', '253m', '256mb', '258', '258bn', '25bn', '25gbps', '25lb', '25m', '25p', '25th', '26', '262', '264th', '265', '266m', '267', '268', '26m', '26th', '27', '270', '271', '271st', '272', '273', '274', '275', '276', '277', '277th', '27bn', '27m', '27th', '28', '280', '280m', '281m', '282', '284m', '2871', '28bn', '28th', '29', '290', '290m', '291', '291m', '292', '293', '294', '2940', '296', '297', '2974', '29a', '29bn', '29m', '2am', '2bn', '2d', '2d3', '2ft', '2g', '2gb', '2k', '2km', '2kw', '2m', '2mbps', '2nd', '30', '300', '3000', '300bn', '300m', '300p', '301', '3040', '305', '305m', '306', '308m', '30bn', '30gb', '30m', '30mg', '30mph', '31', '312', '313', '314', '31bn', '31p', '32', '320', '320kg', '320m', '3218', '322m', '3230', '324', '325', '325m', '327', '327m', '3280', '328m', '329', '32bn', '32m', '32nd', '33', '337', '339', '339m', '33bn', '33rd', '34', '340', '348bn', '349', '349m', '34bn', '34th', '35', '350', '3509', '350m', '3516', '357', '35bn', '35m', '35mm', '35th', '36', '360', '365m', '367', '368bn', '36bn', '36m', '36th', '37', '370', '370m', '372', '374m', '375', '377bn', '379m', '37bn', '38', '380m', '382m', '385', '387m', '38mph', '39', '392', '398m', '399', '39bn', '39m', '3ami', '3bn', '3c', '3d', '3g', '3gp', '3gsm', '3km', '3m', '3rds', '3x', '40', '400', '40052308090', '400m', '400th', '402', '404', '407th', '40bn', '40gb', '40m', '40mbps', '40mph', '40s', '41', '412bn', '413', '415m', '418bn', '41bn', '41m', '42', '420', '424m', '425', '426m', '428m', '42bn', '42m', '42nd', '43', '431m', '433', '434m', '436', '43m', '44', '440', '443m', '444', '449', '44bn', '45', '450', '451m', '455', '458', '458m', '45bn', '45pm', '45secs', '45th', '46', '464', '465', '466', '469', '46m', '46secs', '47', '474', '475m', '479m', '47m', '48', '480', '484bn', '4850', '486', '487', '488', '48bn', '48m', '48th', '49', '492m', '496', '499', '49m', '4bn', '4cm', '4gb', '4ghz', '4in', '4km', '4m', '4p', '4th', '4x100m', '50', '500', '5000', '5000m', '500m', '506m', '508m', '50gb', '50m', '50mg', '50p', '50pc', '50th', '51', '512', '512kbps', '512m', '512mb', '514', '514m', '51bn', '51secs', '52', '520', '521', '522', '527', '529', '52m', '52nd', '53', '530', '532m', '535', '537bn', '538', '53bn', '53m', '53p', '54', '540m', '542', '544', '546', '546m', '548p', '54bn', '54m', '54th', '55', '550', '550m', '556', '55bn', '55s', '56', '560', '563', '569', '56bn', '56m', '57', '570', '57bn', '58', '581m', '584m', '58bn', '59', '590', '59th', '5bn', '5g', '5gb', '5ive', '5k', '5m', '5p', '60', '600', '600m', '603', '607', '60bn', '60gb', '60m', '60p', '60secs', '60th', '61', '610m', '61km', '61m', '61st', '62', '625', '62secs', '63', '630m', '635', '639m', '63m', '63rd', '63secs', '64', '642', '644m', '645', '648m', '64secs', '65', '650', '659', '65bn', '65s', '66', '660', '6600', '660m', '661', '667', '66m', '66secs', '67', '6709', '671', '674', '67th', '68', '680', '680m', '68m', '69', '690', '690m', '691m', '6bn', '6ft', '6gb', '6ghz', '6in', '6km', '6m', '6pm', '70', '700', '705m', '70m', '70p', '70s', '70th', '71', '713', '717', '717m', '719m', '72', '720', '725m', '72m', '73', '730', '732m', '733', '737', '73m', '74', '740', '745', '74m', '75', '750', '750m', '755', '75bn', '75m', '75p', '76', '761m', '767', '768m', '76m', '77', '7710', '775', '775m', '777', '77th', '78', '780', '784m', '785m', '787', '78bn', '79', '796', '797p', '799', '79th', '7bn', '7m', '80', '800', '800m', '803', '805', '808m', '80bn', '80gb', '80m', '80mg', '80p', '80s', '81', '813', '814', '815', '82', '820', '825', '82bn', '83', '830bn', '831', '833', '836m', '838th', '84', '840', '84th', '85', '850', '850bn', '850m', '855bn', '857m', '85m', '86', '861m', '865', '86bn', '86m', '86th', '87', '870', '873p', '874', '874m', '875', '87bn', '87th', '88', '881', '88m', '88th', '89', '8923', '89bn', '89m', '89secs', '89th', '8am', '8bn', '8gb', '8ghz', '8m', '8mbps', '90', '900', '900m', '902', '906', '907', '9094', '90s', '90th', '91', '910m', '911', '912km', '915', '91m', '92', '920', '922', '924', '925p', '93', '931m', '933m', '939', '93rd', '94', '940', '943', '95', '950', '950m', '950p', '953', '957', '95bn', '95m', '96', '966m', '97', '971', '975', '97bn', '97m', '98', '980m', '984m', '98bn', '98m', '98th', '99', '997', '999', '999th', '9bn', '9km', '9m', '9p', 'a300s', 'a320', 'a380', 'a380s', 'a4', 'aa', 'aaa', 'aaas', 'aac', 'aadc', 'aaliyah', 'aamir', 'aaron', 'abacus', 'abandon', 'abandoned', 'abandoning', 'abandonment', 'abbas', 'abbasi', 'abbott', 'abc', 'abd', 'abdellatif', 'abdication', 'abdomen', 'abdominal', 'abducted', 'abduction', 'abdullah', 'abdullatif', 'abebe', 'aberdeen', 'aberration', 'aberystwyth', 'abeyance', 'abeyie', 'abhorrent', 'abi', 'abide', 'abided', 'abiding', 'abigail', 'abilities', 'ability', 'able', 'abn', 'abnormal', 'abolish', 'abolishing', 'abolition', 'aborted', 'abortion', 'abortionist', 'abramovich', 'abroad', 'abrupt', 'absa', 'absence', 'absent', 'absentee', 'absolute', 'absolutely', 'absorb', 'absorbed', 'absorbing', 'absorbs', 'abstain', 'abstentions', 'absurd', 'abtahi', 'abu', 'abundance', 'abundantly', 'abuse', 'abused', 'abuses', 'abusing', 'abusive', 'abut', 'abuzz', 'abysmal', 'ac', 'academic', 'academics', 'academie', 'academies', 'academy', 'acapulco', 'accelerate', 'accelerated', 'accelerating', 'acceleration', 'accelerator', 'accept', 'acceptable', 'acceptance', 'acceptances', 'accepted', 'accepting', 'accepts', 'access', 'accessed', 'accessible', 'accessing', 'accession', 'accessory', 'accident', 'accidental', 'accidentally', 'accidently', 'accidents', 'acclaim', 'acclaimed', 'acclimate', 'acclimatise', 'accolade', 'accolades', 'accommodate', 'accommodated', 'accommodating', 'accommodation', 'accompanied', 'accompaniment', 'accompany', 'accompanying', 'accomplices', 'accomplish', 'accomplished', 'accomplishment', 'accordance', 'according', 'accordingly', 'accosiation', 'account', 'accountability', 'accountable', 'accountancy', 'accountant', 'accountants', 'accounted', 'accounting', 'accounts', 'accoustic', 'accra', 'accredited', 'accretive', 'accumulate', 'accumulated', 'accumulates', 'accumulator', 'accuracy', 'accurate', 'accurately', 'accusation', 'accusations', 'accuse', 'accused', 'accusing', 'accustomed', 'ace', 'aceh', 'aces', 'achievable', 'achieve', 'achieved', 'achievement', 'achievements', 'achieving', 'achike', 'achilles', 'achtung', 'acid', 'acknowledge', 'acknowledged', 'acknowledges', 'acne', 'acoustic', 'acpo', 'acquainted', 'acquiescent', 'acquire', 'acquired', 'acquiring', 'acquisition', 'acquisitions', 'acquittal', 'acquitted', 'acre', 'acres', 'acrimonious', 'acrimony', 'acrobatic', 'acrobatically', 'act', 'acted', 'acting', 'action', 'actionaid', 'actions', 'activate', 'activated', 'active', 'actively', 'activision', 'activison', 'activist', 'activists', 'activities', 'activity', 'actor', 'actors', 'actress', 'actresses', 'acts', 'actual', 'actually', 'acute', 'ad', 'adage', 'adair', 'adam', 'adamant', 'adamind', 'adams', 'adapt', 'adaptation', 'adaptations', 'adapted', 'adapter', 'adapters', 'adaptibility', 'adapting', 'adaptor', 'adaptors', 'adarsh', 'adb', 'add', 'addaction', 'added', 'addictive', 'addicts', 'adding', 'addink', 'addison', 'addition', 'additional', 'additionally', 'address', 'addressed', 'addresses', 'addressing', 'adds', 'adductor', 'adelaide', 'adept', 'adequate', 'adequately', 'adera', 'adere', 'adhere', 'adherence', 'adheres', 'adjudged', 'adjudicator', 'adjust', 'adjusted', 'adjusting', 'adjustments', 'adjusts', 'administer', 'administered', 'administering', 'administration', 'administrations', 'administrative', 'administrator', 'administrators', 'admirable', 'admiration', 'admire', 'admired', 'admirer', 'admission', 'admissions', 'admit', 'admits', 'admittance', 'admitted', 'admittedly', 'admitting', 'admonished', 'adnan', 'ado', 'adolescent', 'adolf', 'adopt', 'adopted', 'adopters', 'adopting', 'adoption', 'adoptive', 'adrian', 'adriano', 'adriatic', 'adrien', 'adroit', 'ads', 'adsense', 'adsl', 'adulation', 'adult', 'adultery', 'adulthood', 'adults', 'advance', 'advanced', 'advancement', 'advances', 'advancing', 'advanta', 'advantage', 'advantages', 'advent', 'adventure', 'adventures', 'adventurous', 'adverse', 'adversely', 'adversity', 'advert', 'advertise', 'advertised', 'advertisements', 'advertiser', 'advertisers', 'advertising', 'adverts', 'advice', 'advise', 'advised', 'adviser', 'advisers', 'advises', 'advising', 'advisor', 'advisors', 'advisory', 'advocate', 'advocated', 'advocates', 'adware', 'ae', 'aero', 'aeronautics', 'aeroplane', 'aerosmith', 'aerospace', 'aesthetic', 'aesthetically', 'aesthetics', 'affair', 'affairs', 'affect', 'affected', 'affecting', 'affection', 'affectionately', 'affects', 'afficiandos', 'affiliate', 'affiliates', 'afflicting', 'afford', 'affordable', 'afforded', 'afful', 'afghanistan', 'afi', 'afloat', 'afoot', 'afraid', 'africa', 'african', 'africans', 'aftenposten', 'afterlife', 'aftermath', 'afternoon', 'aftewards', 'afzal', 'ag', 'agassi', 'age', 'aged', 'ageing', 'ageism', 'agence', 'agencies', 'agency', 'agenda', 'agendas', 'agent', 'agents', 'ages', 'aggravated', 'aggravating', 'aggregator', 'aggregators', 'aggression', 'aggressive', 'aggressively', 'aggressors', 'aggrieved', 'aging', 'agio', 'agitated', 'agm', 'agnelli', 'agnostic', 'ago', 'agoa', 'agonising', 'agonisingly', 'agony', 'agrarian', 'agree', 'agreed', 'agreeing', 'agreement', 'agreements', 'agrees', 'agricultural', 'agriculture', 'agrochemical', 'agroflora', 'aguilera', 'agustin', 'agyemang', 'ahead', 'ahmed', 'ahold', 'ai', 'aid', 'aidan', 'aide', 'aided', 'aiden', 'aides', 'aids', 'aig', 'ailing', 'aim', 'aimed', 'aiming', 'aimlessly', 'aims', 'air', 'airbus', 'aircraft', 'aired', 'aires', 'airing', 'airline', 'airliner', 'airliners', 'airlines', 'airplane', 'airplanes', 'airplay', 'airport', 'airports', 'airtime', 'airways', 'aishwariya', 'aishwarya', 'aisle', 'aitken', 'aiyegbeni', 'aizlewood', 'aj', 'ajax', 'ak', 'aka', 'akaev', 'akamai', 'akhmetov', 'akin', 'akon', 'al', 'alabama', 'aladdin', 'alain', 'alamos', 'alan', 'alarm', 'alarmed', 'alarming', 'alarmingly', 'alarms', 'alasdair', 'alastair', 'albacete', 'albania', 'albanian', 'albany', 'albee', 'albeit', 'albert', 'alberto', 'albion', 'album', 'albums', 'alcatel', 'alcohol', 'alcoholism', 'alcorn', 'alda', 'aldershot', 'alegre', 'alejandro', 'alencar', 'alert', 'alerted', 'alerting', 'alerts', 'alessandro', 'alex', 'alexander', 'alexandra', 'alexandria', 'alexis', 'alfa', 'alfie', 'alfonso', 'alfred', 'algeria', 'algerian', 'algorithm', 'algorithms', 'ali', 'alias', 'aliases', 'alice', 'alicia', 'alien', 'aliens', 'alight', 'align', 'aligned', 'alike', 'alison', 'alistair', 'alita', 'alive', 'allahgreen', 'allaire', 'allan', 'allander', 'allard', 'allardyce', 'allawi', 'allaying', 'allegation', 'allegations', 'allege', 'alleged', 'allegedly', 'alleges', 'allegiance', 'allegiances', 'alleging', 'allen', 'allende', 'alleviate', 'alley', 'alleyne', 'alli', 'alliance', 'alliances', 'allianz', 'allied', 'allies', 'allister', 'allocated', 'allocation', 'allocations', 'allotting', 'allow', 'allowance', 'allowances', 'alloway', 'allowed', 'allowing', 'allows', 'allsop', 'alltel', 'alludes', 'alluding', 'ally', 'almagro', 'almeria', 'almodovar', 'almunia', 'alongside', 'alonso', 'aloud', 'alphabet', 'alphabetically', 'alphabets', 'alright', 'altavista', 'alter', 'altered', 'altering', 'alternative', 'alternatively', 'alternatives', 'alto', 'altogether', 'alton', 'aluminium', 'alumnia', 'alun', 'alva', 'alwaleed', 'alyn', 'alyona', 'alzheimer', 'am3d', 'amadeo', 'amalgamated', 'amalric', 'amanda', 'amassed', 'amateur', 'amateurish', 'amateurs', 'amaya', 'amazed', 'amazes', 'amazing', 'amazingly', 'amazon', 'ambassador', 'ambassadors', 'amber', 'ambev', 'ambient', 'ambition', 'ambitions', 'ambitious', 'ambitous', 'ambo', 'ambushed', 'amd', 'amelia', 'amelie', 'amenabar', 'amend', 'amended', 'amending', 'amendment', 'amendments', 'amends', 'amenity', 'america', 'american', 'americanised', 'americans', 'americas', 'ames', 'amey', 'amibitions', 'amicably', 'amicus', 'amid', 'amidst', 'amiga', 'amin', 'amitabh', 'amma', 'amman', 'ammunition', 'amnesty', 'amoeba', 'amor', 'amounted', 'amounting', 'amounts', 'ampadu', 'ampas', 'amplification', 'amplified', 'amplifier', 'amplifies', 'amplify', 'amply', 'amputated', 'amputators', 'amputee', 'amputees', 'amr', 'amro', 'amsterdam', 'amuro', 'amusing', 'amy', 'ana', 'anabolic', 'anakin', 'analgesic', 'analogue', 'analyse', 'analysed', 'analysis', 'analyst', 'analysts', 'analyzing', 'anastacia', 'anastasia', 'anatomical', 'ancelotti', 'ancestors', 'anchor', 'ancic', 'ancient', 'ancillary', 'ancram', 'anders', 'andersen', 'anderson', 'anderton', 'andhra', 'andrade', 'andre', 'andrea', 'andreas', 'andreev', 'andrei', 'andrew', 'andrews', 'andriy', 'andy', 'anelka', 'aneurysm', 'anew', 'anfield', 'angadias', 'angel', 'angela', 'angeles', 'angelina', 'angels', 'anger', 'angering', 'angle', 'angled', 'anglers', 'anglesea', 'anglia', 'anglicans', 'angling', 'anglo', 'angola', 'angrily', 'angry', 'angst', 'angus', 'anheuser', 'animal', 'animals', 'animate', 'animated', 'animation', 'animations', 'animator', 'animosity', 'aniston', 'anita', 'anjelica', 'ankle', 'ann', 'anna', 'annabelle', 'annadale', 'annals', 'annan', 'anne', 'annette', 'annie', 'anniversaries', 'anniversary', 'annoucement', 'announce', 'announced', 'announcement', 'announcements', 'announces', 'announcing', 'annoyance', 'annoyingly', 'annoys', 'annual', 'annualised', 'annually', 'annuity', 'annul', 'annum', 'annus', 'anoeta', 'anomalies', 'anomaly', 'anonymous', 'anonymously', 'anouncing', 'anselmo', 'ansheng', 'anshuman', 'anson', 'answer', 'answered', 'answers', 'ant', 'antagonistic', 'antenna', 'anthemic', 'anthony', 'anti', 'antibacterial', 'anticipate', 'anticipated', 'anticipating', 'anticipation', 'antiques', 'antiseptics', 'antithesis', 'antitrust', 'antoine', 'antoinette', 'anton', 'antonia', 'antonio', 'antony', 'antrim', 'anurag', 'anxiety', 'anxious', 'anybody', 'anyhting', 'anymore', 'aol', 'ap', 'apace', 'apache', 'apacs', 'apart', 'apartheid', 'apathetic', 'apathy', 'apcom', 'apiece', 'aplomb', 'apocalypse', 'apollo', 'apologise', 'apologised', 'apology', 'appalled', 'appalling', 'apparatus', 'apparel', 'apparent', 'apparently', 'appeal', 'appealed', 'appealing', 'appeals', 'appear', 'appearance', 'appearances', 'appeared', 'appearing', 'appears', 'appetite', 'applauded', 'applause', 'apple', 'appleford', 'applegate', 'apples', 'appleton', 'appliance', 'appliances', 'applicant', 'applicants', 'application', 'applications', 'applied', 'applies', 'apply', 'applying', 'appoint', 'appointed', 'appointment', 'appointments', 'appoints', 'appraisal', 'appraising', 'appreciably', 'appreciate', 'appreciation', 'apprehended', 'apprehension', 'apprentices', 'apprenticeship', 'approach', 'approached', 'approaches', 'approaching', 'appropriate', 'appropriately', 'approval', 'approvals', 'approve', 'approved', 'approximately', 'approximation', 'apps', 'april', 'apurva', 'aquatic', 'ar', 'arab', 'arabia', 'arabian', 'arabic', 'arabs', 'arafat', 'aragones', 'aramaic', 'aramburu', 'arash', 'arbitrarily', 'arbitrary', 'arbitration', 'arbor', 'arbuckle', 'arcade', 'arcades', 'arcelor', 'arch', 'archaeological', 'archangel', 'archbishop', 'archer', 'archibald', 'architect', 'architecture', 'archive', 'archived', 'archives', 'archivists', 'archos', 'arcleor', 'arcy', 'ard', 'ardent', 'arditti', 'area', 'areas', 'areen', 'aren', 'arena', 'arenas', 'aretha', 'argentina', 'argentine', 'argonaut', 'arguably', 'argue', 'argued', 'argues', 'arguing', 'argument', 'argumentative', 'arguments', 'aria', 'ariel', 'arise', 'arisen', 'arising', 'arizona', 'arjan', 'arjen', 'ark', 'arkansas', 'arling', 'arlington', 'arm', 'armagh', 'armando', 'armani', 'armed', 'armenians', 'armentieres', 'armes', 'armour', 'armoury', 'arms', 'armstrong', 'army', 'arnaud', 'arne', 'arnesen', 'arnold', 'aroused', 'arouses', 'arpey', 'arquette', 'arrange', 'arranged', 'arrangement', 'arrangements', 'array', 'arrese', 'arrest', 'arrested', 'arrests', 'arrival', 'arrivals', 'arrive', 'arrived', 'arrives', 'arriving', 'arrogance', 'arrogant', 'arrogantly', 'arsenal', 'arsene', 'arsenide', 'art', 'artell', 'artery', 'arteta', 'artgarden', 'arthritis', 'arthur', 'artic', 'article', 'articles', 'articulate', 'articulated', 'artificial', 'artificially', 'artist', 'artistic', 'artistry', 'artists', 'artois', 'arts', 'artwork', 'artworks', 'aru', 'arvind', 'asagoe', 'asahi', 'asante', 'ascend', 'ascenders', 'ascending', 'ascii', 'ashamed', 'ashanti', 'ashburton', 'ashcroft', 'ashdown', 'ashes', 'ashfield', 'ashley', 'ashton', 'ashvin', 'asi', 'asia', 'asian', 'asians', 'aside', 'asif', 'asimo', 'ask', 'askar', 'asked', 'asking', 'asks', 'asleep', 'aspect', 'aspects', 'aspersions', 'aspic', 'aspiration', 'aspiring', 'asplin', 'ass', 'assad', 'assassin', 'assassinated', 'assassination', 'assault', 'assaulted', 'assaults', 'assembled', 'assembling', 'assembly', 'assert', 'assertion', 'assertions', 'assertiveness', 'asserts', 'asses', 'assess', 'assessed', 'assesses', 'assessing', 'assessment', 'assessments', 'assessor', 'asset', 'assets', 'assigned', 'assigns', 'assist', 'assistance', 'assistant', 'assistants', 'assisted', 'assisting', 'associate', 'associated', 'associates', 'association', 'associations', 'assortment', 'assume', 'assumed', 'assumes', 'assuming', 'assumption', 'assumptions', 'assurance', 'assurances', 'assure', 'assured', 'asteroid', 'aston', 'astonished', 'astonishing', 'astonishingly', 'astonishment', 'astoria', 'astra', 'astro', 'astronauts', 'astronomical', 'asylum', 'asymmetric', 'asymmetry', 'atari', 'ate', 'athens', 'athlete', 'athletes', 'athletic', 'athleticism', 'athletico', 'athletics', 'athlon', 'atinc', 'atkinson', 'atlanta', 'atlantic', 'atlas', 'atletico', 'atmosphere', 'atmospheric', 'atomic', 'atoms', 'aton', 'atp', 'atr', 'att', 'attached', 'attachment', 'attachments', 'attack', 'attacked', 'attacker', 'attackers', 'attacking', 'attacks', 'attaining', 'attainment', 'attallah', 'attempt', 'attempted', 'attempting', 'attempts', 'attend', 'attendance', 'attendances', 'attendant', 'attendants', 'attended', 'attendees', 'attending', 'attends', 'attention', 'attentions', 'attentive', 'atticus', 'attitude', 'attitudes', 'attlee', 'attorney', 'attract', 'attracted', 'attracting', 'attraction', 'attractions', 'attractive', 'attracts', 'attributable', 'attribute', 'attributed', 'attributes', 'atwood', 'au', 'auckland', 'auction', 'auctioned', 'auctioneer', 'auctions', 'audi', 'audience', 'audiences', 'audio', 'audiophile', 'audiovisuel', 'audit', 'audited', 'audition', 'auditions', 'auditor', 'auditorium', 'auditors', 'audrey', 'auf', 'augment', 'augmented', 'august', 'augusto', 'aulis', 'aunt', 'aura', 'aurelien', 'auric', 'aurora', 'auschwitz', 'aussie', 'aussies', 'austin', 'australia', 'australian', 'austria', 'austrian', 'auteuil', 'authenti', 'authentic', 'authentication', 'author', 'authorise', 'authorised', 'authorises', 'authorising', 'authoritarian', 'authoritative', 'authorities', 'authority', 'authors', 'autistic', 'auto', 'autobiographical', 'autobiography', 'autocycle', 'autographs', 'autolink', 'autolinks', 'automated', 'automatic', 'automatically', 'automobile', 'automobiles', 'automotive', 'automotives', 'autosport', 'autumn', 'auvergne', 'auxerre', 'auxiliary', 'av400', 'availability', 'available', 'avalanche', 'avalon', 'avatar', 'avatars', 'avenue', 'avenues', 'average', 'averages', 'averaging', 'avert', 'averting', 'avery', 'avg', 'avi', 'aviation', 'aviator', 'avid', 'avions', 'aviv', 'avoid', 'avoided', 'avoiding', 'avoids', 'avonex', 'avril', 'await', 'awaited', 'awaiting', 'awaits', 'awakening', 'award', 'awarded', 'awarding', 'awards', 'aware', 'awareness', 'away', 'awe', 'awesome', 'awful', 'awkward', 'awol', 'axa', 'axe', 'axed', 'axing', 'aycock', 'aymone', 'aynsley', 'azim', 'azkaban', 'azmat', 'aznavour', 'azzam', 'azzurri', 'baa', 'baas', 'baathist', 'babacan', 'babayaro', 'babies', 'babinet', 'baby', 'babyshamblers', 'babyshambles', 'babysitter', 'babysitting', 'bac', 'baccarat', 'bach', 'bachchan', 'backbench', 'backbencher', 'backbenchers', 'backbenches', 'backbone', 'backdated', 'backdoor', 'backdrop', 'backed', 'backer', 'backers', 'backfired', 'backfires', 'background', 'backgrounds', 'backhand', 'backhands', 'backing', 'backlash', 'backley', 'backline', 'backpack', 'backroom', 'backs', 'backside', 'backsides', 'backsliding', 'backstage', 'backstreet', 'backtrack', 'backtracking', 'backup', 'backward', 'backwards', 'bacon', 'bad', 'baddeley', 'badge', 'badly', 'bae', 'bafana', 'baffled', 'bafin', 'bafta', 'baftas', 'bag', 'bagged', 'baggins', 'baghdad', 'bagle', 'baglihar', 'bagnato', 'bags', 'baha', 'bahamas', 'baht', 'baikal', 'bail', 'bailey', 'bailin', 'bailout', 'bainivalu', 'baiting', 'baker', 'bakersfield', 'bakley', 'balado', 'balance', 'balanced', 'balancing', 'balco', 'balde', 'baldini', 'baldrick', 'balfour', 'balkan', 'balkans', 'balked', 'ball', 'ballad', 'ballboy', 'ballerina', 'ballerinas', 'ballet', 'ballets', 'balloch', 'balloon', 'ballooned', 'ballooning', 'ballot', 'balloted', 'balloting', 'ballots', 'balls', 'ballymena', 'balmer', 'balmy', 'baltacha', 'baltasar', 'bamboozled', 'ban', 'bana', 'banca', 'band', 'bandaid', 'banded', 'banderas', 'bandmates', 'bands', 'bandstand', 'bandwagon', 'bandwidth', 'bang', 'bangaldesh', 'bangalore', 'banging', 'bangkok', 'bangladesh', 'bangladeshi', 'bangor', 'banished', 'banjo', 'bank', 'bankable', 'bankash', 'banked', 'banker', 'bankers', 'banking', 'bankroll', 'bankrupt', 'bankruptcy', 'banks', 'bannatyne', 'banned', 'banner', 'banning', 'banos', 'banque', 'banques', 'banquet', 'bans', 'banter', 'banton', 'baoshan', 'bar', 'barbados', 'barbara', 'barbarians', 'barber', 'barbini', 'barbra', 'barca', 'barcelona', 'barclay', 'barclays', 'barcode', 'bardem', 'bare', 'barely', 'baretta', 'bargain', 'bargains', 'barged', 'baring', 'barings', 'bark', 'barker', 'barking', 'barkley', 'barley', 'barlow', 'barn', 'barnard', 'barnes', 'barnet', 'barnett', 'barney', 'barnsley', 'baroness', 'baros', 'barr', 'barrage', 'barras', 'barratie', 'barred', 'barrel', 'barrels', 'barrick', 'barrier', 'barriers', 'barring', 'barrioneuvo', 'barrionuevo', 'barrister', 'barron', 'barroso', 'barry', 'barrymore', 'bars', 'bartering', 'bartoli', 'barton', 'barwick', 'bas', 'base', 'based', 'basel', 'baseline', 'basement', 'bases', 'bash', 'bashing', 'basic', 'basically', 'basics', 'basildon', 'basing', 'basingstoke', 'basis', 'basketball', 'basking', 'basque', 'basquiat', 'basra', 'bass', 'bassist', 'bastille', 'bat', 'batch', 'batches', 'bateman', 'bates', 'bath', 'bathroom', 'batie', 'batistuta', 'batman', 'battalion', 'batter', 'battered', 'batteries', 'battering', 'battery', 'battle', 'battled', 'battlefield', 'battlefront', 'battlefronts', 'battleground', 'battlegrounds', 'battles', 'battleship', 'battling', 'bautista', 'baweja', 'baxter', 'bay', 'bayer', 'bayern', 'baying', 'bayleaf', 'bays', 'baywatch', 'bb', 'bba', 'bbb', 'bbc', 'bbc1', 'bbc2', 'bbci', 'bcc', 'bdb', 'bdo', 'beach', 'beaches', 'beachgoer', 'beacon', 'beads', 'beagles', 'beam', 'bean', 'bear', 'beard', 'beardsley', 'bearer', 'bearing', 'bears', 'beast', 'beastie', 'beat', 'beatable', 'beaten', 'beating', 'beatings', 'beatle', 'beatles', 'beats', 'beattie', 'beatty', 'beaumont', 'beautiful', 'beauty', 'beauvillian', 'bebo', 'bechtel', 'bechtler', 'beck', 'beckett', 'beckham', 'beckhams', 'beckinsale', 'beckon', 'beckons', 'bed', 'bedding', 'bedell', 'bedford', 'bedingfield', 'bedroom', 'beds', 'bedsits', 'bee', 'beef', 'beefing', 'beeks', 'beenie', 'beer', 'beermaker', 'beers', 'beetle', 'began', 'begg', 'beggared', 'begging', 'begin', 'beginning', 'beginnings', 'begins', 'begrudge', 'begun', 'beh', 'behalf', 'behave', 'behaved', 'behaving', 'behaviour', 'behavioural', 'beheaded', 'behemoth', 'beige', 'beijing', 'beijingers', 'beileve', 'beings', 'beirut', 'beith', 'bejewelled', 'bekele', 'belafonte', 'beleaguered', 'belfast', 'belgian', 'belgians', 'belgium', 'belgrade', 'belgrave', 'belief', 'beliefs', 'believable', 'believe', 'believed', 'believer', 'believes', 'believing', 'belinda', 'belisha', 'bell', 'bellahouston', 'bellamy', 'belle', 'bellicose', 'bellion', 'bells', 'belly', 'belmar', 'belmarsh', 'beloned', 'belong', 'belonged', 'belonging', 'belongings', 'belongs', 'beloved', 'belsen', 'belt', 'bemand', 'bemoaning', 'ben', 'benazir', 'bench', 'benches', 'benchmark', 'benchmarking', 'benchmarks', 'benckiser', 'bend', 'bending', 'benefactors', 'beneficial', 'beneficiaries', 'benefit', 'benefited', 'benefiting', 'benefits', 'benesova', 'benign', 'bening', 'benita', 'benitez', 'benjamin', 'benn', 'bennallack', 'bennett', 'bennington', 'benny', 'benoit', 'bent', 'benz', 'berated', 'berbatov', 'berdych', 'beresford', 'bergamasco', 'berger', 'bergerac', 'bergh', 'bergkamp', 'bergman', 'berhane', 'berhanu', 'beringer', 'berkeley', 'berkovic', 'berlin', 'berlinale', 'berlusconi', 'berman', 'bernabeu', 'bernal', 'bernard', 'bernardo', 'bernath', 'bernd', 'bernie', 'berry', 'bershawn', 'berson', 'bert', 'berta', 'bertelsmann', 'berth', 'berthinussen', 'berti', 'beset', 'bespoke', 'best', 'bestow', 'bests', 'bestseller', 'bestselling', 'bet', 'beta', 'betamax', 'bethnal', 'betrayal', 'betrayed', 'betraying', 'bets', 'betsen', 'better', 'bettered', 'betting', 'betts', 'bevan', 'beverly', 'bewildered', 'bewildering', 'bewilderment', 'bewlay', 'bex', 'beyonce', 'bez', 'bhanu', 'bharti', 'bhi', 'bhp', 'bhutto', 'biarritz', 'bias', 'biased', 'bible', 'biblical', 'bibliographies', 'bicester', 'bickering', 'bicycles', 'bid', 'bidder', 'bidders', 'bidding', 'bide', 'bids', 'bifa', 'big', 'bigger', 'biggest', 'bigley', 'bigoted', 'bigotry', 'bigots', 'bike', 'bilateral', 'bilingual', 'biljon', 'billboard', 'billboards', 'billed', 'billing', 'billingsgate', 'billion', 'billionaire', 'billions', 'billiton', 'bills', 'billy', 'bin', 'binding', 'binge', 'bingham', 'bingley', 'bingo', 'binned', 'binoche', 'biocidal', 'biogen', 'biographer', 'biography', 'biological', 'biology', 'biometric', 'biometrics', 'biopic', 'biotech', 'bipedal', 'birch', 'birchfield', 'bird', 'birkenhead', 'birkett', 'birmingham', 'birth', 'birthday', 'birthdays', 'birthistle', 'biscan', 'biscuit', 'bisected', 'bishop', 'bishops', 'bit', 'bite', 'biting', 'bits', 'bitter', 'bittersweet', 'bittorrent', 'biz', 'bizarre', 'bizet', 'bjorgo', 'bjorkman', 'bjorn', 'black', 'blackadder', 'blackberries', 'blackberry', 'blackburn', 'blackground', 'blacklists', 'blackmail', 'blackmailed', 'blackpool', 'blacks', 'blackwatch', 'blade', 'blair', 'blairite', 'blairs', 'blake', 'blame', 'blamed', 'blames', 'blaming', 'blanchard', 'blanche', 'blanchett', 'bland', 'blank', 'blass', 'blast', 'blasted', 'blasters', 'blasting', 'blasts', 'blatant', 'blatantly', 'blazed', 'blazers', 'blazin', 'blazing', 'blb', 'bleak', 'bleakest', 'bleakly', 'blears', 'bled', 'bleep', 'bleeps', 'blemish', 'blend', 'blending', 'bless', 'blessed', 'blessing', 'blethyn', 'bleus', 'blew', 'blige', 'blight', 'blighted', 'blighting', 'blind', 'blindingly', 'blinked', 'blinkx', 'blinx', 'blip', 'blistering', 'blisters', 'blitz', 'blizzard', 'bloc', 'block', 'blockbuster', 'blockbusters', 'blocked', 'blocking', 'blocks', 'blog', 'blogged', 'blogger', 'bloggers', 'blogging', 'bloglines', 'blogosphere', 'blogs', 'blogsphere', 'bloke', 'blom', 'blomefontein', 'blood', 'bloody', 'bloom', 'bloomberg', 'blooming', 'bloomingdale', 'bloopers', 'blossoming', 'blow', 'blowers', 'blowing', 'blown', 'blows', 'blu', 'blue', 'bluegrass', 'bluephone', 'blueprint', 'blueprints', 'blues', 'bluetooth', 'bluewater', 'blunkett', 'blunt', 'bluntly', 'blur', 'blurred', 'blurs', 'blushed', 'blushes', 'blushing', 'blustery', 'blythe', 'bmg', 'bmr', 'bmw', 'bn', 'bnp', 'bo', 'board', 'boarding', 'boardroom', 'boards', 'boasts', 'boat', 'boateng', 'boats', 'bob', 'bobbitt', 'bobby', 'bobs', 'boca', 'bode', 'bodes', 'bodied', 'bodies', 'bodinat', 'bodleian', 'body', 'bodyguard', 'boe', 'boeing', 'boerse', 'bofra', 'bogart', 'bogdanovic', 'bogota', 'bogus', 'boi', 'boil', 'boiled', 'boiler', 'boils', 'boingboing', 'boix', 'boks', 'bold', 'bolder', 'bollan', 'bollywood', 'bolster', 'bolted', 'bolton', 'bolts', 'bomb', 'bombard', 'bombarded', 'bombardier', 'bombards', 'bombastic', 'bombay', 'bombers', 'bombing', 'bombings', 'bombs', 'bona', 'bonar', 'bond', 'bondarenko', 'bonderman', 'bondholders', 'bondi', 'bonds', 'bondy', 'bone', 'bones', 'bonfire', 'bonham', 'bonhams', 'bonn', 'bonnaire', 'bonnie', 'bonny', 'bono', 'bonus', 'bonuses', 'boogeyman', 'book', 'booked', 'booker', 'bookies', 'booking', 'bookings', 'bookmaker', 'bookmakers', 'bookrunners', 'books', 'booksellers', 'bookshelves', 'bookshops', 'boom', 'boomed', 'booming', 'booms', 'boost', 'boosted', 'boosting', 'boosts', 'boot', 'booted', 'bootle', 'boots', 'booy', 'booz', 'booze', 'boramae', 'border', 'borders', 'bordesley', 'bore', 'bored', 'boring', 'boris', 'born', 'borne', 'boro', 'borough', 'boroughs', 'borrell', 'borrow', 'borrowed', 'borrowers', 'borrowing', 'bortey', 'borthwick', 'bortolami', 'borussia', 'bosch', 'boscholt', 'bosphorus', 'boss', 'bosses', 'bossy', 'boston', 'bosvelt', 'bosworth', 'bot', 'botha', 'bother', 'bothered', 'bots', 'botswana', 'bottle', 'bottled', 'bottlenecks', 'bouba', 'boudewijn', 'bought', 'boukar', 'boulevard', 'boulton', 'bounce', 'bounced', 'bouncers', 'bouncing', 'bound', 'boundaries', 'boundary', 'bounded', 'bounty', 'bouquets', 'bourgoin', 'bourn', 'bourne', 'bournemouth', 'bout', 'bovina', 'bow', 'bowden', 'bowe', 'bowers', 'bowie', 'bowl', 'bowles', 'bowman', 'box', 'boxer', 'boxes', 'boxing', 'boy', 'boyd', 'boyfriend', 'boyfriends', 'boynton', 'boys', 'boyzone', 'bozell', 'bozzi', 'bp', 'bpd', 'bpi', 'br', 'brabeck', 'brace', 'braced', 'bracing', 'brackets', 'bracknell', 'brad', 'bradfield', 'bradford', 'bradley', 'bradshaw', 'brady', 'braff', 'brag', 'bragging', 'braille', 'brain', 'brains', 'brainwave', 'brake', 'brakes', 'braking', 'bramham', 'branch', 'branches', 'brand', 'branded', 'branding', 'brando', 'brands', 'brankin', 'brannen', 'branson', 'brass', 'brave', 'bravely', 'bravery', 'bravest', 'brawl', 'brawn', 'brazil', 'brazilian', 'brazilians', 'brc', 'breach', 'breached', 'breaches', 'breaching', 'bread', 'breadline', 'breadth', 'break', 'breakdown', 'breakdowns', 'breaker', 'breakers', 'breakfast', 'breaking', 'breakneck', 'breaks', 'breakthrough', 'breast', 'breath', 'breathalysed', 'breathe', 'breathed', 'breathing', 'breathtaking', 'brebner', 'breed', 'breeding', 'breezes', 'bremner', 'brenda', 'brendan', 'brennan', 'brent', 'brentford', 'brett', 'breville', 'brewer', 'breweries', 'brewers', 'brewery', 'brewing', 'breyer', 'brian', 'bribe', 'bribery', 'bribes', 'bribing', 'brick', 'bricks', 'bride', 'bridge', 'bridgehead', 'bridgepoint', 'bridges', 'bridget', 'bridgewell', 'brie', 'brief', 'briefcase', 'briefed', 'briefing', 'briefings', 'briefly', 'brien', 'briggs', 'bright', 'brightcove', 'brighten', 'brighter', 'brightest', 'brightly', 'brightmail', 'brighton', 'brigitte', 'brilliance', 'brilliant', 'brilliantly', 'brimming', 'brindley', 'bring', 'bringing', 'brings', 'brink', 'brinkman', 'brisbane', 'bristol', 'brit', 'britain', 'britannia', 'british', 'britney', 'britneys', 'briton', 'britons', 'britpop', 'brits', 'britten', 'britton', 'britz', 'brive', 'brixton', 'brizzel', 'broad', 'broadband', 'broadcast', 'broadcaster', 'broadcasters', 'broadcasting', 'broadcasts', 'broaden', 'broadened', 'broader', 'broadly', 'broadreach', 'broadsheet', 'broadside', 'broadus', 'broadway', 'broccoli', 'brockstein', 'brody', 'broes', 'brokaw', 'broke', 'broken', 'broker', 'brokerage', 'brokered', 'brokers', 'brom', 'bromesberrow', 'bromsgrove', 'bromwich', 'bronchitis', 'bronze', 'bronzes', 'brooker', 'brookings', 'brooks', 'brookside', 'brookstein', 'bros', 'brosnan', 'brothels', 'brother', 'brotherhood', 'brothers', 'brought', 'brown', 'browne', 'brownie', 'brownlees', 'brownsville', 'brownsword', 'browse', 'browsed', 'browser', 'browsers', 'browses', 'browsing', 'bruce', 'bruer', 'bruins', 'bruised', 'bruises', 'bruising', 'brunei', 'bruni', 'brunini', 'bruno', 'brunswick', 'brusca', 'brush', 'brushed', 'brushes', 'brussels', 'brutal', 'brutally', 'brute', 'bryan', 'bryce', 'bryn', 'bryson', 'bsa', 'bse', 'bskyb', 'bsl', 'bst', 'bt', 'bubble', 'bubbles', 'bubbling', 'buccaneer', 'buccaneers', 'bucharest', 'buck', 'bucket', 'buckfield', 'bucking', 'buckingham', 'buckinghamshire', 'buckland', 'buckling', 'bud', 'budapest', 'budd', 'buddhist', 'buddy', 'budge', 'budget', 'budgetary', 'budgeted', 'budgets', 'buds', 'buena', 'buenos', 'buffel', 'buffs', 'bug', 'bugs', 'buick', 'build', 'builder', 'builders', 'building', 'buildings', 'builds', 'buildyourown', 'built', 'buju', 'bulbs', 'bulgaria', 'bulgarian', 'bulging', 'bulk', 'bulky', 'bull', 'bullet', 'bulletin', 'bulletins', 'bullets', 'bullfrog', 'bullish', 'bulloch', 'bullock', 'bulls', 'bully', 'bullying', 'bump', 'bumped', 'bumper', 'bumping', 'bumps', 'bunch', 'bundesbank', 'bundle', 'bundled', 'bundling', 'bunker', 'bunnymen', 'bunuel', 'buoy', 'buoyant', 'buoyed', 'buoying', 'bupa', 'burberry', 'burchill', 'burden', 'burdened', 'burdens', 'burdensome', 'bureau', 'bureaucracy', 'bureaucratic', 'bureaucrats', 'burgas', 'burgeoning', 'burger', 'burgess', 'burglar', 'burglars', 'burgle', 'buried', 'buries', 'burka', 'burke', 'burma', 'burn', 'burner', 'burnett', 'burning', 'burnish', 'burnley', 'burnout', 'burns', 'burrell', 'bursary', 'burst', 'bursting', 'burstow', 'bursts', 'burt', 'bury', 'burying', 'bus', 'buscemi', 'busch', 'bush', 'bushtucker', 'busier', 'busiest', 'business', 'businesses', 'businessman', 'bussell', 'bust', 'busted', 'busting', 'busy', 'butcher', 'bute', 'butler', 'butlers', 'butragueno', 'butt', 'butters', 'butting', 'button', 'buttons', 'buxton', 'buy', 'buyback', 'buybacks', 'buyer', 'buyers', 'buying', 'buyout', 'buys', 'buzz', 'buzzing', 'buzzwords', 'bwv', 'bye', 'byline', 'bypassed', 'bypassing', 'byrne', 'byron', 'c180', 'c4', 'ca', 'cab', 'caballeros', 'cabin', 'cabinet', 'cabinets', 'cabir', 'cable', 'cables', 'cabs', 'cachet', 'cactus', 'cadbury', 'cadena', 'cadillac', 'cadmium', 'caf', 'cafe', 'cafes', 'cafod', 'cafu', 'cagigal', 'cahill', 'caillet', 'caire', 'cairn', 'cairo', 'cake', 'calculate', 'calculated', 'calculations', 'calculator', 'calculators', 'calcutta', 'calder', 'caldwell', 'caledonian', 'calendar', 'calf', 'calibre', 'calico', 'california', 'calisto', 'callaghan', 'called', 'calleri', 'callers', 'calling', 'callow', 'calls', 'calm', 'calmer', 'calming', 'calorie', 'calum', 'calvin', 'calvisano', 'calyon', 'camara', 'camaraderie', 'cambiemos', 'cambodia', 'cambridge', 'cambridgeshire', 'camcorder', 'camcorders', 'camden', 'came', 'camels', 'cameo', 'camera', 'cameras', 'cameron', 'cameroon', 'cameroonians', 'camilla', 'camille', 'camp', 'campaign', 'campaigned', 'campaigner', 'campaigners', 'campaigning', 'campaigns', 'campbell', 'campell', 'camper', 'camps', 'cams', 'canada', 'canadian', 'canal', 'canale', 'canary', 'canas', 'canberra', 'cancel', 'cancellation', 'cancellations', 'cancelled', 'cancelling', 'cancels', 'cancer', 'candela', 'candid', 'candidate', 'candidates', 'candidly', 'candillon', 'cannabidiol', 'cannabis', 'canned', 'cannes', 'cannibalism', 'cannibals', 'cannings', 'cannisters', 'cannon', 'canny', 'canopy', 'cantata', 'canterbury', 'cantona', 'canvas', 'canvass', 'canvassers', 'canvassing', 'canyon', 'cao', 'cap', 'capabilities', 'capability', 'capable', 'capacities', 'capacity', 'cape', 'capella', 'capellas', 'caper', 'capgemini', 'capital', 'capitalisation', 'capitalise', 'capitalised', 'capitol', 'capitulation', 'capleton', 'capped', 'capping', 'capra', 'capriati', 'caprice', 'caps', 'capt', 'captain', 'captaincy', 'captained', 'caption', 'captioning', 'captivated', 'captivity', 'capture', 'captured', 'captures', 'capturing', 'car', 'cara', 'caramel', 'caravaggio', 'caravan', 'carbon', 'carbonated', 'card', 'carded', 'carderplanet', 'cardiff', 'cards', 'cardwell', 'care', 'cared', 'career', 'careers', 'careful', 'carefully', 'careless', 'carer', 'carers', 'cares', 'caretaker', 'carey', 'carfax', 'carib', 'caribbean', 'caribs', 'caricatures', 'caring', 'carl', 'carla', 'carling', 'carlish', 'carlisle', 'carlo', 'carlos', 'carlsen', 'carly', 'carmaker', 'carmakers', 'carmaking', 'carman', 'carmen', 'carnival', 'carol', 'carolina', 'caroline', 'carpenter', 'carpet', 'carr', 'carradine', 'carragher', 'carrey', 'carrick', 'carried', 'carrier', 'carriers', 'carries', 'carroll', 'carrow', 'carry', 'carrying', 'cars', 'carsley', 'carson', 'carswell', 'carta', 'cartagena', 'carte', 'cartel', 'carter', 'carthy', 'cartilage', 'cartoon', 'cartridge', 'carvalho', 'carve', 'carved', 'carvel', 'carving', 'carwyn', 'cas', 'casablanca', 'casalme', 'case', 'cases', 'casey', 'cash', 'cashed', 'casino', 'casinos', 'casio', 'caspian', 'cassette', 'cast', 'castaldo', 'casting', 'castle', 'castor', 'castro', 'castrogiovanni', 'casts', 'casual', 'casualties', 'casualty', 'cat', 'catalan', 'catalina', 'catalogue', 'catalogues', 'cataloguing', 'catalysed', 'catalyst', 'catapulted', 'catastrophe', 'catastrophes', 'catch', 'catching', 'catchy', 'cate', 'categorically', 'categories', 'categorisation', 'categorise', 'category', 'catering', 'cates', 'cathal', 'catherina', 'catherine', 'catholic', 'catholics', 'cathy', 'cats', 'catsuit', 'cattle', 'cattrall', 'catwoman', 'caudwell', 'caught', 'cauldron', 'cause', 'caused', 'causes', 'causeway', 'causing', 'caustic', 'caution', 'cautioned', 'cautions', 'cautious', 'cautiously', 'cavalcade', 'cavalier', 'cavanagh', 'cave', 'cayenne', 'cazalets', 'cb', 'cbbc', 'cbi', 'cbo', 'cbs', 'ccf', 'cctv', 'cd', 'cdp', 'cds', 'cea', 'cease', 'ceased', 'ceasefire', 'cec', 'cech', 'cecil', 'cedric', 'ceiling', 'celebrate', 'celebrated', 'celebrates', 'celebrating', 'celebration', 'celebrations', 'celebrities', 'celebrity', 'celeron', 'celestine', 'cell', 'cellery', 'cellnet', 'cells', 'celltick', 'celta', 'celtic', 'celts', 'cement', 'cemented', 'cemetery', 'censor', 'censored', 'censors', 'cent', 'centenary', 'center', 'centimetres', 'centr', 'central', 'centralisation', 'centrally', 'centre', 'centred', 'centrepiece', 'centres', 'centring', 'cents', 'centuries', 'century', 'ceo', 'cepes', 'ceplak', 'cept', 'ceremonies', 'ceremony', 'ceri', 'cern', 'certain', 'certainly', 'certainty', 'certificate', 'certification', 'certified', 'ces', 'cesar', 'cesc', 'cessna', 'cfa', 'cfca', 'cfx', 'cga', 'cgi', 'chabal', 'chagrin', 'chain', 'chained', 'chains', 'chainsaw', 'chair', 'chaired', 'chairing', 'chairman', 'chairmanship', 'chairmen', 'chairs', 'chaiyasoot', 'chakkara', 'chakrabarti', 'chalk', 'challenge', 'challenged', 'challenger', 'challengers', 'challenges', 'challenging', 'chamber', 'chambers', 'chambre', 'champagne', 'champion', 'champions', 'championship', 'championships', 'chan', 'chancay', 'chance', 'chancellor', 'chancellors', 'chances', 'chancing', 'chandler', 'chang', 'change', 'changeable', 'changed', 'changeover', 'changer', 'changes', 'changi', 'changing', 'chango', 'channel', 'channels', 'chanting', 'chants', 'chaos', 'chaotic', 'chap', 'chapel', 'chaplin', 'chapman', 'chapter', 'chapters', 'character', 'characterised', 'characterises', 'characteristically', 'characters', 'charade', 'charbonnier', 'charcote', 'charge', 'charged', 'charges', 'charging', 'charing', 'charismatic', 'charitable', 'charities', 'charity', 'charlatans', 'charleroi', 'charles', 'charlie', 'charlize', 'charlotte', 'charlton', 'charly', 'charm', 'charming', 'charms', 'chart', 'charted', 'charter', 'chartered', 'chartering', 'charting', 'charts', 'charvis', 'chase', 'chased', 'chasing', 'chassis', 'chat', 'chatham', 'chatrooms', 'chatshow', 'chatted', 'chatter', 'chauvinistic', 'chavez', 'cheap', 'cheapened', 'cheaper', 'cheapest', 'cheaply', 'cheapness', 'cheating', 'cheats', 'check', 'checked', 'checking', 'checkpoints', 'checks', 'cheekbone', 'cheeky', 'cheer', 'cheerful', 'cheerleader', 'cheers', 'cheese', 'cheeses', 'cheetham', 'chef', 'chela', 'chelsea', 'chemical', 'chemicals', 'chemistry', 'chen', 'cheney', 'chennai', 'chepkemei', 'cheque', 'cherie', 'cherish', 'cherished', 'cherkasova', 'chernin', 'cheshire', 'cheslea', 'chest', 'chester', 'cheung', 'chevrolet', 'chevrontexaco', 'chia', 'chic', 'chicago', 'chicken', 'chicoine', 'chidambaram', 'chides', 'chief', 'chiefs', 'chieko', 'chiffon', 'chiffre', 'chihwaseon', 'child', 'childcare', 'childe', 'childhood', 'childlike', 'children', 'childs', 'chile', 'chilean', 'chill', 'chilly', 'chin', 'china', 'chinese', 'chino', 'chip', 'chipped', 'chipping', 'chips', 'chirac', 'chit', 'chittabrata', 'chocolate', 'choice', 'choices', 'choir', 'choking', 'cholesterol', 'chomsky', 'chongqing', 'chook', 'choose', 'chooses', 'choosing', 'chop', 'chopin', 'chopped', 'chore', 'choreographed', 'choreographers', 'choreography', 'choristes', 'chorus', 'chose', 'chosen', 'chris', 'chrissie', 'christ', 'christchurch', 'christian', 'christianity', 'christie', 'christina', 'christmas', 'christmases', 'christophe', 'christopher', 'christos', 'chromium', 'chronic', 'chronically', 'chronicle', 'chronicles', 'chronology', 'chronometer', 'chrysler', 'chubb', 'chum', 'chung', 'chunk', 'church', 'churches', 'churchill', 'churlishly', 'churn', 'churning', 'chuter', 'cia', 'ciara', 'cibc', 'cicero', 'cigala', 'cigarettes', 'cigars', 'cincinnati', 'cinema', 'cinemas', 'cinematic', 'cinematographer', 'cinematographically', 'cinematography', 'ciphertrust', 'cips', 'circle', 'circles', 'circling', 'circuit', 'circuits', 'circular', 'circulated', 'circulating', 'circulation', 'circumstances', 'circumvent', 'circuses', 'cisco', 'cisse', 'cite', 'cited', 'cites', 'cities', 'citigroup', 'citing', 'citizen', 'citizens', 'citizenship', 'citroen', 'citu', 'city', 'civic', 'civil', 'civilian', 'civilians', 'civilisation', 'civilised', 'cj', 'ckx', 'cl', 'claassens', 'claes', 'claim', 'claimant', 'claimed', 'claiming', 'claims', 'claire', 'clam', 'clamour', 'clamp', 'clampdown', 'clampett', 'clamping', 'clamshell', 'clandestine', 'clank', 'clans', 'clapping', 'clapton', 'claquin', 'clara', 'clare', 'clarence', 'clarets', 'claridge', 'clarified', 'clarify', 'clarifying', 'clarity', 'clark', 'clarke', 'clarkson', 'clash', 'clashed', 'clashes', 'class', 'classed', 'classes', 'classic', 'classical', 'classics', 'classification', 'classifications', 'classified', 'classroom', 'classy', 'claude', 'claudia', 'claudio', 'clause', 'clauses', 'clawed', 'claws', 'claxton', 'clay', 'clayton', 'clean', 'cleaned', 'cleaner', 'cleaners', 'cleaning', 'clear', 'clearance', 'cleared', 'clearer', 'clearest', 'clearing', 'clearly', 'clearskies', 'clearstream', 'clearswift', 'cleese', 'clem', 'clement', 'clemente', 'clergy', 'clergyman', 'clerical', 'clerk', 'clermont', 'cleveland', 'clever', 'cleverly', 'cliche', 'clichy', 'click', 'clicked', 'clicking', 'clicks', 'client', 'clients', 'cliff', 'cliffhanger', 'clifford', 'clijsters', 'climan', 'climate', 'climax', 'climb', 'climbed', 'climbing', 'climbs', 'clinch', 'clinched', 'clinches', 'clinching', 'cling', 'clinging', 'clinic', 'clinical', 'clinically', 'clint', 'clinton', 'clipped', 'clips', 'cliques', 'clitheroe', 'clive', 'clock', 'clocked', 'clocking', 'clockwork', 'cloete', 'clog', 'clogged', 'clones', 'cloning', 'clooney', 'close', 'closed', 'closely', 'closer', 'closes', 'closest', 'closet', 'closets', 'closing', 'closure', 'closures', 'clothe', 'clothes', 'clothing', 'cloud', 'clouded', 'clouding', 'clown', 'club', 'club2school', 'clubbing', 'clubman', 'clubs', 'clue', 'cluedo', 'clues', 'cluley', 'clump', 'clumsily', 'clumsy', 'clunes', 'clung', 'clutch', 'clutches', 'clutter', 'clyde', 'cmf', 'cml', 'cnpc', 'coach', 'coached', 'coaches', 'coaching', 'coachmen', 'coal', 'coalition', 'coarse', 'coast', 'coastal', 'coasted', 'coat', 'coatings', 'coax', 'cobain', 'cobblestones', 'cobh', 'cobhwoman', 'cocaine', 'cochilco', 'cock', 'cockbain', 'cockerell', 'cockerill', 'cocktail', 'coddled', 'code', 'coded', 'codelco', 'codemasters', 'codename', 'codenamed', 'coders', 'codes', 'coffee', 'coffers', 'coghlan', 'cogniron', 'cohen', 'coherence', 'coherent', 'cohesion', 'cohorts', 'coin', 'coincide', 'coincided', 'coincidence', 'coincidental', 'coincidentally', 'coined', 'coins', 'cojedes', 'coking', 'col', 'cola', 'colchester', 'cold', 'colder', 'coldplay', 'cole', 'coleman', 'colen', 'coleraine', 'colgan', 'colin', 'collaborate', 'collaborated', 'collaborating', 'collaboration', 'collaborations', 'collaborative', 'collaborator', 'collapse', 'collapsed', 'collateral', 'colleague', 'colleagues', 'collect', 'collected', 'collecting', 'collection', 'collections', 'collective', 'collector', 'collectors', 'collects', 'college', 'colleges', 'collegiate', 'collide', 'collided', 'colliding', 'collier', 'collins', 'collision', 'colloquial', 'colluded', 'colludes', 'colombia', 'colombian', 'colonel', 'colonisation', 'colony', 'colorado', 'colosseum', 'colossus', 'colour', 'coloured', 'colourful', 'colours', 'coltrane', 'columbia', 'column', 'columnist', 'columns', 'com', 'coma', 'comb', 'combat', 'combatant', 'combatants', 'combating', 'combats', 'combination', 'combine', 'combined', 'combines', 'combining', 'combs', 'come', 'comeback', 'comedian', 'comedians', 'comedic', 'comedies', 'comedy', 'comes', 'comfort', 'comfortable', 'comfortably', 'comic', 'comics', 'coming', 'command', 'commanded', 'commandeered', 'commander', 'commanders', 'commands', 'commences', 'commendable', 'comment', 'commentary', 'commentator', 'commentators', 'commented', 'commenting', 'comments', 'commerce', 'commercial', 'commercialisation', 'commercialised', 'commercially', 'commercials', 'commission', 'commissioned', 'commissioner', 'commissioners', 'commissions', 'commit', 'commitment', 'commitments', 'committed', 'committee', 'committees', 'committing', 'commoditising', 'commodity', 'commodore', 'common', 'commonly', 'commonplace', 'commons', 'commonwealth', 'communicate', 'communicated', 'communicating', 'communication', 'communications', 'communicator', 'communiqu', 'communism', 'communist', 'communists', 'communities', 'community', 'commuters', 'compact', 'companies', 'companion', 'companions', 'company', 'comparable', 'comparatively', 'compare', 'compared', 'compares', 'comparing', 'comparison', 'comparisons', 'compass', 'compassion', 'compatibility', 'compatible', 'compatriot', 'compatriots', 'compelled', 'compelling', 'compensate', 'compensated', 'compensation', 'compete', 'competed', 'competences', 'competency', 'competent', 'competes', 'competing', 'competition', 'competitions', 'competitive', 'competitiveness', 'competitor', 'competitors', 'competitve', 'compilation', 'compile', 'compiled', 'compiles', 'compiling', 'complacency', 'complacent', 'complain', 'complained', 'complaining', 'complains', 'complaint', 'complaints', 'complement', 'complete', 'completed', 'completely', 'completes', 'completing', 'completion', 'completions', 'complex', 'complexes', 'complexities', 'complexity', 'compliance', 'complicated', 'complied', 'complimentary', 'comply', 'component', 'components', 'composed', 'composer', 'composers', 'composite', 'composition', 'compositions', 'composure', 'compounded', 'comprehensive', 'comprehensively', 'compress', 'compressed', 'compressing', 'compression', 'comprise', 'comprised', 'comprises', 'comprising', 'compromise', 'compromised', 'compromises', 'compromising', 'comptia', 'comptroller', 'compulsive', 'compulsory', 'computational', 'computer', 'computerandvideogames', 'computerised', 'computers', 'computing', 'conceal', 'concealed', 'concealing', 'conceals', 'concede', 'conceded', 'conceding', 'conceivable', 'conceived', 'concentrate', 'concentrated', 'concentrates', 'concentrating', 'concentration', 'concept', 'conceptually', 'concern', 'concerned', 'concerning', 'concerns', 'concert', 'concerted', 'concerts', 'concession', 'concessions', 'conchita', 'conciliation', 'concise', 'conclude', 'concluded', 'concludes', 'concluding', 'conclusion', 'conclusions', 'conclusive', 'conclusively', 'concrete', 'concurrently', 'condemned', 'condemning', 'condemns', 'condition', 'conditions', 'condoleezza', 'condom', 'condoms', 'conduct', 'conducted', 'conducting', 'conductive', 'conductor', 'conducts', 'confectionery', 'confederation', 'conference', 'conferences', 'conferencing', 'conferring', 'confess', 'confessed', 'confesses', 'confessions', 'confided', 'confidence', 'confident', 'confidential', 'confidentiality', 'confidently', 'confined', 'confines', 'confining', 'confirm', 'confirmation', 'confirmed', 'confirming', 'confirms', 'conflict', 'conflicting', 'conflicts', 'conform', 'conformity', 'confound', 'confounded', 'confounding', 'confront', 'confrontation', 'confrontational', 'confronted', 'confuse', 'confused', 'confusing', 'confusingly', 'confusion', 'congdon', 'congenial', 'congested', 'congratulate', 'congratulated', 'congratulates', 'congratulations', 'congress', 'congressional', 'congressmen', 'conjoined', 'conjunction', 'conlon', 'conman', 'conmen', 'connaught', 'connect', 'connected', 'connecting', 'connection', 'connections', 'connectivity', 'connectors']\n"
     ]
    }
   ],
   "source": [
    "feature_names = vectorizer.get_feature_names()\n",
    "\n",
    "print(len(feature_names))\n",
    "print(feature_names[:5000])"
   ]
  },
  {
   "cell_type": "code",
   "execution_count": 16,
   "metadata": {},
   "outputs": [
    {
     "name": "stdout",
     "output_type": "stream",
     "text": [
      "  (0, 17445)\t1\n",
      "  (0, 9995)\t1\n",
      "  (0, 12503)\t1\n",
      "  (0, 3453)\t1\n",
      "  (0, 10576)\t1\n",
      "  (0, 17365)\t1\n",
      "  (0, 15898)\t1\n",
      "  (0, 14172)\t1\n",
      "  (0, 13311)\t1\n",
      "  (0, 21598)\t1\n",
      "  (0, 9276)\t1\n",
      "  (0, 17933)\t1\n",
      "  (0, 9043)\t1\n",
      "  (0, 21815)\t1\n",
      "  (0, 11056)\t1\n",
      "  (0, 19631)\t1\n",
      "  (0, 1274)\t1\n",
      "  (0, 10846)\t1\n",
      "  (0, 11975)\t1\n",
      "  (0, 368)\t2\n",
      "  (0, 20212)\t1\n",
      "  (0, 21511)\t1\n",
      "  (0, 13348)\t1\n",
      "  (0, 20020)\t1\n",
      "  (0, 6975)\t1\n",
      "  :\t:\n",
      "  (0, 3451)\t1\n",
      "  (0, 20367)\t2\n",
      "  (0, 1914)\t1\n",
      "  (0, 18591)\t1\n",
      "  (0, 9131)\t1\n",
      "  (0, 13926)\t1\n",
      "  (0, 20889)\t1\n",
      "  (0, 9056)\t2\n",
      "  (0, 9241)\t1\n",
      "  (0, 15661)\t1\n",
      "  (0, 2977)\t1\n",
      "  (0, 5919)\t1\n",
      "  (0, 1041)\t1\n",
      "  (0, 914)\t1\n",
      "  (0, 18076)\t1\n",
      "  (0, 4815)\t1\n",
      "  (0, 2204)\t1\n",
      "  (0, 21466)\t1\n",
      "  (0, 7378)\t1\n",
      "  (0, 19087)\t1\n",
      "  (0, 15154)\t1\n",
      "  (0, 9284)\t1\n",
      "  (0, 4806)\t1\n",
      "  (0, 151)\t1\n",
      "  (0, 17387)\t1\n"
     ]
    }
   ],
   "source": [
    "print(train_vector_data[23])"
   ]
  },
  {
   "cell_type": "code",
   "execution_count": 17,
   "metadata": {},
   "outputs": [],
   "source": [
    "import numpy.ma as ma\n",
    "\n",
    "def write_terms (feature_names, data, vector_data, index):\n",
    "    '''\n",
    "    Escribe los términos presentes en un mensaje representado como bolsa de palabras.\n",
    "    \n",
    "    - feature_names: terminos usados para vectorizar\n",
    "    - data: lista de mensajes original (si data==None no se muestra el mensaje original)\n",
    "    - vector_data: matriz (dispersa) de mensaje vectorizados\n",
    "    - index: posición del mensaje a mostrar\n",
    "    '''\n",
    "    # máscara para seleccionar sólo el mensaje en posición index\n",
    "    mask=vector_data[index,:]>0\n",
    "    \n",
    "    # términos que aparecen en ese mensaje vectorizado\n",
    "    terminos = ma.array(feature_names, mask = ~(mask[0].toarray()))\n",
    "    \n",
    "    # mostrar mensaje original\n",
    "    if data is not None:\n",
    "        print('Mensaje', index, ':', data[index])\n",
    "    \n",
    "    # mostrar términos que aparecen en el mensaje vectorizado\n",
    "    print('Mensaje', index, 'vectorizado:', terminos.compressed(),'\\n')"
   ]
  },
  {
   "cell_type": "markdown",
   "metadata": {},
   "source": [
    "Mostramos un mensaje aleatorio tanto entero como vectorizado y comparamos."
   ]
  },
  {
   "cell_type": "code",
   "execution_count": 18,
   "metadata": {},
   "outputs": [
    {
     "name": "stdout",
     "output_type": "stream",
     "text": [
      "Mensaje 23 : holmes starts 2005 with gb events kelly holmes will start 2005 with a series of races in britain.  holmes will make her first track appearance on home soil since winning double olympic gold in january s norwich union international in glasgow. she will also run in the grand prix in birmingham in february and may defend her indoor aaa 800m title in sheffield earlier that month.  i am still competitive and still want to win   she said.  i m an athlete and i can t wait to get back on the track.  she added:  these events are also a great opportunity to thank the british public for the enormous levels of support they have given me from the moment i stepped off that plane from greece.  the glasgow meeting will see holmes compete over 1500m in a five-way match against sweden  france  russia and italy.\n",
      "Mensaje 23 vectorizado: ['1500m' '2005' '800m' 'aaa' 'added' 'appearance' 'athlete' 'birmingham'\n",
      " 'britain' 'british' 'compete' 'competitive' 'defend' 'double' 'earlier'\n",
      " 'enormous' 'events' 'february' 'france' 'gb' 'given' 'glasgow' 'gold'\n",
      " 'grand' 'great' 'greece' 'holmes' 'home' 'indoor' 'international' 'italy'\n",
      " 'january' 'kelly' 'levels' 'make' 'match' 'meeting' 'moment' 'month'\n",
      " 'norwich' 'olympic' 'opportunity' 'plane' 'prix' 'public' 'races' 'run'\n",
      " 'russia' 'said' 'series' 'sheffield' 'soil' 'start' 'starts' 'stepped'\n",
      " 'support' 'sweden' 'thank' 'title' 'track' 'union' 'wait' 'want' 'way'\n",
      " 'win' 'winning'] \n",
      "\n"
     ]
    }
   ],
   "source": [
    "write_terms(feature_names, train_data['Text'].values , train_vector_data, 23)"
   ]
  },
  {
   "cell_type": "markdown",
   "metadata": {},
   "source": [
    "Observamos que se eliminan todas las palabras que no aportan significado como las preposiciones, conjunciones, pronombres y algunos verbos nominales o comunes. Estas son las palabras que están dentro del conjunto de stopped_words del ingés y son eliminadas para reducir la dimensionalidad de las matrices y para que el entrenador solo tenga las palabras más relevantes que en un principio van a servir para clasificar."
   ]
  },
  {
   "cell_type": "markdown",
   "metadata": {},
   "source": [
    "Para probar los clasificadores en el conjunto de prueba, debemos transformar también los mensajes en bolsas de palabras con TF/IDF usando el `CountVectorizer` y `TfidfTransformer` ajustados con el conjunto de entrenamiento."
   ]
  },
  {
   "cell_type": "code",
   "execution_count": 19,
   "metadata": {},
   "outputs": [],
   "source": [
    "tfidfer = TfidfTransformer()\n",
    "train_preprocessed = tfidfer.fit_transform(train_vector_data)\n",
    "# Tomamos los textos del conjunto de test y los transformamos en una matriz\n",
    "# de palabras. Al usar \"transform\" toma como referencia únicamente las palabras\n",
    "# encontradas en el conjunto de entrenamiento\n",
    "test_vector_data=vectorizer.transform(test_data['Text'])\n",
    "# Calculamos el valor TF-IDF \n",
    "# Al usar \"transform\" toma como IDF el del conjunto de entrenamiento \n",
    "test_preprocessed=tfidfer.transform(test_vector_data)"
   ]
  },
  {
   "cell_type": "markdown",
   "metadata": {},
   "source": [
    "A continuación vamos a utilizar un clasificador Naive Bayes Multinommial"
   ]
  },
  {
   "cell_type": "code",
   "execution_count": 20,
   "metadata": {},
   "outputs": [
    {
     "name": "stdout",
     "output_type": "stream",
     "text": [
      "Multinomial Naive Bayes, porcentaje de aciertos en entrenamiento: 0.9941275167785235\n",
      "Multinomial Naive Bayes, porcentaje de aciertos en test: 0.9563758389261745\n"
     ]
    }
   ],
   "source": [
    "from sklearn.naive_bayes import MultinomialNB\n",
    "\n",
    "mnb_classifier = MultinomialNB()\n",
    "\n",
    "mnb_classifier.fit(train_preprocessed, train_data['Category'])\n",
    "\n",
    "mnb_train_predictions = mnb_classifier.predict(train_preprocessed)\n",
    "mnb_test_predictions = mnb_classifier.predict(test_preprocessed)\n",
    "\n",
    "print(\"Multinomial Naive Bayes, porcentaje de aciertos en entrenamiento:\", np.mean(mnb_train_predictions == train_data['Category']))\n",
    "print(\"Multinomial Naive Bayes, porcentaje de aciertos en test:\", np.mean(mnb_test_predictions == test_data['Category']))"
   ]
  },
  {
   "cell_type": "markdown",
   "metadata": {},
   "source": [
    "Vemos que, a pesar de que este clasificador no tiene en cuenta la dependecia entre las palabras de un texto, para este ejemplo, en el que utilizamos un 80% del total para entrenarlo, funciona casi a la perfección. El clasificador aprende cómo de frecuente es cada clase y cómo de frecuente es que una palabra ocurra en cada clase. A la hora de clasificar un texto nuevo, en este caso sólo el 20% de los dados, el clasificador estima la probabilidad de que pertenezca a cada una de las clases y elige la más alta. \n",
    "Así pues, podemos suponer que las palabras clave elegidas por el algoritmo sí que ayudan enormemente a la clasificación de cada texto, siendo entonces palabras temáticas muy específicas, que en general, no se encuentran en textos de otros contenidos. "
   ]
  },
  {
   "cell_type": "code",
   "execution_count": 21,
   "metadata": {},
   "outputs": [
    {
     "name": "stdout",
     "output_type": "stream",
     "text": [
      "               precision    recall  f1-score   support\n",
      "\n",
      "     business       0.92      0.97      0.95        73\n",
      "     politics       1.00      0.93      0.97        61\n",
      "entertainment       0.95      0.93      0.94        60\n",
      "         tech       0.95      0.98      0.97        61\n",
      "        sport       0.98      0.95      0.96        43\n",
      "\n",
      "     accuracy                           0.96       298\n",
      "    macro avg       0.96      0.96      0.96       298\n",
      " weighted avg       0.96      0.96      0.96       298\n",
      "\n"
     ]
    }
   ],
   "source": [
    "from sklearn.metrics import classification_report, confusion_matrix\n",
    "\n",
    "# NOTA: Aquí elegimos analizar un determinado clasificador y sus predicciones \n",
    "# Por ejemplo el naive bayes\n",
    "classifier=mnb_classifier\n",
    "predictions = mnb_test_predictions\n",
    "\n",
    "print(classification_report(test_data['Category'], predictions, \n",
    "                            target_names=['business', 'politics', 'entertainment', 'tech', 'sport']))"
   ]
  },
  {
   "cell_type": "code",
   "execution_count": 22,
   "metadata": {},
   "outputs": [
    {
     "data": {
      "text/plain": [
       "(array([0.5, 1.5, 2.5, 3.5, 4.5]),\n",
       " [Text(0.5, 0, 'business'),\n",
       "  Text(1.5, 0, 'politics'),\n",
       "  Text(2.5, 0, 'entertainment'),\n",
       "  Text(3.5, 0, 'tech'),\n",
       "  Text(4.5, 0, 'sport')])"
      ]
     },
     "execution_count": 22,
     "metadata": {},
     "output_type": "execute_result"
    },
    {
     "data": {
      "image/png": "[encoded data removed]",
      "text/plain": [
       "<Figure size 1080x720 with 2 Axes>"
      ]
     },
     "metadata": {
      "needs_background": "light"
     },
     "output_type": "display_data"
    }
   ],
   "source": [
    "%matplotlib inline\n",
    "import seaborn as sn\n",
    "import matplotlib.pyplot as plt\n",
    "\n",
    "conf_matrix = confusion_matrix(test_data['Category'], predictions)\n",
    "conf_matrix_df = pd.DataFrame(conf_matrix, \n",
    "                              index=['business', 'politics', 'entertainment', 'tech', 'sport'], \n",
    "                              columns=['business', 'politics', 'entertainment', 'tech', 'sport'])\n",
    "\n",
    "plt.figure(figsize=(15, 10))\n",
    "sn.heatmap(conf_matrix_df, annot=True, vmin=0, vmax=conf_matrix.max(), fmt='d', cmap=\"YlGnBu\")\n",
    "plt.yticks(rotation=0)\n",
    "plt.xticks(rotation=90)"
   ]
  },
  {
   "cell_type": "markdown",
   "metadata": {},
   "source": [
    "Concluimos que nuestro clasificador es muy bueno ya que tiene un 0.96 en las tres medidas de media, un valor elevado para un clasificador. Vemos que, por ejemplo, la precisión en los textos de política es del 100% por lo que el clasificador es completamente fiable en el caso en el que clasifique a una noticia como política. El resto de categorías tienen también valores cercanos al uno."
   ]
  },
  {
   "cell_type": "markdown",
   "metadata": {},
   "source": [
    "A continuación, vamos a entrenar un clasificador kNN con esta vectorización y la configuración por defecto."
   ]
  },
  {
   "cell_type": "code",
   "execution_count": 23,
   "metadata": {},
   "outputs": [],
   "source": [
    "from sklearn import neighbors\n",
    "from sklearn.model_selection import cross_val_predict\n",
    "from sklearn.metrics import classification_report"
   ]
  },
  {
   "cell_type": "code",
   "execution_count": 24,
   "metadata": {},
   "outputs": [
    {
     "name": "stdout",
     "output_type": "stream",
     "text": [
      "k-NN, porcentaje de aciertos en entrenamiento: 0.959731543624161\n",
      "k-NN, porcentaje de aciertos en test: 0.9295302013422819\n"
     ]
    }
   ],
   "source": [
    "knn_classifier = neighbors.KNeighborsClassifier()\n",
    "knn_classifier.fit(train_preprocessed, train_data['Category'])\n",
    "\n",
    "knn_train_predictions = knn_classifier.predict(train_preprocessed)\n",
    "knn_test_predictions = knn_classifier.predict(test_preprocessed)\n",
    "\n",
    "print(\"k-NN, porcentaje de aciertos en entrenamiento:\", \n",
    "      np.mean(knn_train_predictions == train_data['Category']))\n",
    "print(\"k-NN, porcentaje de aciertos en test:\", \n",
    "      np.mean(knn_test_predictions == test_data['Category']))"
   ]
  },
  {
   "cell_type": "code",
   "execution_count": 25,
   "metadata": {},
   "outputs": [
    {
     "name": "stdout",
     "output_type": "stream",
     "text": [
      "               precision    recall  f1-score   support\n",
      "\n",
      "     business       0.91      0.93      0.92        73\n",
      "     politics       0.95      0.89      0.92        61\n",
      "entertainment       0.92      0.93      0.93        60\n",
      "         tech       0.94      0.98      0.96        61\n",
      "        sport       0.95      0.91      0.93        43\n",
      "\n",
      "     accuracy                           0.93       298\n",
      "    macro avg       0.93      0.93      0.93       298\n",
      " weighted avg       0.93      0.93      0.93       298\n",
      "\n"
     ]
    }
   ],
   "source": [
    "predictions = knn_classifier.predict(test_preprocessed)\n",
    "print(classification_report(test_data['Category'], predictions, \n",
    "                            target_names=['business', 'politics', 'entertainment', 'tech', 'sport']))"
   ]
  },
  {
   "cell_type": "code",
   "execution_count": 26,
   "metadata": {},
   "outputs": [
    {
     "data": {
      "text/plain": [
       "(array([0.5, 1.5, 2.5, 3.5, 4.5]),\n",
       " [Text(0.5, 0, 'business'),\n",
       "  Text(1.5, 0, 'politics'),\n",
       "  Text(2.5, 0, 'entertainment'),\n",
       "  Text(3.5, 0, 'tech'),\n",
       "  Text(4.5, 0, 'sport')])"
      ]
     },
     "execution_count": 26,
     "metadata": {},
     "output_type": "execute_result"
    },
    {
     "data": {
      "image/png": "[encoded data removed]",
      "text/plain": [
       "<Figure size 1080x720 with 2 Axes>"
      ]
     },
     "metadata": {
      "needs_background": "light"
     },
     "output_type": "display_data"
    }
   ],
   "source": [
    "conf_matrix = confusion_matrix(test_data['Category'], predictions)\n",
    "conf_matrix_df = pd.DataFrame(conf_matrix, \n",
    "                              index=['business', 'politics', 'entertainment', 'tech', 'sport'], \n",
    "                              columns=['business', 'politics', 'entertainment', 'tech', 'sport'])\n",
    "\n",
    "plt.figure(figsize=(15, 10))\n",
    "sn.heatmap(conf_matrix_df, annot=True, vmin=0, vmax=conf_matrix.max(), fmt='d', cmap=\"YlGnBu\")\n",
    "plt.yticks(rotation=0)\n",
    "plt.xticks(rotation=90)"
   ]
  },
  {
   "cell_type": "markdown",
   "metadata": {},
   "source": [
    "Vemos que el clasificador KNN es ligeramente peor que el anterior. Esto se debe a que sufre de la maldición de la dimensionalidad: las variables son del orden de millares, principal causa de la dimensión tan elevada, y, además, las palabras no suelen repetirse. \n",
    "Aún así, tiene valores de precisión y exhaustividad más que aceptables (rondando el 0.9), por lo que consideramos como fiable también a este clasificador. "
   ]
  },
  {
   "cell_type": "markdown",
   "metadata": {
    "id": "mbqVVeAk3yvI"
   },
   "source": [
    "## 3) Representación basada en word-embeddings\n",
    "\n",
    "La segunda vectorización que vamos a usar representará los mensajes usando word-embeddings. Cada documento se representará como el vector que resulta de promediar los embeddings de cada una de sus palabras. Al igual que en el apartado anterior, usaremos monogramas y las _stop words_ que vienen configuradas por defecto para el inglés. Recuerda usar como vocabulario para vectorizar el vocabulario del fichero con las word-embeddings. \n",
    "\n",
    "Entrena un clasificador Naive Bayes Gaussiano (el Multinomial no admite valores negativos que sí aparecen en los embeddings). Analiza el error por clase y dibuja la matriz de confusión.\n",
    "\n",
    "Entrena otro clasificador kNN con la nueva vectorización y la configuración por defecto y analiza su error."
   ]
  },
  {
   "cell_type": "markdown",
   "metadata": {},
   "source": [
    "Cargamos y traducimos el fichero de la words-embeddings de Glove al formato word2vec, que reconoce Gensim, que en realidad es prácticamente idéntico al que ya tenemos."
   ]
  },
  {
   "cell_type": "code",
   "execution_count": 27,
   "metadata": {},
   "outputs": [
    {
     "name": "stdout",
     "output_type": "stream",
     "text": [
      "Collecting gensim\n",
      "  Downloading gensim-4.1.2-cp38-cp38-win_amd64.whl (24.0 MB)\n",
      "Requirement already satisfied: Cython==0.29.23 in c:\\users\\usuario\\anaconda3\\lib\\site-packages (from gensim) (0.29.23)\n",
      "Requirement already satisfied: scipy>=0.18.1 in c:\\users\\usuario\\anaconda3\\lib\\site-packages (from gensim) (1.6.2)\n",
      "Requirement already satisfied: numpy>=1.17.0 in c:\\users\\usuario\\anaconda3\\lib\\site-packages (from gensim) (1.20.1)\n",
      "Collecting smart-open>=1.8.1\n",
      "  Downloading smart_open-5.2.1-py3-none-any.whl (58 kB)\n",
      "Installing collected packages: smart-open, gensim\n",
      "Successfully installed gensim-4.1.2 smart-open-5.2.1\n"
     ]
    }
   ],
   "source": [
    "!pip install gensim\n",
    "from gensim.scripts.glove2word2vec import glove2word2vec\n",
    "from gensim.models import KeyedVectors\n",
    "\n",
    "# Traducimos el fichero glove a un fichero con formato word2vec\n",
    "glove_file = 'glove.6B.50d.txt'\n",
    "#glove_file = '/content/drive/MyDrive/Asignaturas/IA/IA2_21-22/Material/PLN/tmp/practica/Parte 1/glove.6B.50d.txt'\n",
    "\n",
    "# Gensim 3 requiere hacerlo en varios pasos\n",
    "#word2vec_file = 'glove.6B.50d.txt.word2vec'\n",
    "#glove2word2vec(glove_file, word2vec_file)\n",
    "#model = KeyedVectors.load_word2vec_format(word2vec_file, binary=False)\n",
    "\n",
    "# Gensim 4 puede transformar de glove a word2vec directamente\n",
    "model = KeyedVectors.load_word2vec_format(glove_file, binary=False, no_header=True)"
   ]
  },
  {
   "cell_type": "markdown",
   "metadata": {},
   "source": [
    "Creamos un vocabulario con todas las palabras del word-embeddings"
   ]
  },
  {
   "cell_type": "code",
   "execution_count": 28,
   "metadata": {},
   "outputs": [
    {
     "name": "stdout",
     "output_type": "stream",
     "text": [
      "['the', ',', '.', 'of', 'to', 'and', 'in', 'a', '\"', \"'s\"]\n"
     ]
    }
   ],
   "source": [
    "we_vocabulary = list(model.key_to_index.keys())\n",
    "\n",
    "print(we_vocabulary[0:10])"
   ]
  },
  {
   "cell_type": "code",
   "execution_count": 29,
   "metadata": {},
   "outputs": [
    {
     "data": {
      "text/plain": [
       "<1192x400000 sparse matrix of type '<class 'numpy.int64'>'\n",
       "\twith 169636 stored elements in Compressed Sparse Row format>"
      ]
     },
     "execution_count": 29,
     "metadata": {},
     "output_type": "execute_result"
    }
   ],
   "source": [
    "# En vocabulary le pasamos el de la word-embedding, ponemos que pase los tokens a minusculas \n",
    "# Si ponemos binary a False coge frecuencias y si está en true presencia en modo binario\n",
    "vectorizerwe = CountVectorizer(vocabulary = we_vocabulary,stop_words='english', binary = False)\n",
    "\n",
    "# Tomamos los textos del conjunto de entrenamiento y los transformamos en \n",
    "# una matriz de datos (palabras) según el diccionario estándar\n",
    "train_vector_datawe=vectorizerwe.fit_transform(train_data['Text'])\n",
    "train_vector_datawe"
   ]
  },
  {
   "cell_type": "markdown",
   "metadata": {},
   "source": [
    "Lo que devuelve `vectorizer.fit_transform()` es una matriz dispersa ([scipy.sparse.csr_matrix](https://docs.scipy.org/doc/scipy/reference/generated/scipy.sparse.csr_matrix.html)).\n",
    "\n",
    "Necesitamos saber para cada documento qué términos (índices) están presentes (valor distinto de cero)."
   ]
  },
  {
   "cell_type": "code",
   "execution_count": 30,
   "metadata": {},
   "outputs": [],
   "source": [
    "from scipy.sparse import find\n",
    "\n",
    "\n",
    "def create_doc_embedding (doc_matrix_word_freq, keyedvectors):\n",
    "    \"\"\"\n",
    "    create_doc_embedding creates a doc-embedding matrix where rows are the \n",
    "    documents and columns are the dimensions of the word-embedding. Each row r\n",
    "    summarizes the vectors of the word-embeddings present in document r\n",
    "\n",
    "    :param doc_matrix_word_freq: frequency matrix of the terms in each document\n",
    "            It admits binary values, frequencies or weights.\n",
    "            It admits the output of vectorizer.fit_transform\n",
    "    :param keyedvectors: keyedvectors object from Gensim which has the \n",
    "            word-embedding information\n",
    "    :return: returns the doc-embedding matrix that summarizes the \n",
    "             vector-embeddings of the words present in each document\n",
    "    \"\"\" \n",
    "\n",
    "    \n",
    "    num_docs, num_words= doc_matrix_word_freq.get_shape()\n",
    "\n",
    "    # Creamos la matriz de documentos con tantas columnas como dimensiones tiene el we \n",
    "    doc_embed_matrix = np.zeros([num_docs,keyedvectors.vector_size])\n",
    "\n",
    "\n",
    "    # Obtenemos los documentos\n",
    "    docs, col, val = find(doc_matrix_word_freq)\n",
    "    docs = np.unique(docs)\n",
    "\n",
    "    # Para cada documento (esto se podrá hacer de forma más pythonica)\n",
    "    for doc in docs:\n",
    "      # Obtenemos las palabras presentes en el documento y su frecuencia\n",
    "      row, words, frecs = find(doc_matrix_word_freq[doc,:])\n",
    "\n",
    "      # Calculamos el vector medio para el documento\n",
    "      # Para ello recuperamos los vectores del we presentes en el documento y \n",
    "      # los promediamos teniendo en cuenta su frecuencia\n",
    "      count = 0\n",
    "      for w,f in zip(words,frecs):\n",
    "        doc_embed_matrix[doc,:] = doc_embed_matrix[doc,:] + (keyedvectors[w] * f)\n",
    "        count = count +1\n",
    "      doc_embed_matrix[doc,:] = doc_embed_matrix[doc,:]/count\n",
    "    \n",
    "      \n",
    "    return doc_embed_matrix"
   ]
  },
  {
   "cell_type": "code",
   "execution_count": 31,
   "metadata": {},
   "outputs": [
    {
     "data": {
      "text/plain": [
       "array([[ 0.15184353,  0.23212156, -0.18658831, ...,  0.14390812,\n",
       "        -0.26510242,  0.39763524],\n",
       "       [ 0.10988595,  0.2454965 ,  0.28276599, ...,  0.04349587,\n",
       "         0.316787  , -0.13520244],\n",
       "       [ 0.1033332 , -0.1054833 ,  0.56526239, ..., -0.0311638 ,\n",
       "        -0.10769761,  0.07153345],\n",
       "       ...,\n",
       "       [-0.12443175,  0.1322332 ,  0.31281526, ..., -0.1056725 ,\n",
       "        -0.0780379 ,  0.21207116],\n",
       "       [ 0.17293664,  0.00675873,  0.01593481, ...,  0.41879221,\n",
       "         0.15255979, -0.16684434],\n",
       "       [ 0.05444651, -0.01190014,  0.13009308, ...,  0.3612351 ,\n",
       "         0.26546411,  0.20610788]])"
      ]
     },
     "execution_count": 31,
     "metadata": {},
     "output_type": "execute_result"
    }
   ],
   "source": [
    "doc_embed_matrix = create_doc_embedding(train_vector_datawe,model)\n",
    "# contiene un vector \"embedding\" para cada documento\n",
    "doc_embed_matrix"
   ]
  },
  {
   "cell_type": "markdown",
   "metadata": {},
   "source": [
    "A continuación probamos el **NB Gaussiano**. \n"
   ]
  },
  {
   "cell_type": "code",
   "execution_count": 32,
   "metadata": {},
   "outputs": [
    {
     "data": {
      "text/plain": [
       "GaussianNB()"
      ]
     },
     "execution_count": 32,
     "metadata": {},
     "output_type": "execute_result"
    }
   ],
   "source": [
    "from sklearn.naive_bayes import GaussianNB\n",
    "\n",
    "gnb_classifier = GaussianNB()\n",
    "\n",
    "gnb_classifier.fit(doc_embed_matrix, train_data['Category'])"
   ]
  },
  {
   "cell_type": "markdown",
   "metadata": {},
   "source": [
    "Transformamos tambien los datos de test para probar el clasificador en los datos de prueba."
   ]
  },
  {
   "cell_type": "code",
   "execution_count": 45,
   "metadata": {},
   "outputs": [
    {
     "data": {
      "text/plain": [
       "array([[ 0.42321138,  0.1795468 ,  0.18902295, ..., -0.00895133,\n",
       "        -0.19408507, -0.31516479],\n",
       "       [-0.02952967,  0.00319127, -0.34733704, ..., -0.11835652,\n",
       "         0.20811419, -0.27923777],\n",
       "       [ 0.27468501,  0.28088513, -0.0322915 , ...,  0.36828946,\n",
       "        -0.09288609, -0.0808704 ],\n",
       "       ...,\n",
       "       [ 0.14940373,  0.15584969, -0.02434964, ..., -0.23369227,\n",
       "        -0.13647668,  0.12275208],\n",
       "       [ 0.32119034,  0.20821959,  0.71244849, ...,  0.71060981,\n",
       "        -0.23301065, -0.5088687 ],\n",
       "       [ 0.38197859,  0.03350476,  0.33621044, ...,  0.2597901 ,\n",
       "        -0.07746115,  0.10035202]])"
      ]
     },
     "execution_count": 45,
     "metadata": {},
     "output_type": "execute_result"
    }
   ],
   "source": [
    "test_vector_datawe=vectorizerwe.fit_transform(test_data['Text'])\n",
    "doc_test_embed_matrix = create_doc_embedding(test_vector_datawe,model)\n",
    "doc_test_embed_matrix"
   ]
  },
  {
   "cell_type": "code",
   "execution_count": 47,
   "metadata": {},
   "outputs": [
    {
     "name": "stdout",
     "output_type": "stream",
     "text": [
      "Gaussian Naive Bayes, porcentaje de aciertos en entrenamiento: 0.9404362416107382\n",
      "Gaussian Naive Bayes, porcentaje de aciertos en test: 0.9161073825503355\n"
     ]
    }
   ],
   "source": [
    "gnb_train_predictions = gnb_classifier.predict(doc_embed_matrix)\n",
    "gnb_test_predictions = gnb_classifier.predict(doc_test_embed_matrix)\n",
    "print(\"Gaussian Naive Bayes, porcentaje de aciertos en entrenamiento:\", np.mean(gnb_train_predictions == train_data['Category']))\n",
    "print(\"Gaussian Naive Bayes, porcentaje de aciertos en test:\", np.mean(gnb_test_predictions == test_data['Category']))"
   ]
  },
  {
   "cell_type": "markdown",
   "metadata": {},
   "source": [
    "Observamos un porcentaje de aciertos en entrenamiento del 94% y un 91% en test lo que es un porcentaje alto para nuestro clasificador pero comete bastantes fallos."
   ]
  },
  {
   "cell_type": "code",
   "execution_count": 48,
   "metadata": {},
   "outputs": [
    {
     "name": "stdout",
     "output_type": "stream",
     "text": [
      "               precision    recall  f1-score   support\n",
      "\n",
      "     business       0.92      0.90      0.91        73\n",
      "     politics       0.95      0.90      0.92        61\n",
      "entertainment       0.80      0.93      0.86        60\n",
      "         tech       0.98      0.95      0.97        61\n",
      "        sport       0.97      0.88      0.93        43\n",
      "\n",
      "     accuracy                           0.92       298\n",
      "    macro avg       0.92      0.91      0.92       298\n",
      " weighted avg       0.92      0.92      0.92       298\n",
      "\n"
     ]
    }
   ],
   "source": [
    "from sklearn.metrics import classification_report, confusion_matrix\n",
    "\n",
    "# NOTA: Aquí elegimos analizar un determinado clasificador y sus predicciones \n",
    "# Por ejemplo el naive bayes\n",
    "classifier= gnb_classifier\n",
    "predictions = gnb_test_predictions\n",
    "\n",
    "print(classification_report(test_data['Category'], predictions, \n",
    "                            target_names=['business', 'politics', 'entertainment', 'tech', 'sport']))"
   ]
  },
  {
   "cell_type": "markdown",
   "metadata": {},
   "source": [
    "Observamos que la media de precision, recall y f1 es de 0.92, 0.91 y 0.92 respectivamente lo cual es un resultado alto para un clasificador pero mejorable. El uso de word-embeddings permite clasificar correctamente la mayoría de las noticias capturando la similitud entre los términos que se emplean en los textos, sin embargo, esto es una aproximación tosca ya que resume un documento en base a sus palabras y es muy susceptible al ruido. Vemos que la categoría tech es la que mejor precisión, recall y f1 tiene. Esto se puede deber a que las palabras técnicas en un texto de esa categoría son muy específicas y seguramente no aparezcan palabras similares en un texto de las otras cuatro categorías. Sin embargo, en el caso de business y politics, que tienen peores medidas, podría deberse a que los textos de esas categorías podrían tener más palabras relacionadas a pesar de que el tema del texto sea diferente. Por ejemplo, un texto de business puede ir sobre su CEO, su organización etc. Algo parecido podría pasar entre todas las categorías y por eso decimos que puede ser una aproximación tosca. Vemos que los textos de entretenimiento son los que peores valores tienen. Esto se puede deber a que seguramente sean textos de temas más variados dedicados a entretener y que utilicen palabras de todo tipo que puedan tener relación con las palabras de los textos de otra categoría."
   ]
  },
  {
   "cell_type": "code",
   "execution_count": 49,
   "metadata": {},
   "outputs": [
    {
     "data": {
      "text/plain": [
       "(array([0.5, 1.5, 2.5, 3.5, 4.5]),\n",
       " [Text(0.5, 0, 'business'),\n",
       "  Text(1.5, 0, 'politics'),\n",
       "  Text(2.5, 0, 'entertainment'),\n",
       "  Text(3.5, 0, 'tech'),\n",
       "  Text(4.5, 0, 'sport')])"
      ]
     },
     "execution_count": 49,
     "metadata": {},
     "output_type": "execute_result"
    },
    {
     "data": {
      "image/png": "[encoded data removed]",
      "text/plain": [
       "<Figure size 1080x720 with 2 Axes>"
      ]
     },
     "metadata": {
      "needs_background": "light"
     },
     "output_type": "display_data"
    }
   ],
   "source": [
    "%matplotlib inline\n",
    "import seaborn as sn\n",
    "import matplotlib.pyplot as plt\n",
    "\n",
    "conf_matrix = confusion_matrix(test_data['Category'], predictions)\n",
    "conf_matrix_df = pd.DataFrame(conf_matrix, \n",
    "                              index=['business', 'politics', 'entertainment', 'tech', 'sport'], \n",
    "                              columns=['business', 'politics', 'entertainment', 'tech', 'sport'])\n",
    "\n",
    "plt.figure(figsize=(15, 10))\n",
    "sn.heatmap(conf_matrix_df, annot=True, vmin=0, vmax=conf_matrix.max(), fmt='d', cmap=\"YlGnBu\")\n",
    "plt.yticks(rotation=0)\n",
    "plt.xticks(rotation=90)"
   ]
  },
  {
   "cell_type": "markdown",
   "metadata": {},
   "source": [
    "Observamos en la matriz de confusión que por ejemplo, los textos de entretenimiento los confunde con todas las demás categorías. Esto se puede deber como hemos comentado antes a en un texto de entretenimiento seguramente se usen todo tipo de palabras dependiendo del tema en cuestión y por ello se pueden relacionar con textos de otra categoría que usen palabras relacionadas. Puede ocurrir lo mismo entre el resto de categorías dependiendo de las palabras que utilice cada texto pero observamos que de forma general nuestro clasificador funciona correctamente."
   ]
  },
  {
   "cell_type": "markdown",
   "metadata": {},
   "source": [
    "A continuación, vamos a entrenar un clasificador kNN con esta vectorización y la configuración por defecto."
   ]
  },
  {
   "cell_type": "code",
   "execution_count": 50,
   "metadata": {},
   "outputs": [
    {
     "name": "stdout",
     "output_type": "stream",
     "text": [
      "k-NN, porcentaje de aciertos en entrenamiento: 0.9773489932885906\n",
      "k-NN, porcentaje de aciertos en test: 0.9630872483221476\n"
     ]
    }
   ],
   "source": [
    "knn_classifier = neighbors.KNeighborsClassifier()\n",
    "knn_classifier.fit(doc_embed_matrix, train_data['Category'])\n",
    "\n",
    "knn_train_predictions = knn_classifier.predict(doc_embed_matrix)\n",
    "knn_test_predictionsWE = knn_classifier.predict(doc_test_embed_matrix)\n",
    "\n",
    "print(\"k-NN, porcentaje de aciertos en entrenamiento:\", \n",
    "      np.mean(knn_train_predictions == train_data['Category']))\n",
    "print(\"k-NN, porcentaje de aciertos en test:\", \n",
    "      np.mean(knn_test_predictionsWE == test_data['Category']))"
   ]
  },
  {
   "cell_type": "code",
   "execution_count": 51,
   "metadata": {},
   "outputs": [
    {
     "name": "stdout",
     "output_type": "stream",
     "text": [
      "               precision    recall  f1-score   support\n",
      "\n",
      "     business       0.97      0.95      0.96        73\n",
      "     politics       0.97      0.95      0.96        61\n",
      "entertainment       0.94      0.98      0.96        60\n",
      "         tech       0.98      0.98      0.98        61\n",
      "        sport       0.95      0.95      0.95        43\n",
      "\n",
      "     accuracy                           0.96       298\n",
      "    macro avg       0.96      0.96      0.96       298\n",
      " weighted avg       0.96      0.96      0.96       298\n",
      "\n"
     ]
    }
   ],
   "source": [
    "predictions = knn_classifier.predict(doc_test_embed_matrix)\n",
    "print(classification_report(test_data['Category'], predictions, \n",
    "                            target_names=['business', 'politics', 'entertainment', 'tech', 'sport']))"
   ]
  },
  {
   "cell_type": "code",
   "execution_count": 52,
   "metadata": {},
   "outputs": [
    {
     "data": {
      "text/plain": [
       "business         73\n",
       "entertainment    61\n",
       "sport            61\n",
       "politics         60\n",
       "tech             43\n",
       "Name: Category, dtype: int64"
      ]
     },
     "execution_count": 52,
     "metadata": {},
     "output_type": "execute_result"
    }
   ],
   "source": [
    "test_data['Category'].value_counts()\n"
   ]
  },
  {
   "cell_type": "code",
   "execution_count": 53,
   "metadata": {},
   "outputs": [
    {
     "data": {
      "text/plain": [
       "(array([0.5, 1.5, 2.5, 3.5, 4.5]),\n",
       " [Text(0.5, 0, 'business'),\n",
       "  Text(1.5, 0, 'politics'),\n",
       "  Text(2.5, 0, 'entertainment'),\n",
       "  Text(3.5, 0, 'tech'),\n",
       "  Text(4.5, 0, 'sport')])"
      ]
     },
     "execution_count": 53,
     "metadata": {},
     "output_type": "execute_result"
    },
    {
     "data": {
      "image/png": "[encoded data removed]",
      "text/plain": [
       "<Figure size 1080x720 with 2 Axes>"
      ]
     },
     "metadata": {
      "needs_background": "light"
     },
     "output_type": "display_data"
    }
   ],
   "source": [
    "conf_matrix = confusion_matrix(test_data['Category'], predictions)\n",
    "conf_matrix_df = pd.DataFrame(conf_matrix, \n",
    "                              index=['business', 'politics', 'entertainment', 'tech', 'sport'], \n",
    "                              columns=['business', 'politics', 'entertainment', 'tech', 'sport'])\n",
    "\n",
    "plt.figure(figsize=(15, 10))\n",
    "sn.heatmap(conf_matrix_df, annot=True, vmin=0, vmax=conf_matrix.max(), fmt='d', cmap=\"YlGnBu\")\n",
    "plt.yticks(rotation=0)\n",
    "plt.xticks(rotation=90)"
   ]
  },
  {
   "cell_type": "markdown",
   "metadata": {
    "id": "XmM1ftJe3yvK"
   },
   "source": [
    "## 4) Análisis comparativo final\n",
    "\n",
    "Hemos entrenado dos clasificadores usando dos vectorizaciones diferentes de los datos. Compara la tasa de acierto de todos ellos y explica a qué crees que se deben las diferencias.\n",
    "\n",
    "Busca un mensaje mal clasificado por el Naive Bayes con vectorización de frecuencias y otro mal clasificado por el k-NN con Word-embeddings. Analiza los vectores de términos de dichos mensajes e intenta razonar por qué ha sido clasificado erróneamente.\n",
    "\n",
    "Para el Naive Bayes con vectorización de frecuencias, elige dos clases donde el clasificador no haya funcionado bien y analiza las palabras más relevantes para clasificar una noticia como de dichas clases. Razona si lo que ves crees que influye en la posible confusión a la hora de clasificar entre dichas clases."
   ]
  },
  {
   "cell_type": "code",
   "execution_count": 54,
   "metadata": {},
   "outputs": [
    {
     "data": {
      "image/png": "[encoded data removed]",
      "text/plain": [
       "<Figure size 432x288 with 1 Axes>"
      ]
     },
     "metadata": {
      "needs_background": "light"
     },
     "output_type": "display_data"
    }
   ],
   "source": [
    "import numpy as np\n",
    "import matplotlib.pyplot as plt\n",
    "\n",
    "X = np.arange(2)\n",
    "barWidth = 0.15\n",
    "plotBottom = 0.9\n",
    "\n",
    "data = [[0.9941275167785235 - plotBottom,  0.9563758389261745 - plotBottom], \n",
    "        [0.959731543624161 - plotBottom, 0.9295302013422819 - plotBottom],\n",
    "        [0.9404362416107382 - plotBottom, 0.9161073825503355 - plotBottom],\n",
    "        [0.9773489932885906 - plotBottom, 0.9630872483221476 - plotBottom]]\n",
    "\n",
    "fig = plt.figure()\n",
    "ax = fig.add_axes([0,0,1,1])\n",
    "ax.bar(X + 0.00, data[0], bottom = plotBottom, color = 'b', width = barWidth, \n",
    "       label = 'Multinomial NB (vectorización de frecuencias)')\n",
    "ax.bar(X + barWidth, data[1], bottom = plotBottom, color = 'g', width = barWidth, \n",
    "       label = 'k-NN (vectorización de frecuencias)')\n",
    "ax.bar(X + 2*barWidth, data[2], bottom = plotBottom, color = 'r', width = barWidth, \n",
    "       label = 'Multinomial NB (Word-embeddings)')\n",
    "ax.bar(X + 3*barWidth, data[3], bottom = plotBottom, color = 'y', width = barWidth, \n",
    "       label = 'k-NN (Word-embeddings)')\n",
    "\n",
    "# Adding Xticks\n",
    "plt.xlabel('Porcentaje de aciertos', fontweight ='bold', fontsize = 15)\n",
    "plt.xticks([r + barWidth for r in range(2)], ['Entrenamiento', 'Test'])\n",
    " \n",
    "plt.legend()\n",
    "plt.show()\n"
   ]
  },
  {
   "cell_type": "markdown",
   "metadata": {},
   "source": [
    "Como podemos observar en esta gráfica, el clasificador Multinomial Naive Bayes funciona casi a la perfección con la vectorización de frecuencias: aprende cómo de frecuente es cada clase y cómo de frecuente es que una palabra ocurra en cada clase. A la hora de clasificar un texto nuevo, en este caso sólo el 20% de los dados, el clasificador estima la probabilidad de que pertenezca a cada una de las clases y elige la más alta. Así pues, podemos suponer que las palabras clave elegidas por el algoritmo sí que ayudan enormemente a la clasificación de cada texto, siendo entonces palabras temáticas muy específicas, que en general, no se encuentran en textos de otros contenidos. Sin embargo, no es tan fiable al utilizar word-embeddings.\n",
    "\n",
    "Por otro lado, justo lo contrario pasa para el clasificador k-NN, que manifiesta una clara mejora al utilizar Word-Embeddings. Esto tiene sentido, puesto que con word-embeddings, las palabras relacionadas entre sí estarán más cerca en el espacio, facilitando el trabajo al k-NN (el cual toma los K vecinos más cercanos de una palabra). Con vectorización de frecuencias, sin embargo, sufre mucho, debido a la alta dimensionalidad del espacio.   "
   ]
  },
  {
   "cell_type": "markdown",
   "metadata": {},
   "source": [
    "Ahora, buscamos un mensaje mal clasificado por el Naive Bayes con vectorización de frecuencias, y analizamos su vector de términos. "
   ]
  },
  {
   "cell_type": "code",
   "execution_count": 55,
   "metadata": {},
   "outputs": [
    {
     "name": "stdout",
     "output_type": "stream",
     "text": [
      "Mensaje 0 : tv show unites angolan families angolan families who are attempting to track each other down  after being separated by nearly 30 years of war  are succeeding thanks to a hugely popular tv show.  meeting point has become one of tv angola s most watched programmes  and has reunited hundreds of families. it runs daily  not only on the television but also on the radio. every friday  hundreds of people gather in luanda s independence square to record a message in front of the tv cameras  in the hope that a lost relative will see it. many relatives have been reunited on air.  at the beginning there was an absolute explosion - huge  huge crowds   sergio gera  the programme s chief co-ordinator  told bbc world service s assignment programme.  now things are a little calmer  there are slightly less people - but  after two and a half years of broadcasting  there are still a lot of people going.   the media in the southern african country  twice the size of france  has been gripped by the quest of so many people to find their relatives. hundreds of thousands of people died in angola s 30-year civil war  which finally ended in 2002  and tens of thousands of people are still missing. many have not heard anything for 10 or more years - in all  90% of angolan families have lost someone.  the idea of recording in independence square was modelled on a square in the argentine capital buenos aries  where mothers go to talk about the dead and the missing  and to exchange news. one woman  victoria lapete  found her sister - the only remaining member of her family - in independence square live on meeting point. she had not seen her sibling for 28 years.  when we saw each other  we threw ourselves into each other s arms   she told assignment.  we started to cry. i felt very  very happy  because i d spent so long without any family. suddenly i had a sister again.  however  angola is one of the poorest countries in africa  and the number of people with access to either a television or radio is comparatively few. this means that elsewhere in the country  the task of reuniting families lies primarily with the international committee of the red cross (icrc). in the city of wambo  the icrc runs the gazetta - a 200-page  tabloid-size book which contains 13 000 names of missing or displaced.  their task is made much harder by the huge number of landmines dotted around the country.  it s very difficult - there are many displaced   stated joaquim sahundi  head of tracing in wambo.   as they try to go back [home]  others are trying to relocate their relatives. many people are getting injured because of that - in the villages  in the bush  there has been no clearance of mines.  when people are crossing these areas  they step on mines.  the icrc also uses the media where it can  running four daily broadcasts of their lists of the missing on radio angola. meanwhile  there remain massive challenges to angolan families even once they are reunited.  the programme of family reunification is extremely important  but for these families to remain reunified  there has to be social integration  job access  education  healthcare   said rafael marques of the pro-democracy george soros foundation for southern africa.  essentially the government is waiting for the international community to pay for the reconstruction - that s why it has been persistently calling for a donor s conference. that is just a way of detaching itself from its political responsibilities.\n",
      "Mensaje 0 vectorizado: ['000' '10' '13' '200' '2002' '28' '30' '90' 'absolute' 'access' 'africa'\n",
      " 'african' 'air' 'angola' 'areas' 'argentine' 'arms' 'attempting' 'bbc'\n",
      " 'beginning' 'book' 'broadcasting' 'broadcasts' 'buenos' 'bush' 'calling'\n",
      " 'calmer' 'cameras' 'capital' 'challenges' 'chief' 'city' 'civil'\n",
      " 'clearance' 'committee' 'community' 'comparatively' 'conference'\n",
      " 'contains' 'countries' 'country' 'cross' 'crossing' 'crowds' 'daily'\n",
      " 'dead' 'democracy' 'died' 'difficult' 'displaced' 'donor' 'dotted'\n",
      " 'education' 'ended' 'essentially' 'exchange' 'explosion' 'extremely'\n",
      " 'families' 'family' 'felt' 'finally' 'foundation' 'france' 'friday'\n",
      " 'gather' 'george' 'getting' 'going' 'government' 'half' 'happy' 'harder'\n",
      " 'head' 'healthcare' 'heard' 'home' 'hope' 'huge' 'hugely' 'hundreds'\n",
      " 'idea' 'important' 'independence' 'injured' 'integration' 'international'\n",
      " 'job' 'just' 'lies' 'lists' 'little' 'live' 'long' 'lost' 'lot' 'marques'\n",
      " 'massive' 'means' 'media' 'meeting' 'member' 'message' 'mines' 'missing'\n",
      " 'modelled' 'mothers' 'names' 'nearly' 'news' 'number' 'ordinator' 'page'\n",
      " 'pay' 'people' 'point' 'political' 'poorest' 'popular' 'primarily' 'pro'\n",
      " 'programme' 'programmes' 'quest' 'radio' 'rafael' 'reconstruction'\n",
      " 'record' 'recording' 'red' 'relative' 'relatives' 'remain' 'remaining'\n",
      " 'responsibilities' 'reunited' 'reuniting' 'running' 'runs' 'said' 'saw'\n",
      " 'seen' 'separated' 'sergio' 'service' 'sister' 'size' 'slightly' 'social'\n",
      " 'soros' 'southern' 'spent' 'square' 'started' 'stated' 'step'\n",
      " 'succeeding' 'suddenly' 'tabloid' 'talk' 'task' 'television' 'tens'\n",
      " 'thanks' 'things' 'thousands' 'threw' 'told' 'tracing' 'track' 'try'\n",
      " 'trying' 'tv' 'twice' 'unites' 'uses' 'victoria' 'villages' 'waiting'\n",
      " 'war' 'watched' 'way' 'woman' 'world' 'year' 'years'] \n",
      "\n",
      "PREDICCIÓN \n",
      " Este texto ha sido clasificado como  politics  cuando en realidad es  entertainment\n"
     ]
    }
   ],
   "source": [
    "errorMNB = 0\n",
    "while (mnb_test_predictions[errorMNB] == test_data.values[errorMNB][1]):\n",
    "    errorMNB = errorMNB + 1\n",
    "    \n",
    "write_terms(feature_names, test_data['Text'].values , test_vector_data, errorMNB)\n",
    "print('PREDICCIÓN \\n Este texto ha sido clasificado como ', mnb_test_predictions[errorMNB],\n",
    "      ' cuando en realidad es ', test_data.values[errorMNB][1])"
   ]
  },
  {
   "cell_type": "markdown",
   "metadata": {},
   "source": [
    "Esta noticia en cuestión nos describe un programa de televisión y radio, por lo que está inicialmente clasificada como entretenimiento. El error se debe a que el propósito de dicho programa es que familias angoleñas que tengan familiares en paradero desconocido (por la guerra) puedan buscarlos vía este medio. \n",
    "Vemos que en el vector de términos aparecen pocos relacionados con entertainment, como 'television', 'watched', 'broadcasts', ... y sin embargo, otros términos sobre las relaciones internacionales, países, guerras, etc, hacen mayor aparición. Por tanto, las palabras relacionadas con la política tienen un mayor peso (aparecen con mayor frecuencia), y por tanto nuestro clasificador la cataloga como politics. "
   ]
  },
  {
   "cell_type": "code",
   "execution_count": 60,
   "metadata": {},
   "outputs": [
    {
     "name": "stdout",
     "output_type": "stream",
     "text": [
      "Mensaje 26 : man auctions ad space on forehead a 20-year-old us man is selling advertising space on his forehead to the highest bidder on website ebay.  andrew fisher  from omaha  nebraska  said he would have a non-permanent logo or brand name tattooed on his head for 30 days.  the way i see it i m selling something i already own; after 30 days i get it back   he told the bbc today programme. mr fisher has received 39 bids so far  with the largest bid currently at more than $322 (£171).  the winner will be able to send me a tattoo or have me go to a tattoo parlour and get a temporary ink tattoo on my forehead and this will be something they choose  a company name or domain name  perhaps their logo   he told the radio 4 programme.  on the online auction  mr fisher describes himself as an  average american joe  give or take . his sales pitch adds:  take advantage of this radical advertising campaign and become a part of history.  mr fisher said that while he would accept any brand name or logo   i wouldn t go around with a swastika or anything racial . he added:  i wouldn t go around with 666  the mark of the beast.  other than that i wouldn t promote anything socially unacceptable such as adult websites or stores.  he said he would use the money to pay college - he is planning to study graphic design. the entrepreneur said his mother was initially surprised by his decision but following all the media attention she felt he was  thinking outside the box .\n",
      "Mensaje 26 vectorizado: ['171' '20' '30' '39' 'able' 'accept' 'ad' 'added' 'adds' 'adult'\n",
      " 'advantage' 'advertising' 'american' 'andrew' 'attention' 'auction'\n",
      " 'auctions' 'average' 'bbc' 'beast' 'bid' 'bidder' 'bids' 'box' 'brand'\n",
      " 'campaign' 'choose' 'college' 'company' 'currently' 'days' 'decision'\n",
      " 'describes' 'design' 'domain' 'ebay' 'entrepreneur' 'far' 'felt' 'fisher'\n",
      " 'following' 'forehead' 'graphic' 'head' 'highest' 'history' 'initially'\n",
      " 'ink' 'joe' 'largest' 'logo' 'man' 'mark' 'media' 'money' 'mother' 'mr'\n",
      " 'non' 'old' 'online' 'outside' 'pay' 'permanent' 'pitch' 'planning'\n",
      " 'programme' 'promote' 'racial' 'radical' 'radio' 'received' 'said'\n",
      " 'sales' 'selling' 'send' 'socially' 'space' 'stores' 'study' 'surprised'\n",
      " 'temporary' 'thinking' 'today' 'told' 'unacceptable' 'use' 'way'\n",
      " 'website' 'websites' 'winner' 'wouldn' 'year'] \n",
      "\n",
      "PREDICCIÓN \n",
      " Este texto ha sido clasificado como  entertainment  cuando en realidad es  tech\n"
     ]
    }
   ],
   "source": [
    "errorKNN = 1\n",
    "while (knn_test_predictionsWE[errorKNN] == test_data.values[errorKNN][1]):\n",
    "    errorKNN = errorKNN + 1\n",
    "    \n",
    "write_terms(feature_names, test_data['Text'].values , test_vector_data, errorKNN)\n",
    "print('PREDICCIÓN \\n Este texto ha sido clasificado como ', knn_test_predictionsWE[errorKNN],\n",
    "      ' cuando en realidad es ', test_data.values[errorKNN][1])"
   ]
  },
  {
   "cell_type": "markdown",
   "metadata": {},
   "source": [
    "Al leer este texto, vemos que aunque está clasificado como una noticia de sobre tecnología, ya que habla sobre un joven que decide subastar su frente como espacio publicitario por eBay, una plataforma online. Sin embargo, está estrechamente relacionada con otros. Por ejemplo, el clasificador kNN con Word Embeddings lo ha confudido con uno sobre entretenimiento, debido a la alta cantidad de palabras que encontramos que pertenecen a esa temática (bbc, media, radio, programme...) al relatar sus intenciones a los medios de comunicación. También podría haberse confundido con un tema sobre negocios, ya que el propio protagonista está, por decirlo así, \"montando\" su propio negocio, al intentar lucrarse del alquiler de una parte de su cuerpo. "
   ]
  },
  {
   "cell_type": "markdown",
   "metadata": {},
   "source": [
    "Para el Naive Bayes con vectorización de frecuencias, elige dos clases donde el clasificador no haya funcionado bien y analiza las palabras más relevantes para clasificar una noticia como de dichas clases. Razona si lo que ves crees que influye en la posible confusión a la hora de clasificar entre dichas clases."
   ]
  },
  {
   "cell_type": "code",
   "execution_count": 61,
   "metadata": {},
   "outputs": [],
   "source": [
    "\"data -> train_data.values\"\n",
    "\"tfid -> train_preprocessed.toarray()\"\n",
    "\"category -> 'entertainment', 'sport', ...\"\n",
    "\"Palabras y su TF/IDF para los documentos de la categoría category\"\n",
    "def relevant_words(data, tfid, category):\n",
    "    s = [0]*tfid.shape[1]\n",
    "    for i in range(len(data)):\n",
    "        if data[i][1] == category:\n",
    "            s = np.add(s, tfid[i])      \n",
    "            \n",
    "    dfCAT = pd.DataFrame({'words': feature_names, 'TF/IDF': s})\n",
    "    relevant = dfCAT.sort_values(by = 'TF/IDF').tail(30).copy()\n",
    "    return relevant"
   ]
  },
  {
   "cell_type": "code",
   "execution_count": 64,
   "metadata": {},
   "outputs": [
    {
     "name": "stdout",
     "output_type": "stream",
     "text": [
      "Las 30 palabras más relevantes para la categoría de entretenimiento son \n",
      "              words     TF/IDF\n",
      "13440        movie   3.039772\n",
      "13890  nominations   3.088809\n",
      "10497    including   3.095736\n",
      "17933       series   3.111109\n",
      "3303           box   3.237462\n",
      "21907          won   3.288234\n",
      "18999        stars   3.302703\n",
      "13765          new   3.428683\n",
      "6372      director   3.492223\n",
      "1247       actress   3.668560\n",
      "20701           uk   3.716897\n",
      "18320       singer   3.918576\n",
      "4720        comedy   3.978966\n",
      "1546         album   3.993385\n",
      "13989       number   4.063474\n",
      "8110      festival   4.106210\n",
      "20650           tv   4.329318\n",
      "22087         year   4.621048\n",
      "14325        oscar   4.630873\n",
      "4211         chart   4.736755\n",
      "8184         films   4.803119\n",
      "1245         actor   4.895865\n",
      "18990         star   4.961670\n",
      "2376         award   4.975595\n",
      "2520          band   5.043231\n",
      "2379        awards   5.736451\n",
      "17445         said   6.014716\n",
      "13533        music   6.173654\n",
      "2883          best   8.435543\n",
      "8177          film  15.445205\n",
      "\n",
      " ------------------------------- \n",
      "\n",
      "Las 30 palabras más relevantes para la categoría de business son \n",
      "             words     TF/IDF\n",
      "5935      deficit   3.736841\n",
      "22138       yukos   3.780651\n",
      "1             000   3.794271\n",
      "3676     business   3.811853\n",
      "8201    financial   3.834668\n",
      "17114        rise   3.880084\n",
      "13765         new   3.884726\n",
      "16239        rate   3.904011\n",
      "1752     analysts   4.003360\n",
      "15722     profits   4.052648\n",
      "6665       dollar   4.109683\n",
      "16241       rates   4.240234\n",
      "9200   government   4.653443\n",
      "10543       india   4.815146\n",
      "4301        china   4.926710\n",
      "367          2004   5.038545\n",
      "15610      prices   5.281119\n",
      "4786      company   5.544343\n",
      "18046      shares   5.569544\n",
      "17462       sales   5.703112\n",
      "13459          mr   5.898238\n",
      "8256         firm   5.944819\n",
      "7036     economic   6.157713\n",
      "12658      market   6.586283\n",
      "14143         oil   6.608988\n",
      "22087        year   6.609209\n",
      "2539         bank   6.808481\n",
      "7042      economy   7.244735\n",
      "9362       growth   7.771246\n",
      "17445        said  10.944359\n"
     ]
    }
   ],
   "source": [
    "rENT = relevant_words(train_data.values, train_preprocessed.toarray(), 'entertainment')\n",
    "rBUS = relevant_words(train_data.values, train_preprocessed.toarray(), 'business')\n",
    "print(\"Las 30 palabras más relevantes para la categoría de entretenimiento son \\n \", rENT)\n",
    "print(\"\\n ------------------------------- \\n\")\n",
    "print(\"Las 30 palabras más relevantes para la categoría de business son \\n \", rBUS)"
   ]
  },
  {
   "cell_type": "markdown",
   "metadata": {},
   "source": []
  },
  {
   "cell_type": "markdown",
   "metadata": {},
   "source": [
    "Hemos elegido las categorías de entretenimiento y negocios para compararse, ya que son las dos dónde peor ha funcionado el clasificador MNB con vectorización de frecuencias. Sin embargo, al ver las 30 palabras más relevantes para cada una de las categorías (es decir, las palabras que mayor TF/IDF tienen en los documentos de cada categoría), las únicas palabras que aparecen en ambas listas son 'new', 'year' y 'said'; no vemos ninguna repetición de algún verbo, sustantivo o adjetivo de claro significado temático. \n",
    "Así pues, y con estos datos, no podemos concluir con precisión el porqué la confusión del clasificador entre estas dos categorías. "
   ]
  }
 ],
 "metadata": {
  "colab": {
   "name": "P1_clasificaccion_texto_2122_enunciado.ipynb",
   "provenance": []
  },
  "kernelspec": {
   "display_name": "Python 3",
   "language": "python",
   "name": "python3"
  },
  "language_info": {
   "codemirror_mode": {
    "name": "ipython",
    "version": 3
   },
   "file_extension": ".py",
   "mimetype": "text/x-python",
   "name": "python",
   "nbconvert_exporter": "python",
   "pygments_lexer": "ipython3",
   "version": "3.8.8"
  }
 },
 "nbformat": 4,
 "nbformat_minor": 1
}

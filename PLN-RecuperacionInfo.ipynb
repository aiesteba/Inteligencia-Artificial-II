{
 "cells": [
  {
   "cell_type": "markdown",
   "metadata": {
    "id": "jpd0gkGnpzXT"
   },
   "source": [
    "# Práctica 2: Procesamiento del Lenguaje Natural\n",
    "\n",
    "__Fecha de entrega: 17 de abril de 2022__\n",
    "\n",
    "El objetivo de esta práctica es aplicar los conceptos teóricos vistos en clase en el módulo de PLN. La práctica consta de 2 notebooks que se entregarán simultáneamente en la tarea de entrega habilitada en el Campus  Virtual.\n",
    "\n",
    "Lo más importante en esta práctica no es el código Python, sino el análisis de los datos y modelos que construyas y las explicaciones razonadas de cada una de las decisiones que tomes. __No se valorarán trozos de código o gráficas sin ningún tipo de contexto o explicación__.\n",
    "\n",
    "Finalmente, recuerda establecer el parámetro `random_state` en todas las funciones que tomen decisiones aleatorias para que los resultados sean reproducibles (los resultados no varíen entre ejecuciones)."
   ]
  },
  {
   "cell_type": "code",
   "execution_count": 1,
   "metadata": {
    "id": "IBx1oG6bpzXY"
   },
   "outputs": [],
   "source": [
    "RANDOM_STATE = 333"
   ]
  },
  {
   "cell_type": "markdown",
   "metadata": {
    "id": "TkJPtLPRpzXa"
   },
   "source": [
    "# Apartado 2: Recuperación de información"
   ]
  },
  {
   "cell_type": "markdown",
   "metadata": {
    "id": "RWQ9sB-ApzXc"
   },
   "source": [
    "__Número de grupo: 11__\n",
    "\n",
    "__Nombres de los estudiantes: EDURNE RUIZ y AITOR ESTEBAN__"
   ]
  },
  {
   "cell_type": "markdown",
   "metadata": {
    "id": "W1iFIS_EpzXc"
   },
   "source": [
    "## 1) Carga del conjunto de datos\n",
    "\n",
    "El fichero `BBC News.csv` contiene noticias clasificadas en 5 categorías diferentes. \n",
    "\n",
    "Carga los datos en un dataframe teniendo en cuenta que la columna `ArticleId` es un identificador de la noticia y por lo tanto no lo vamos a usar. \n",
    "\n",
    "Estudia el tamaño del conjunto de datos y la proporción de noticias que pertenecen a cada una de las categorías.\n",
    "\n",
    "Crea una partición estratificada de los datos dejando el 80% para entrenamiento y el 20% restante para test usando la función `train_test_split` de sklearn. "
   ]
  },
  {
   "cell_type": "code",
   "execution_count": 2,
   "metadata": {
    "id": "ufbBvGcnpzXe"
   },
   "outputs": [],
   "source": [
    "import numpy as np\n",
    "import pandas as pd\n",
    "\n",
    "from sklearn.model_selection import train_test_split"
   ]
  },
  {
   "cell_type": "code",
   "execution_count": 3,
   "metadata": {},
   "outputs": [
    {
     "data": {
      "text/html": [
       "<div>\n",
       "<style scoped>\n",
       "    .dataframe tbody tr th:only-of-type {\n",
       "        vertical-align: middle;\n",
       "    }\n",
       "\n",
       "    .dataframe tbody tr th {\n",
       "        vertical-align: top;\n",
       "    }\n",
       "\n",
       "    .dataframe thead th {\n",
       "        text-align: right;\n",
       "    }\n",
       "</style>\n",
       "<table border=\"1\" class=\"dataframe\">\n",
       "  <thead>\n",
       "    <tr style=\"text-align: right;\">\n",
       "      <th></th>\n",
       "      <th>Text</th>\n",
       "      <th>Category</th>\n",
       "    </tr>\n",
       "  </thead>\n",
       "  <tbody>\n",
       "    <tr>\n",
       "      <th>0</th>\n",
       "      <td>worldcom ex-boss launches defence lawyers defe...</td>\n",
       "      <td>business</td>\n",
       "    </tr>\n",
       "    <tr>\n",
       "      <th>1</th>\n",
       "      <td>german business confidence slides german busin...</td>\n",
       "      <td>business</td>\n",
       "    </tr>\n",
       "    <tr>\n",
       "      <th>2</th>\n",
       "      <td>bbc poll indicates economic gloom citizens in ...</td>\n",
       "      <td>business</td>\n",
       "    </tr>\n",
       "    <tr>\n",
       "      <th>3</th>\n",
       "      <td>lifestyle  governs mobile choice  faster  bett...</td>\n",
       "      <td>tech</td>\n",
       "    </tr>\n",
       "    <tr>\n",
       "      <th>4</th>\n",
       "      <td>enron bosses in $168m payout eighteen former e...</td>\n",
       "      <td>business</td>\n",
       "    </tr>\n",
       "    <tr>\n",
       "      <th>...</th>\n",
       "      <td>...</td>\n",
       "      <td>...</td>\n",
       "    </tr>\n",
       "    <tr>\n",
       "      <th>1485</th>\n",
       "      <td>double eviction from big brother model caprice...</td>\n",
       "      <td>entertainment</td>\n",
       "    </tr>\n",
       "    <tr>\n",
       "      <th>1486</th>\n",
       "      <td>dj double act revamp chart show dj duo jk and ...</td>\n",
       "      <td>entertainment</td>\n",
       "    </tr>\n",
       "    <tr>\n",
       "      <th>1487</th>\n",
       "      <td>weak dollar hits reuters revenues at media gro...</td>\n",
       "      <td>business</td>\n",
       "    </tr>\n",
       "    <tr>\n",
       "      <th>1488</th>\n",
       "      <td>apple ipod family expands market apple has exp...</td>\n",
       "      <td>tech</td>\n",
       "    </tr>\n",
       "    <tr>\n",
       "      <th>1489</th>\n",
       "      <td>santy worm makes unwelcome visit thousands of ...</td>\n",
       "      <td>tech</td>\n",
       "    </tr>\n",
       "  </tbody>\n",
       "</table>\n",
       "<p>1490 rows × 2 columns</p>\n",
       "</div>"
      ],
      "text/plain": [
       "                                                   Text       Category\n",
       "0     worldcom ex-boss launches defence lawyers defe...       business\n",
       "1     german business confidence slides german busin...       business\n",
       "2     bbc poll indicates economic gloom citizens in ...       business\n",
       "3     lifestyle  governs mobile choice  faster  bett...           tech\n",
       "4     enron bosses in $168m payout eighteen former e...       business\n",
       "...                                                 ...            ...\n",
       "1485  double eviction from big brother model caprice...  entertainment\n",
       "1486  dj double act revamp chart show dj duo jk and ...  entertainment\n",
       "1487  weak dollar hits reuters revenues at media gro...       business\n",
       "1488  apple ipod family expands market apple has exp...           tech\n",
       "1489  santy worm makes unwelcome visit thousands of ...           tech\n",
       "\n",
       "[1490 rows x 2 columns]"
      ]
     },
     "execution_count": 3,
     "metadata": {},
     "output_type": "execute_result"
    }
   ],
   "source": [
    "df = pd.read_csv('BBC News.csv')\n",
    "df = df.drop(['ArticleId'], axis = 1)\n",
    "df"
   ]
  },
  {
   "cell_type": "code",
   "execution_count": 4,
   "metadata": {},
   "outputs": [
    {
     "data": {
      "text/plain": [
       "sport            346\n",
       "business         336\n",
       "politics         274\n",
       "entertainment    273\n",
       "tech             261\n",
       "Name: Category, dtype: int64"
      ]
     },
     "execution_count": 4,
     "metadata": {},
     "output_type": "execute_result"
    }
   ],
   "source": [
    "df['Category'].value_counts()"
   ]
  },
  {
   "cell_type": "code",
   "execution_count": 5,
   "metadata": {},
   "outputs": [
    {
     "data": {
      "text/plain": [
       "<AxesSubplot:ylabel='Category'>"
      ]
     },
     "execution_count": 5,
     "metadata": {},
     "output_type": "execute_result"
    },
    {
     "data": {
      "image/png": "[encoded data removed]",
      "text/plain": [
       "<Figure size 432x288 with 1 Axes>"
      ]
     },
     "metadata": {},
     "output_type": "display_data"
    }
   ],
   "source": [
    "# Diagrama mostrando las categorias\n",
    "df['Category'].value_counts().plot.pie()"
   ]
  },
  {
   "cell_type": "code",
   "execution_count": 6,
   "metadata": {},
   "outputs": [
    {
     "data": {
      "text/plain": [
       "'ferguson urges henry punishment sir alex ferguson has called on the football association to punish arsenal s thierry henry for an incident involving gabriel heinze.  ferguson believes henry deliberately caught heinze on the head with his knee during united s controversial win. the united boss said it was worse than ruud van nistelrooy s foul on ashley cole for which he got a three-game ban.  we shall present it to the fa and see what they do. the tackle on heinze was terrible   he said. clubs are permitted to ask the fa to examine specific incidents but information is expected to be provided within 48 hours of the game. the clash occurred moments before half-time when a freddie ljungberg challenge left heinze on the ground on the left touchline. henry  following the ball  attempted to hurdle the argentine but his knee collided with the back of heinze s head.  the striker protested his innocence - and referee mike riley deemed the collision accidental. ferguson was also upset by arsenal s overall discipline during the heated encounter between the two arch-rivals and praised his own side s behaviour.  edu produced a terrible tackle on scholes that was a potential leg-breaker   he said.  there were 24 fouls in the game by arsenal  seven on heinze  five on ronaldo  six by vieira - and it was only his sixth foul that got him booked. phil neville got booked for his first challenge.  i am proud of my players for the way they handled that pressure.  we have always been good at being gracious in defeat. what happened on sunday overshadowed our achievement  but then they do it all the time  don t they'"
      ]
     },
     "execution_count": 6,
     "metadata": {},
     "output_type": "execute_result"
    }
   ],
   "source": [
    "df.values[23][0]"
   ]
  },
  {
   "cell_type": "markdown",
   "metadata": {},
   "source": [
    "Si analizamos el siguiente texto podemos podemos obsevar que es se trata de una noticia sobre un acontecimiento en un partido de futbol entre los equipos Arsenal y Manchester United. Se narra la controversia que hubo a raíz de una falta cometida por un jugador. Por tanto podemos clasificarlo como una noticia deportiva fijandonos en el tema y en las palabras clave utilizadas como 'football, game, defeat, arsenal, fouls, referee...'"
   ]
  },
  {
   "cell_type": "code",
   "execution_count": 7,
   "metadata": {},
   "outputs": [
    {
     "data": {
      "text/plain": [
       "'sport'"
      ]
     },
     "execution_count": 7,
     "metadata": {},
     "output_type": "execute_result"
    }
   ],
   "source": [
    "df.values[23][1]"
   ]
  },
  {
   "cell_type": "markdown",
   "metadata": {},
   "source": [
    "Como habíamos supuesto en el apartado anterior, el texto está correctamente clasificado como deportivo. "
   ]
  },
  {
   "cell_type": "markdown",
   "metadata": {},
   "source": [
    "Por último, realizamos una partición de los datos, de forma que el 80% de ellos se usen como datos de entrenamiento y el 20% restante, como datos de test. "
   ]
  },
  {
   "cell_type": "code",
   "execution_count": 8,
   "metadata": {},
   "outputs": [
    {
     "data": {
      "text/plain": [
       "(1192, 298)"
      ]
     },
     "execution_count": 8,
     "metadata": {},
     "output_type": "execute_result"
    }
   ],
   "source": [
    "train_data , test_data = train_test_split(df, train_size = 0.8, random_state = RANDOM_STATE)\n",
    "len(train_data), len(test_data)\n"
   ]
  },
  {
   "cell_type": "markdown",
   "metadata": {
    "id": "3Fx5hJC7pzXf"
   },
   "source": [
    "## 2) Representación basada en bolsa de palabras y tf-idf\n",
    "\n",
    "La primera vectorización que vamos a usar representará los mensajes usando el modelo de bolsa de palabras, monogramas y el valor tf-idf de cada palabra. Usa como _stop words_ las que vienen configuradas por defecto para el inglés.\n",
    "\n",
    "Aplica la vectorización a los conjuntos de mensajes de entrenamiento y test. Muestra algún mensaje tanto en su formato de texto original como en la versión vectorizada. ¿Qué palabras se han eliminado y por qué?\n",
    "\n",
    "Calcula la precisión@5 de cada una de las clases usando como consultas los documentos de la partición de test y la similitud del coseno. Vamos a considerar que un documento recuperado es relevante cuando pertenezca a la misma clase que la consulta.\n",
    "\n",
    "Dibuja los resultados en un diagrama de barras y comenta las clases en las que se comporta mejor y peor. ¿Crees que los resultados son buenos?"
   ]
  },
  {
   "cell_type": "code",
   "execution_count": 9,
   "metadata": {
    "id": "wKdL2-VSpzXg"
   },
   "outputs": [],
   "source": [
    "from sklearn.feature_extraction.text import CountVectorizer\n",
    "from sklearn.feature_extraction.text import TfidfTransformer"
   ]
  },
  {
   "cell_type": "markdown",
   "metadata": {},
   "source": [
    "El primer paso es obtener las frecuencias de las palabras y lo haremos usando el diccionario que se inferirá de los términos de los documentos que se le pasan al CountVectorizer."
   ]
  },
  {
   "cell_type": "code",
   "execution_count": 10,
   "metadata": {},
   "outputs": [
    {
     "data": {
      "text/plain": [
       "<1192x22201 sparse matrix of type '<class 'numpy.int64'>'\n",
       "\twith 170840 stored elements in Compressed Sparse Row format>"
      ]
     },
     "execution_count": 10,
     "metadata": {},
     "output_type": "execute_result"
    }
   ],
   "source": [
    "vectorizer = CountVectorizer(stop_words='english', binary=False)\n",
    "# Tomamos los textos del conjunto de entrenamiento y los transformamos en \n",
    "# una matriz de datos (palabras) según el diccionario estándar\n",
    "train_vector_data=vectorizer.fit_transform(train_data['Text'])\n",
    "train_vector_data"
   ]
  },
  {
   "cell_type": "code",
   "execution_count": 11,
   "metadata": {},
   "outputs": [
    {
     "name": "stdout",
     "output_type": "stream",
     "text": [
      "22201\n",
      "['00', '000', '000bn', '000m', '000th', '001', '001and', '001st', '0051', '007', '01', '0100', '0130', '028', '03', '033', '04', '041', '04bn', '04secs', '05', '050', '050505', '0530', '0530gmt', '056', '05bn', '05m', '06', '0630', '069', '07', '070', '0710', '072', '0730', '08', '080', '0870', '088', '09', '0900', '093', '0950', '09bn', '09secs', '10', '100', '1000th', '100bn', '100m', '100ml', '101', '102', '103', '104', '105', '105bn', '105m', '106', '107', '108', '1080', '109', '10bn', '10ft', '10m', '10secs', '10th', '11', '110', '1100', '110m', '110th', '111', '1115', '111m', '112', '113', '1130', '1130p', '113bn', '115', '116', '116i', '117', '117m', '118', '119', '119bn', '119m', '11bn', '11m', '11pm', '11th', '12', '120', '1200', '1200m', '120gb', '120m', '121', '1215', '1230', '125', '125m', '126', '127th', '128', '12a', '12bn', '12cm', '12m', '12th', '13', '130', '1300', '130m', '132', '133', '1337', '134', '135', '136', '137', '138m', '139', '13bn', '13m', '13s', '13secs', '13th', '14', '140', '140bn', '142bn', '1430', '143m', '144', '144m', '145', '146m', '148', '149', '1497', '14bn', '14m', '14th', '15', '150', '1500', '1500m', '150m', '150th', '151', '152', '152m', '153', '154m', '155', '156m', '157', '158', '158th', '159', '15bn', '15m', '15mbps', '15s', '15th', '16', '160', '1600', '1600s', '1606', '160gb', '160m', '161', '162', '162bn', '162m', '163', '1642', '165', '1650', '166', '167', '1670', '168', '1689', '169', '16bn', '16k', '16m', '16th', '17', '170', '1700', '1701', '170m', '171', '1727', '1728', '173', '1731', '173m', '174', '175', '175m', '1761', '177', '1774', '1776', '178', '178m', '17bn', '17m', '17th', '18', '180', '1800s', '1801', '180bn', '1812', '1815', '182', '1830', '1831', '1834', '184', '1848', '184m', '185', '1857', '186', '1865', '186m', '187', '1870', '1875', '187m', '187th', '188', '1888', '189', '1891', '1893', '18bn', '18m', '18s', '18th', '19', '190', '1900', '1903', '1905', '1908', '190m', '191', '1910', '1911', '1912', '1915', '1917', '191m', '192', '1920', '1921', '1922', '1924', '1925', '1927', '1928', '1929', '193', '1930', '1930s', '1934', '1935', '1936', '1937', '1938', '1939', '1940', '1940s', '1942', '1943', '1944', '1945', '1946', '1947', '1948', '194m', '195', '1950', '1950s', '1951', '1952', '1953', '1954', '1955', '1956', '1957', '1958', '196', '1960', '1960s', '1961', '1962', '1963', '1964', '1965', '1966', '1967', '1968', '1969', '196m', '1970', '1970s', '1971', '1972', '1973', '1974', '1975', '1976', '1977', '1978', '1979', '197bn', '198', '1980', '1980s', '1981', '1982', '1983', '1984', '1985', '1986', '1987', '1988', '1989', '198m', '1990', '1990s', '1991', '1992', '1993', '1994', '1995', '1996', '1997', '1998', '1999', '19bn', '19m', '19secs', '19th', '1bn', '1m', '1st', '20', '200', '2000', '2001', '2001fetched', '2002', '2003', '2004', '2005', '2006', '2007', '2008', '2009', '200bn', '200lr', '200m', '2010', '2011', '2012', '2013', '2014', '2015', '2018', '2019', '2020', '2022', '2025', '203', '2048', '204m', '205', '2050', '206', '206m', '20bn', '20gb', '20m', '20mbps', '20p', '20s', '20th', '21', '210', '2100', '211', '216', '217', '219', '21bn', '21m', '21st', '22', '2200', '220m', '2230gmt', '225', '226', '227', '229', '22bn', '22m', '22nd', '23', '230', '2300', '230m', '231m', '233', '2340', '234m', '239', '23bn', '23m', '23rd', '24', '240', '242', '245m', '246', '246bn', '247p', '24bn', '24m', '24th', '25', '250', '2500', '250m', '253m', '256mb', '258', '258bn', '25bn', '25gbps', '25lb', '25m', '25p', '25th', '26', '262', '264th', '265', '266m', '267', '268', '26m', '26th', '27', '270', '271', '271st', '272', '273', '274', '275', '276', '277', '277th', '27bn', '27m', '27th', '28', '280', '280m', '281m', '282', '284m', '2871', '28bn', '28th', '29', '290', '290m', '291', '291m', '292', '293', '294', '2940', '296', '297', '2974', '29a', '29bn', '29m', '2am', '2bn', '2d', '2d3', '2ft', '2g', '2gb', '2k', '2km', '2kw', '2m', '2mbps', '2nd', '30', '300', '3000', '300bn', '300m', '300p', '301', '3040', '305', '305m', '306', '308m', '30bn', '30gb', '30m', '30mg', '30mph', '31', '312', '313', '314', '31bn', '31p', '32', '320', '320kg', '320m', '3218', '322m', '3230', '324', '325', '325m', '327', '327m', '3280', '328m', '329', '32bn', '32m', '32nd', '33', '337', '339', '339m', '33bn', '33rd', '34', '340', '348bn', '349', '349m', '34bn', '34th', '35', '350', '3509', '350m', '3516', '357', '35bn', '35m', '35mm', '35th', '36', '360', '365m', '367', '368bn', '36bn', '36m', '36th', '37', '370', '370m', '372', '374m', '375', '377bn', '379m', '37bn', '38', '380m', '382m', '385', '387m', '38mph', '39', '392', '398m', '399', '39bn', '39m', '3ami', '3bn', '3c', '3d', '3g', '3gp', '3gsm', '3km', '3m', '3rds', '3x', '40', '400', '40052308090', '400m', '400th', '402', '404', '407th', '40bn', '40gb', '40m', '40mbps', '40mph', '40s', '41', '412bn', '413', '415m', '418bn', '41bn', '41m', '42', '420', '424m', '425', '426m', '428m', '42bn', '42m', '42nd', '43', '431m', '433', '434m', '436', '43m', '44', '440', '443m', '444', '449', '44bn', '45', '450', '451m', '455', '458', '458m', '45bn', '45pm', '45secs', '45th', '46', '464', '465', '466', '469', '46m', '46secs', '47', '474', '475m', '479m', '47m', '48', '480', '484bn', '4850', '486', '487', '488', '48bn', '48m', '48th', '49', '492m', '496', '499', '49m', '4bn', '4cm', '4gb', '4ghz', '4in', '4km', '4m', '4p', '4th', '4x100m', '50', '500', '5000', '5000m', '500m', '506m', '508m', '50gb', '50m', '50mg', '50p', '50pc', '50th', '51', '512', '512kbps', '512m', '512mb', '514', '514m', '51bn', '51secs', '52', '520', '521', '522', '527', '529', '52m', '52nd', '53', '530', '532m', '535', '537bn', '538', '53bn', '53m', '53p', '54', '540m', '542', '544', '546', '546m', '548p', '54bn', '54m', '54th', '55', '550', '550m', '556', '55bn', '55s', '56', '560', '563', '569', '56bn', '56m', '57', '570', '57bn', '58', '581m', '584m', '58bn', '59', '590', '59th', '5bn', '5g', '5gb', '5ive', '5k', '5m', '5p', '60', '600', '600m', '603', '607', '60bn', '60gb', '60m', '60p', '60secs', '60th', '61', '610m', '61km', '61m', '61st', '62', '625', '62secs', '63', '630m', '635', '639m', '63m', '63rd', '63secs', '64', '642', '644m', '645', '648m', '64secs', '65', '650', '659', '65bn', '65s', '66', '660', '6600', '660m', '661', '667', '66m', '66secs', '67', '6709', '671', '674', '67th', '68', '680', '680m', '68m', '69', '690', '690m', '691m', '6bn', '6ft', '6gb', '6ghz', '6in', '6km', '6m', '6pm', '70', '700', '705m', '70m', '70p', '70s', '70th', '71', '713', '717', '717m', '719m', '72', '720', '725m', '72m', '73', '730', '732m', '733', '737', '73m', '74', '740', '745', '74m', '75', '750', '750m', '755', '75bn', '75m', '75p', '76', '761m', '767', '768m', '76m', '77', '7710', '775', '775m', '777', '77th', '78', '780', '784m', '785m', '787', '78bn', '79', '796', '797p', '799', '79th', '7bn', '7m', '80', '800', '800m', '803', '805', '808m', '80bn', '80gb', '80m', '80mg', '80p', '80s', '81', '813', '814', '815', '82', '820', '825', '82bn', '83', '830bn', '831', '833', '836m', '838th', '84', '840', '84th', '85', '850', '850bn', '850m', '855bn', '857m', '85m', '86', '861m', '865', '86bn', '86m', '86th', '87', '870', '873p', '874', '874m', '875', '87bn', '87th', '88', '881', '88m', '88th', '89', '8923', '89bn', '89m', '89secs', '89th', '8am', '8bn', '8gb', '8ghz', '8m', '8mbps', '90', '900', '900m', '902', '906', '907', '9094', '90s', '90th', '91', '910m', '911', '912km', '915', '91m', '92', '920', '922', '924', '925p', '93', '931m', '933m', '939', '93rd', '94', '940', '943', '95', '950', '950m', '950p', '953', '957', '95bn', '95m', '96', '966m', '97', '971', '975', '97bn', '97m', '98', '980m', '984m', '98bn', '98m', '98th', '99', '997', '999', '999th', '9bn', '9km', '9m', '9p', 'a300s', 'a320', 'a380', 'a380s', 'a4', 'aa', 'aaa', 'aaas', 'aac', 'aadc', 'aaliyah', 'aamir', 'aaron', 'abacus', 'abandon', 'abandoned', 'abandoning', 'abandonment', 'abbas', 'abbasi', 'abbott', 'abc', 'abd', 'abdellatif', 'abdication', 'abdomen', 'abdominal', 'abducted', 'abduction', 'abdullah', 'abdullatif', 'abebe', 'aberdeen', 'aberration', 'aberystwyth', 'abeyance', 'abeyie', 'abhorrent', 'abi', 'abide', 'abided', 'abiding', 'abigail', 'abilities', 'ability', 'able', 'abn', 'abnormal', 'abolish', 'abolishing', 'abolition', 'aborted', 'abortion', 'abortionist', 'abramovich', 'abroad', 'abrupt', 'absa', 'absence', 'absent', 'absentee', 'absolute', 'absolutely', 'absorb', 'absorbed', 'absorbing', 'absorbs', 'abstain', 'abstentions', 'absurd', 'abtahi', 'abu', 'abundance', 'abundantly', 'abuse', 'abused', 'abuses', 'abusing', 'abusive', 'abut', 'abuzz', 'abysmal', 'ac', 'academic', 'academics', 'academie', 'academies', 'academy', 'acapulco', 'accelerate', 'accelerated', 'accelerating', 'acceleration', 'accelerator', 'accept', 'acceptable', 'acceptance', 'acceptances', 'accepted', 'accepting', 'accepts', 'access', 'accessed', 'accessible', 'accessing', 'accession', 'accessory', 'accident', 'accidental', 'accidentally', 'accidently', 'accidents', 'acclaim', 'acclaimed', 'acclimate', 'acclimatise', 'accolade', 'accolades', 'accommodate', 'accommodated', 'accommodating', 'accommodation', 'accompanied', 'accompaniment', 'accompany', 'accompanying', 'accomplices', 'accomplish', 'accomplished', 'accomplishment', 'accordance', 'according', 'accordingly', 'accosiation', 'account', 'accountability', 'accountable', 'accountancy', 'accountant', 'accountants', 'accounted', 'accounting', 'accounts', 'accoustic', 'accra', 'accredited', 'accretive', 'accumulate', 'accumulated', 'accumulates', 'accumulator', 'accuracy', 'accurate', 'accurately', 'accusation', 'accusations', 'accuse', 'accused', 'accusing', 'accustomed', 'ace', 'aceh', 'aces', 'achievable', 'achieve', 'achieved', 'achievement', 'achievements', 'achieving', 'achike', 'achilles', 'achtung', 'acid', 'acknowledge', 'acknowledged', 'acknowledges', 'acne', 'acoustic', 'acpo', 'acquainted', 'acquiescent', 'acquire', 'acquired', 'acquiring', 'acquisition', 'acquisitions', 'acquittal', 'acquitted', 'acre', 'acres', 'acrimonious', 'acrimony', 'acrobatic', 'acrobatically', 'act', 'acted', 'acting', 'action', 'actionaid', 'actions', 'activate', 'activated', 'active', 'actively', 'activision', 'activison', 'activist', 'activists', 'activities', 'activity', 'actor', 'actors', 'actress', 'actresses', 'acts', 'actual', 'actually', 'acute', 'ad', 'adage', 'adair', 'adam', 'adamant', 'adamind', 'adams', 'adapt', 'adaptation', 'adaptations', 'adapted', 'adapter', 'adapters', 'adaptibility', 'adapting', 'adaptor', 'adaptors', 'adarsh', 'adb', 'add', 'addaction', 'added', 'addictive', 'addicts', 'adding', 'addink', 'addison', 'addition', 'additional', 'additionally', 'address', 'addressed', 'addresses', 'addressing', 'adds', 'adductor', 'adelaide', 'adept', 'adequate', 'adequately', 'adera', 'adere', 'adhere', 'adherence', 'adheres', 'adjudged', 'adjudicator', 'adjust', 'adjusted', 'adjusting', 'adjustments', 'adjusts', 'administer', 'administered', 'administering', 'administration', 'administrations', 'administrative', 'administrator', 'administrators', 'admirable', 'admiration', 'admire', 'admired', 'admirer', 'admission', 'admissions', 'admit', 'admits', 'admittance', 'admitted', 'admittedly', 'admitting', 'admonished', 'adnan', 'ado', 'adolescent', 'adolf', 'adopt', 'adopted', 'adopters', 'adopting', 'adoption', 'adoptive', 'adrian', 'adriano', 'adriatic', 'adrien', 'adroit', 'ads', 'adsense', 'adsl', 'adulation', 'adult', 'adultery', 'adulthood', 'adults', 'advance', 'advanced', 'advancement', 'advances', 'advancing', 'advanta', 'advantage', 'advantages', 'advent', 'adventure', 'adventures', 'adventurous', 'adverse', 'adversely', 'adversity', 'advert', 'advertise', 'advertised', 'advertisements', 'advertiser', 'advertisers', 'advertising', 'adverts', 'advice', 'advise', 'advised', 'adviser', 'advisers', 'advises', 'advising', 'advisor', 'advisors', 'advisory', 'advocate', 'advocated', 'advocates', 'adware', 'ae', 'aero', 'aeronautics', 'aeroplane', 'aerosmith', 'aerospace', 'aesthetic', 'aesthetically', 'aesthetics', 'affair', 'affairs', 'affect', 'affected', 'affecting', 'affection', 'affectionately', 'affects', 'afficiandos', 'affiliate', 'affiliates', 'afflicting', 'afford', 'affordable', 'afforded', 'afful', 'afghanistan', 'afi', 'afloat', 'afoot', 'afraid', 'africa', 'african', 'africans', 'aftenposten', 'afterlife', 'aftermath', 'afternoon', 'aftewards', 'afzal', 'ag', 'agassi', 'age', 'aged', 'ageing', 'ageism', 'agence', 'agencies', 'agency', 'agenda', 'agendas', 'agent', 'agents', 'ages', 'aggravated', 'aggravating', 'aggregator', 'aggregators', 'aggression', 'aggressive', 'aggressively', 'aggressors', 'aggrieved', 'aging', 'agio', 'agitated', 'agm', 'agnelli', 'agnostic', 'ago', 'agoa', 'agonising', 'agonisingly', 'agony', 'agrarian', 'agree', 'agreed', 'agreeing', 'agreement', 'agreements', 'agrees', 'agricultural', 'agriculture', 'agrochemical', 'agroflora', 'aguilera', 'agustin', 'agyemang', 'ahead', 'ahmed', 'ahold', 'ai', 'aid', 'aidan', 'aide', 'aided', 'aiden', 'aides', 'aids', 'aig', 'ailing', 'aim', 'aimed', 'aiming', 'aimlessly', 'aims', 'air', 'airbus', 'aircraft', 'aired', 'aires', 'airing', 'airline', 'airliner', 'airliners', 'airlines', 'airplane', 'airplanes', 'airplay', 'airport', 'airports', 'airtime', 'airways', 'aishwariya', 'aishwarya', 'aisle', 'aitken', 'aiyegbeni', 'aizlewood', 'aj', 'ajax', 'ak', 'aka', 'akaev', 'akamai', 'akhmetov', 'akin', 'akon', 'al', 'alabama', 'aladdin', 'alain', 'alamos', 'alan', 'alarm', 'alarmed', 'alarming', 'alarmingly', 'alarms', 'alasdair', 'alastair', 'albacete', 'albania', 'albanian', 'albany', 'albee', 'albeit', 'albert', 'alberto', 'albion', 'album', 'albums', 'alcatel', 'alcohol', 'alcoholism', 'alcorn', 'alda', 'aldershot', 'alegre', 'alejandro', 'alencar', 'alert', 'alerted', 'alerting', 'alerts', 'alessandro', 'alex', 'alexander', 'alexandra', 'alexandria', 'alexis', 'alfa', 'alfie', 'alfonso', 'alfred', 'algeria', 'algerian', 'algorithm', 'algorithms', 'ali', 'alias', 'aliases', 'alice', 'alicia', 'alien', 'aliens', 'alight', 'align', 'aligned', 'alike', 'alison', 'alistair', 'alita', 'alive', 'allahgreen', 'allaire', 'allan', 'allander', 'allard', 'allardyce', 'allawi', 'allaying', 'allegation', 'allegations', 'allege', 'alleged', 'allegedly', 'alleges', 'allegiance', 'allegiances', 'alleging', 'allen', 'allende', 'alleviate', 'alley', 'alleyne', 'alli', 'alliance', 'alliances', 'allianz', 'allied', 'allies', 'allister', 'allocated', 'allocation', 'allocations', 'allotting', 'allow', 'allowance', 'allowances', 'alloway', 'allowed', 'allowing', 'allows', 'allsop', 'alltel', 'alludes', 'alluding', 'ally', 'almagro', 'almeria', 'almodovar', 'almunia', 'alongside', 'alonso', 'aloud', 'alphabet', 'alphabetically', 'alphabets', 'alright', 'altavista', 'alter', 'altered', 'altering', 'alternative', 'alternatively', 'alternatives', 'alto', 'altogether', 'alton', 'aluminium', 'alumnia', 'alun', 'alva', 'alwaleed', 'alyn', 'alyona', 'alzheimer', 'am3d', 'amadeo', 'amalgamated', 'amalric', 'amanda', 'amassed', 'amateur', 'amateurish', 'amateurs', 'amaya', 'amazed', 'amazes', 'amazing', 'amazingly', 'amazon', 'ambassador', 'ambassadors', 'amber', 'ambev', 'ambient', 'ambition', 'ambitions', 'ambitious', 'ambitous', 'ambo', 'ambushed', 'amd', 'amelia', 'amelie', 'amenabar', 'amend', 'amended', 'amending', 'amendment', 'amendments', 'amends', 'amenity', 'america', 'american', 'americanised', 'americans', 'americas', 'ames', 'amey', 'amibitions', 'amicably', 'amicus', 'amid', 'amidst', 'amiga', 'amin', 'amitabh', 'amma', 'amman', 'ammunition', 'amnesty', 'amoeba', 'amor', 'amounted', 'amounting', 'amounts', 'ampadu', 'ampas', 'amplification', 'amplified', 'amplifier', 'amplifies', 'amplify', 'amply', 'amputated', 'amputators', 'amputee', 'amputees', 'amr', 'amro', 'amsterdam', 'amuro', 'amusing', 'amy', 'ana', 'anabolic', 'anakin', 'analgesic', 'analogue', 'analyse', 'analysed', 'analysis', 'analyst', 'analysts', 'analyzing', 'anastacia', 'anastasia', 'anatomical', 'ancelotti', 'ancestors', 'anchor', 'ancic', 'ancient', 'ancillary', 'ancram', 'anders', 'andersen', 'anderson', 'anderton', 'andhra', 'andrade', 'andre', 'andrea', 'andreas', 'andreev', 'andrei', 'andrew', 'andrews', 'andriy', 'andy', 'anelka', 'aneurysm', 'anew', 'anfield', 'angadias', 'angel', 'angela', 'angeles', 'angelina', 'angels', 'anger', 'angering', 'angle', 'angled', 'anglers', 'anglesea', 'anglia', 'anglicans', 'angling', 'anglo', 'angola', 'angrily', 'angry', 'angst', 'angus', 'anheuser', 'animal', 'animals', 'animate', 'animated', 'animation', 'animations', 'animator', 'animosity', 'aniston', 'anita', 'anjelica', 'ankle', 'ann', 'anna', 'annabelle', 'annadale', 'annals', 'annan', 'anne', 'annette', 'annie', 'anniversaries', 'anniversary', 'annoucement', 'announce', 'announced', 'announcement', 'announcements', 'announces', 'announcing', 'annoyance', 'annoyingly', 'annoys', 'annual', 'annualised', 'annually', 'annuity', 'annul', 'annum', 'annus', 'anoeta', 'anomalies', 'anomaly', 'anonymous', 'anonymously', 'anouncing', 'anselmo', 'ansheng', 'anshuman', 'anson', 'answer', 'answered', 'answers', 'ant', 'antagonistic', 'antenna', 'anthemic', 'anthony', 'anti', 'antibacterial', 'anticipate', 'anticipated', 'anticipating', 'anticipation', 'antiques', 'antiseptics', 'antithesis', 'antitrust', 'antoine', 'antoinette', 'anton', 'antonia', 'antonio', 'antony', 'antrim', 'anurag', 'anxiety', 'anxious', 'anybody', 'anyhting', 'anymore', 'aol', 'ap', 'apace', 'apache', 'apacs', 'apart', 'apartheid', 'apathetic', 'apathy', 'apcom', 'apiece', 'aplomb', 'apocalypse', 'apollo', 'apologise', 'apologised', 'apology', 'appalled', 'appalling', 'apparatus', 'apparel', 'apparent', 'apparently', 'appeal', 'appealed', 'appealing', 'appeals', 'appear', 'appearance', 'appearances', 'appeared', 'appearing', 'appears', 'appetite', 'applauded', 'applause', 'apple', 'appleford', 'applegate', 'apples', 'appleton', 'appliance', 'appliances', 'applicant', 'applicants', 'application', 'applications', 'applied', 'applies', 'apply', 'applying', 'appoint', 'appointed', 'appointment', 'appointments', 'appoints', 'appraisal', 'appraising', 'appreciably', 'appreciate', 'appreciation', 'apprehended', 'apprehension', 'apprentices', 'apprenticeship', 'approach', 'approached', 'approaches', 'approaching', 'appropriate', 'appropriately', 'approval', 'approvals', 'approve', 'approved', 'approximately', 'approximation', 'apps', 'april', 'apurva', 'aquatic', 'ar', 'arab', 'arabia', 'arabian', 'arabic', 'arabs', 'arafat', 'aragones', 'aramaic', 'aramburu', 'arash', 'arbitrarily', 'arbitrary', 'arbitration', 'arbor', 'arbuckle', 'arcade', 'arcades', 'arcelor', 'arch', 'archaeological', 'archangel', 'archbishop', 'archer', 'archibald', 'architect', 'architecture', 'archive', 'archived', 'archives', 'archivists', 'archos', 'arcleor', 'arcy', 'ard', 'ardent', 'arditti', 'area', 'areas', 'areen', 'aren', 'arena', 'arenas', 'aretha', 'argentina', 'argentine', 'argonaut', 'arguably', 'argue', 'argued', 'argues', 'arguing', 'argument', 'argumentative', 'arguments', 'aria', 'ariel', 'arise', 'arisen', 'arising', 'arizona', 'arjan', 'arjen', 'ark', 'arkansas', 'arling', 'arlington', 'arm', 'armagh', 'armando', 'armani', 'armed', 'armenians', 'armentieres', 'armes', 'armour', 'armoury', 'arms', 'armstrong', 'army', 'arnaud', 'arne', 'arnesen', 'arnold', 'aroused', 'arouses', 'arpey', 'arquette', 'arrange', 'arranged', 'arrangement', 'arrangements', 'array', 'arrese', 'arrest', 'arrested', 'arrests', 'arrival', 'arrivals', 'arrive', 'arrived', 'arrives', 'arriving', 'arrogance', 'arrogant', 'arrogantly', 'arsenal', 'arsene', 'arsenide', 'art', 'artell', 'artery', 'arteta', 'artgarden', 'arthritis', 'arthur', 'artic', 'article', 'articles', 'articulate', 'articulated', 'artificial', 'artificially', 'artist', 'artistic', 'artistry', 'artists', 'artois', 'arts', 'artwork', 'artworks', 'aru', 'arvind', 'asagoe', 'asahi', 'asante', 'ascend', 'ascenders', 'ascending', 'ascii', 'ashamed', 'ashanti', 'ashburton', 'ashcroft', 'ashdown', 'ashes', 'ashfield', 'ashley', 'ashton', 'ashvin', 'asi', 'asia', 'asian', 'asians', 'aside', 'asif', 'asimo', 'ask', 'askar', 'asked', 'asking', 'asks', 'asleep', 'aspect', 'aspects', 'aspersions', 'aspic', 'aspiration', 'aspiring', 'asplin', 'ass', 'assad', 'assassin', 'assassinated', 'assassination', 'assault', 'assaulted', 'assaults', 'assembled', 'assembling', 'assembly', 'assert', 'assertion', 'assertions', 'assertiveness', 'asserts', 'asses', 'assess', 'assessed', 'assesses', 'assessing', 'assessment', 'assessments', 'assessor', 'asset', 'assets', 'assigned', 'assigns', 'assist', 'assistance', 'assistant', 'assistants', 'assisted', 'assisting', 'associate', 'associated', 'associates', 'association', 'associations', 'assortment', 'assume', 'assumed', 'assumes', 'assuming', 'assumption', 'assumptions', 'assurance', 'assurances', 'assure', 'assured', 'asteroid', 'aston', 'astonished', 'astonishing', 'astonishingly', 'astonishment', 'astoria', 'astra', 'astro', 'astronauts', 'astronomical', 'asylum', 'asymmetric', 'asymmetry', 'atari', 'ate', 'athens', 'athlete', 'athletes', 'athletic', 'athleticism', 'athletico', 'athletics', 'athlon', 'atinc', 'atkinson', 'atlanta', 'atlantic', 'atlas', 'atletico', 'atmosphere', 'atmospheric', 'atomic', 'atoms', 'aton', 'atp', 'atr', 'att', 'attached', 'attachment', 'attachments', 'attack', 'attacked', 'attacker', 'attackers', 'attacking', 'attacks', 'attaining', 'attainment', 'attallah', 'attempt', 'attempted', 'attempting', 'attempts', 'attend', 'attendance', 'attendances', 'attendant', 'attendants', 'attended', 'attendees', 'attending', 'attends', 'attention', 'attentions', 'attentive', 'atticus', 'attitude', 'attitudes', 'attlee', 'attorney', 'attract', 'attracted', 'attracting', 'attraction', 'attractions', 'attractive', 'attracts', 'attributable', 'attribute', 'attributed', 'attributes', 'atwood', 'au', 'auckland', 'auction', 'auctioned', 'auctioneer', 'auctions', 'audi', 'audience', 'audiences', 'audio', 'audiophile', 'audiovisuel', 'audit', 'audited', 'audition', 'auditions', 'auditor', 'auditorium', 'auditors', 'audrey', 'auf', 'augment', 'augmented', 'august', 'augusto', 'aulis', 'aunt', 'aura', 'aurelien', 'auric', 'aurora', 'auschwitz', 'aussie', 'aussies', 'austin', 'australia', 'australian', 'austria', 'austrian', 'auteuil', 'authenti', 'authentic', 'authentication', 'author', 'authorise', 'authorised', 'authorises', 'authorising', 'authoritarian', 'authoritative', 'authorities', 'authority', 'authors', 'autistic', 'auto', 'autobiographical', 'autobiography', 'autocycle', 'autographs', 'autolink', 'autolinks', 'automated', 'automatic', 'automatically', 'automobile', 'automobiles', 'automotive', 'automotives', 'autosport', 'autumn', 'auvergne', 'auxerre', 'auxiliary', 'av400', 'availability', 'available', 'avalanche', 'avalon', 'avatar', 'avatars', 'avenue', 'avenues', 'average', 'averages', 'averaging', 'avert', 'averting', 'avery', 'avg', 'avi', 'aviation', 'aviator', 'avid', 'avions', 'aviv', 'avoid', 'avoided', 'avoiding', 'avoids', 'avonex', 'avril', 'await', 'awaited', 'awaiting', 'awaits', 'awakening', 'award', 'awarded', 'awarding', 'awards', 'aware', 'awareness', 'away', 'awe', 'awesome', 'awful', 'awkward', 'awol', 'axa', 'axe', 'axed', 'axing', 'aycock', 'aymone', 'aynsley', 'azim', 'azkaban', 'azmat', 'aznavour', 'azzam', 'azzurri', 'baa', 'baas', 'baathist', 'babacan', 'babayaro', 'babies', 'babinet', 'baby', 'babyshamblers', 'babyshambles', 'babysitter', 'babysitting', 'bac', 'baccarat', 'bach', 'bachchan', 'backbench', 'backbencher', 'backbenchers', 'backbenches', 'backbone', 'backdated', 'backdoor', 'backdrop', 'backed', 'backer', 'backers', 'backfired', 'backfires', 'background', 'backgrounds', 'backhand', 'backhands', 'backing', 'backlash', 'backley', 'backline', 'backpack', 'backroom', 'backs', 'backside', 'backsides', 'backsliding', 'backstage', 'backstreet', 'backtrack', 'backtracking', 'backup', 'backward', 'backwards', 'bacon', 'bad', 'baddeley', 'badge', 'badly', 'bae', 'bafana', 'baffled', 'bafin', 'bafta', 'baftas', 'bag', 'bagged', 'baggins', 'baghdad', 'bagle', 'baglihar', 'bagnato', 'bags', 'baha', 'bahamas', 'baht', 'baikal', 'bail', 'bailey', 'bailin', 'bailout', 'bainivalu', 'baiting', 'baker', 'bakersfield', 'bakley', 'balado', 'balance', 'balanced', 'balancing', 'balco', 'balde', 'baldini', 'baldrick', 'balfour', 'balkan', 'balkans', 'balked', 'ball', 'ballad', 'ballboy', 'ballerina', 'ballerinas', 'ballet', 'ballets', 'balloch', 'balloon', 'ballooned', 'ballooning', 'ballot', 'balloted', 'balloting', 'ballots', 'balls', 'ballymena', 'balmer', 'balmy', 'baltacha', 'baltasar', 'bamboozled', 'ban', 'bana', 'banca', 'band', 'bandaid', 'banded', 'banderas', 'bandmates', 'bands', 'bandstand', 'bandwagon', 'bandwidth', 'bang', 'bangaldesh', 'bangalore', 'banging', 'bangkok', 'bangladesh', 'bangladeshi', 'bangor', 'banished', 'banjo', 'bank', 'bankable', 'bankash', 'banked', 'banker', 'bankers', 'banking', 'bankroll', 'bankrupt', 'bankruptcy', 'banks', 'bannatyne', 'banned', 'banner', 'banning', 'banos', 'banque', 'banques', 'banquet', 'bans', 'banter', 'banton', 'baoshan', 'bar', 'barbados', 'barbara', 'barbarians', 'barber', 'barbini', 'barbra', 'barca', 'barcelona', 'barclay', 'barclays', 'barcode', 'bardem', 'bare', 'barely', 'baretta', 'bargain', 'bargains', 'barged', 'baring', 'barings', 'bark', 'barker', 'barking', 'barkley', 'barley', 'barlow', 'barn', 'barnard', 'barnes', 'barnet', 'barnett', 'barney', 'barnsley', 'baroness', 'baros', 'barr', 'barrage', 'barras', 'barratie', 'barred', 'barrel', 'barrels', 'barrick', 'barrier', 'barriers', 'barring', 'barrioneuvo', 'barrionuevo', 'barrister', 'barron', 'barroso', 'barry', 'barrymore', 'bars', 'bartering', 'bartoli', 'barton', 'barwick', 'bas', 'base', 'based', 'basel', 'baseline', 'basement', 'bases', 'bash', 'bashing', 'basic', 'basically', 'basics', 'basildon', 'basing', 'basingstoke', 'basis', 'basketball', 'basking', 'basque', 'basquiat', 'basra', 'bass', 'bassist', 'bastille', 'bat', 'batch', 'batches', 'bateman', 'bates', 'bath', 'bathroom', 'batie', 'batistuta', 'batman', 'battalion', 'batter', 'battered', 'batteries', 'battering', 'battery', 'battle', 'battled', 'battlefield', 'battlefront', 'battlefronts', 'battleground', 'battlegrounds', 'battles', 'battleship', 'battling', 'bautista', 'baweja', 'baxter', 'bay', 'bayer', 'bayern', 'baying', 'bayleaf', 'bays', 'baywatch', 'bb', 'bba', 'bbb', 'bbc', 'bbc1', 'bbc2', 'bbci', 'bcc', 'bdb', 'bdo', 'beach', 'beaches', 'beachgoer', 'beacon', 'beads', 'beagles', 'beam', 'bean', 'bear', 'beard', 'beardsley', 'bearer', 'bearing', 'bears', 'beast', 'beastie', 'beat', 'beatable', 'beaten', 'beating', 'beatings', 'beatle', 'beatles', 'beats', 'beattie', 'beatty', 'beaumont', 'beautiful', 'beauty', 'beauvillian', 'bebo', 'bechtel', 'bechtler', 'beck', 'beckett', 'beckham', 'beckhams', 'beckinsale', 'beckon', 'beckons', 'bed', 'bedding', 'bedell', 'bedford', 'bedingfield', 'bedroom', 'beds', 'bedsits', 'bee', 'beef', 'beefing', 'beeks', 'beenie', 'beer', 'beermaker', 'beers', 'beetle', 'began', 'begg', 'beggared', 'begging', 'begin', 'beginning', 'beginnings', 'begins', 'begrudge', 'begun', 'beh', 'behalf', 'behave', 'behaved', 'behaving', 'behaviour', 'behavioural', 'beheaded', 'behemoth', 'beige', 'beijing', 'beijingers', 'beileve', 'beings', 'beirut', 'beith', 'bejewelled', 'bekele', 'belafonte', 'beleaguered', 'belfast', 'belgian', 'belgians', 'belgium', 'belgrade', 'belgrave', 'belief', 'beliefs', 'believable', 'believe', 'believed', 'believer', 'believes', 'believing', 'belinda', 'belisha', 'bell', 'bellahouston', 'bellamy', 'belle', 'bellicose', 'bellion', 'bells', 'belly', 'belmar', 'belmarsh', 'beloned', 'belong', 'belonged', 'belonging', 'belongings', 'belongs', 'beloved', 'belsen', 'belt', 'bemand', 'bemoaning', 'ben', 'benazir', 'bench', 'benches', 'benchmark', 'benchmarking', 'benchmarks', 'benckiser', 'bend', 'bending', 'benefactors', 'beneficial', 'beneficiaries', 'benefit', 'benefited', 'benefiting', 'benefits', 'benesova', 'benign', 'bening', 'benita', 'benitez', 'benjamin', 'benn', 'bennallack', 'bennett', 'bennington', 'benny', 'benoit', 'bent', 'benz', 'berated', 'berbatov', 'berdych', 'beresford', 'bergamasco', 'berger', 'bergerac', 'bergh', 'bergkamp', 'bergman', 'berhane', 'berhanu', 'beringer', 'berkeley', 'berkovic', 'berlin', 'berlinale', 'berlusconi', 'berman', 'bernabeu', 'bernal', 'bernard', 'bernardo', 'bernath', 'bernd', 'bernie', 'berry', 'bershawn', 'berson', 'bert', 'berta', 'bertelsmann', 'berth', 'berthinussen', 'berti', 'beset', 'bespoke', 'best', 'bestow', 'bests', 'bestseller', 'bestselling', 'bet', 'beta', 'betamax', 'bethnal', 'betrayal', 'betrayed', 'betraying', 'bets', 'betsen', 'better', 'bettered', 'betting', 'betts', 'bevan', 'beverly', 'bewildered', 'bewildering', 'bewilderment', 'bewlay', 'bex', 'beyonce', 'bez', 'bhanu', 'bharti', 'bhi', 'bhp', 'bhutto', 'biarritz', 'bias', 'biased', 'bible', 'biblical', 'bibliographies', 'bicester', 'bickering', 'bicycles', 'bid', 'bidder', 'bidders', 'bidding', 'bide', 'bids', 'bifa', 'big', 'bigger', 'biggest', 'bigley', 'bigoted', 'bigotry', 'bigots', 'bike', 'bilateral', 'bilingual', 'biljon', 'billboard', 'billboards', 'billed', 'billing', 'billingsgate', 'billion', 'billionaire', 'billions', 'billiton', 'bills', 'billy', 'bin', 'binding', 'binge', 'bingham', 'bingley', 'bingo', 'binned', 'binoche', 'biocidal', 'biogen', 'biographer', 'biography', 'biological', 'biology', 'biometric', 'biometrics', 'biopic', 'biotech', 'bipedal', 'birch', 'birchfield', 'bird', 'birkenhead', 'birkett', 'birmingham', 'birth', 'birthday', 'birthdays', 'birthistle', 'biscan', 'biscuit', 'bisected', 'bishop', 'bishops', 'bit', 'bite', 'biting', 'bits', 'bitter', 'bittersweet', 'bittorrent', 'biz', 'bizarre', 'bizet', 'bjorgo', 'bjorkman', 'bjorn', 'black', 'blackadder', 'blackberries', 'blackberry', 'blackburn', 'blackground', 'blacklists', 'blackmail', 'blackmailed', 'blackpool', 'blacks', 'blackwatch', 'blade', 'blair', 'blairite', 'blairs', 'blake', 'blame', 'blamed', 'blames', 'blaming', 'blanchard', 'blanche', 'blanchett', 'bland', 'blank', 'blass', 'blast', 'blasted', 'blasters', 'blasting', 'blasts', 'blatant', 'blatantly', 'blazed', 'blazers', 'blazin', 'blazing', 'blb', 'bleak', 'bleakest', 'bleakly', 'blears', 'bled', 'bleep', 'bleeps', 'blemish', 'blend', 'blending', 'bless', 'blessed', 'blessing', 'blethyn', 'bleus', 'blew', 'blige', 'blight', 'blighted', 'blighting', 'blind', 'blindingly', 'blinked', 'blinkx', 'blinx', 'blip', 'blistering', 'blisters', 'blitz', 'blizzard', 'bloc', 'block', 'blockbuster', 'blockbusters', 'blocked', 'blocking', 'blocks', 'blog', 'blogged', 'blogger', 'bloggers', 'blogging', 'bloglines', 'blogosphere', 'blogs', 'blogsphere', 'bloke', 'blom', 'blomefontein', 'blood', 'bloody', 'bloom', 'bloomberg', 'blooming', 'bloomingdale', 'bloopers', 'blossoming', 'blow', 'blowers', 'blowing', 'blown', 'blows', 'blu', 'blue', 'bluegrass', 'bluephone', 'blueprint', 'blueprints', 'blues', 'bluetooth', 'bluewater', 'blunkett', 'blunt', 'bluntly', 'blur', 'blurred', 'blurs', 'blushed', 'blushes', 'blushing', 'blustery', 'blythe', 'bmg', 'bmr', 'bmw', 'bn', 'bnp', 'bo', 'board', 'boarding', 'boardroom', 'boards', 'boasts', 'boat', 'boateng', 'boats', 'bob', 'bobbitt', 'bobby', 'bobs', 'boca', 'bode', 'bodes', 'bodied', 'bodies', 'bodinat', 'bodleian', 'body', 'bodyguard', 'boe', 'boeing', 'boerse', 'bofra', 'bogart', 'bogdanovic', 'bogota', 'bogus', 'boi', 'boil', 'boiled', 'boiler', 'boils', 'boingboing', 'boix', 'boks', 'bold', 'bolder', 'bollan', 'bollywood', 'bolster', 'bolted', 'bolton', 'bolts', 'bomb', 'bombard', 'bombarded', 'bombardier', 'bombards', 'bombastic', 'bombay', 'bombers', 'bombing', 'bombings', 'bombs', 'bona', 'bonar', 'bond', 'bondarenko', 'bonderman', 'bondholders', 'bondi', 'bonds', 'bondy', 'bone', 'bones', 'bonfire', 'bonham', 'bonhams', 'bonn', 'bonnaire', 'bonnie', 'bonny', 'bono', 'bonus', 'bonuses', 'boogeyman', 'book', 'booked', 'booker', 'bookies', 'booking', 'bookings', 'bookmaker', 'bookmakers', 'bookrunners', 'books', 'booksellers', 'bookshelves', 'bookshops', 'boom', 'boomed', 'booming', 'booms', 'boost', 'boosted', 'boosting', 'boosts', 'boot', 'booted', 'bootle', 'boots', 'booy', 'booz', 'booze', 'boramae', 'border', 'borders', 'bordesley', 'bore', 'bored', 'boring', 'boris', 'born', 'borne', 'boro', 'borough', 'boroughs', 'borrell', 'borrow', 'borrowed', 'borrowers', 'borrowing', 'bortey', 'borthwick', 'bortolami', 'borussia', 'bosch', 'boscholt', 'bosphorus', 'boss', 'bosses', 'bossy', 'boston', 'bosvelt', 'bosworth', 'bot', 'botha', 'bother', 'bothered', 'bots', 'botswana', 'bottle', 'bottled', 'bottlenecks', 'bouba', 'boudewijn', 'bought', 'boukar', 'boulevard', 'boulton', 'bounce', 'bounced', 'bouncers', 'bouncing', 'bound', 'boundaries', 'boundary', 'bounded', 'bounty', 'bouquets', 'bourgoin', 'bourn', 'bourne', 'bournemouth', 'bout', 'bovina', 'bow', 'bowden', 'bowe', 'bowers', 'bowie', 'bowl', 'bowles', 'bowman', 'box', 'boxer', 'boxes', 'boxing', 'boy', 'boyd', 'boyfriend', 'boyfriends', 'boynton', 'boys', 'boyzone', 'bozell', 'bozzi', 'bp', 'bpd', 'bpi', 'br', 'brabeck', 'brace', 'braced', 'bracing', 'brackets', 'bracknell', 'brad', 'bradfield', 'bradford', 'bradley', 'bradshaw', 'brady', 'braff', 'brag', 'bragging', 'braille', 'brain', 'brains', 'brainwave', 'brake', 'brakes', 'braking', 'bramham', 'branch', 'branches', 'brand', 'branded', 'branding', 'brando', 'brands', 'brankin', 'brannen', 'branson', 'brass', 'brave', 'bravely', 'bravery', 'bravest', 'brawl', 'brawn', 'brazil', 'brazilian', 'brazilians', 'brc', 'breach', 'breached', 'breaches', 'breaching', 'bread', 'breadline', 'breadth', 'break', 'breakdown', 'breakdowns', 'breaker', 'breakers', 'breakfast', 'breaking', 'breakneck', 'breaks', 'breakthrough', 'breast', 'breath', 'breathalysed', 'breathe', 'breathed', 'breathing', 'breathtaking', 'brebner', 'breed', 'breeding', 'breezes', 'bremner', 'brenda', 'brendan', 'brennan', 'brent', 'brentford', 'brett', 'breville', 'brewer', 'breweries', 'brewers', 'brewery', 'brewing', 'breyer', 'brian', 'bribe', 'bribery', 'bribes', 'bribing', 'brick', 'bricks', 'bride', 'bridge', 'bridgehead', 'bridgepoint', 'bridges', 'bridget', 'bridgewell', 'brie', 'brief', 'briefcase', 'briefed', 'briefing', 'briefings', 'briefly', 'brien', 'briggs', 'bright', 'brightcove', 'brighten', 'brighter', 'brightest', 'brightly', 'brightmail', 'brighton', 'brigitte', 'brilliance', 'brilliant', 'brilliantly', 'brimming', 'brindley', 'bring', 'bringing', 'brings', 'brink', 'brinkman', 'brisbane', 'bristol', 'brit', 'britain', 'britannia', 'british', 'britney', 'britneys', 'briton', 'britons', 'britpop', 'brits', 'britten', 'britton', 'britz', 'brive', 'brixton', 'brizzel', 'broad', 'broadband', 'broadcast', 'broadcaster', 'broadcasters', 'broadcasting', 'broadcasts', 'broaden', 'broadened', 'broader', 'broadly', 'broadreach', 'broadsheet', 'broadside', 'broadus', 'broadway', 'broccoli', 'brockstein', 'brody', 'broes', 'brokaw', 'broke', 'broken', 'broker', 'brokerage', 'brokered', 'brokers', 'brom', 'bromesberrow', 'bromsgrove', 'bromwich', 'bronchitis', 'bronze', 'bronzes', 'brooker', 'brookings', 'brooks', 'brookside', 'brookstein', 'bros', 'brosnan', 'brothels', 'brother', 'brotherhood', 'brothers', 'brought', 'brown', 'browne', 'brownie', 'brownlees', 'brownsville', 'brownsword', 'browse', 'browsed', 'browser', 'browsers', 'browses', 'browsing', 'bruce', 'bruer', 'bruins', 'bruised', 'bruises', 'bruising', 'brunei', 'bruni', 'brunini', 'bruno', 'brunswick', 'brusca', 'brush', 'brushed', 'brushes', 'brussels', 'brutal', 'brutally', 'brute', 'bryan', 'bryce', 'bryn', 'bryson', 'bsa', 'bse', 'bskyb', 'bsl', 'bst', 'bt', 'bubble', 'bubbles', 'bubbling', 'buccaneer', 'buccaneers', 'bucharest', 'buck', 'bucket', 'buckfield', 'bucking', 'buckingham', 'buckinghamshire', 'buckland', 'buckling', 'bud', 'budapest', 'budd', 'buddhist', 'buddy', 'budge', 'budget', 'budgetary', 'budgeted', 'budgets', 'buds', 'buena', 'buenos', 'buffel', 'buffs', 'bug', 'bugs', 'buick', 'build', 'builder', 'builders', 'building', 'buildings', 'builds', 'buildyourown', 'built', 'buju', 'bulbs', 'bulgaria', 'bulgarian', 'bulging', 'bulk', 'bulky', 'bull', 'bullet', 'bulletin', 'bulletins', 'bullets', 'bullfrog', 'bullish', 'bulloch', 'bullock', 'bulls', 'bully', 'bullying', 'bump', 'bumped', 'bumper', 'bumping', 'bumps', 'bunch', 'bundesbank', 'bundle', 'bundled', 'bundling', 'bunker', 'bunnymen', 'bunuel', 'buoy', 'buoyant', 'buoyed', 'buoying', 'bupa', 'burberry', 'burchill', 'burden', 'burdened', 'burdens', 'burdensome', 'bureau', 'bureaucracy', 'bureaucratic', 'bureaucrats', 'burgas', 'burgeoning', 'burger', 'burgess', 'burglar', 'burglars', 'burgle', 'buried', 'buries', 'burka', 'burke', 'burma', 'burn', 'burner', 'burnett', 'burning', 'burnish', 'burnley', 'burnout', 'burns', 'burrell', 'bursary', 'burst', 'bursting', 'burstow', 'bursts', 'burt', 'bury', 'burying', 'bus', 'buscemi', 'busch', 'bush', 'bushtucker', 'busier', 'busiest', 'business', 'businesses', 'businessman', 'bussell', 'bust', 'busted', 'busting', 'busy', 'butcher', 'bute', 'butler', 'butlers', 'butragueno', 'butt', 'butters', 'butting', 'button', 'buttons', 'buxton', 'buy', 'buyback', 'buybacks', 'buyer', 'buyers', 'buying', 'buyout', 'buys', 'buzz', 'buzzing', 'buzzwords', 'bwv', 'bye', 'byline', 'bypassed', 'bypassing', 'byrne', 'byron', 'c180', 'c4', 'ca', 'cab', 'caballeros', 'cabin', 'cabinet', 'cabinets', 'cabir', 'cable', 'cables', 'cabs', 'cachet', 'cactus', 'cadbury', 'cadena', 'cadillac', 'cadmium', 'caf', 'cafe', 'cafes', 'cafod', 'cafu', 'cagigal', 'cahill', 'caillet', 'caire', 'cairn', 'cairo', 'cake', 'calculate', 'calculated', 'calculations', 'calculator', 'calculators', 'calcutta', 'calder', 'caldwell', 'caledonian', 'calendar', 'calf', 'calibre', 'calico', 'california', 'calisto', 'callaghan', 'called', 'calleri', 'callers', 'calling', 'callow', 'calls', 'calm', 'calmer', 'calming', 'calorie', 'calum', 'calvin', 'calvisano', 'calyon', 'camara', 'camaraderie', 'cambiemos', 'cambodia', 'cambridge', 'cambridgeshire', 'camcorder', 'camcorders', 'camden', 'came', 'camels', 'cameo', 'camera', 'cameras', 'cameron', 'cameroon', 'cameroonians', 'camilla', 'camille', 'camp', 'campaign', 'campaigned', 'campaigner', 'campaigners', 'campaigning', 'campaigns', 'campbell', 'campell', 'camper', 'camps', 'cams', 'canada', 'canadian', 'canal', 'canale', 'canary', 'canas', 'canberra', 'cancel', 'cancellation', 'cancellations', 'cancelled', 'cancelling', 'cancels', 'cancer', 'candela', 'candid', 'candidate', 'candidates', 'candidly', 'candillon', 'cannabidiol', 'cannabis', 'canned', 'cannes', 'cannibalism', 'cannibals', 'cannings', 'cannisters', 'cannon', 'canny', 'canopy', 'cantata', 'canterbury', 'cantona', 'canvas', 'canvass', 'canvassers', 'canvassing', 'canyon', 'cao', 'cap', 'capabilities', 'capability', 'capable', 'capacities', 'capacity', 'cape', 'capella', 'capellas', 'caper', 'capgemini', 'capital', 'capitalisation', 'capitalise', 'capitalised', 'capitol', 'capitulation', 'capleton', 'capped', 'capping', 'capra', 'capriati', 'caprice', 'caps', 'capt', 'captain', 'captaincy', 'captained', 'caption', 'captioning', 'captivated', 'captivity', 'capture', 'captured', 'captures', 'capturing', 'car', 'cara', 'caramel', 'caravaggio', 'caravan', 'carbon', 'carbonated', 'card', 'carded', 'carderplanet', 'cardiff', 'cards', 'cardwell', 'care', 'cared', 'career', 'careers', 'careful', 'carefully', 'careless', 'carer', 'carers', 'cares', 'caretaker', 'carey', 'carfax', 'carib', 'caribbean', 'caribs', 'caricatures', 'caring', 'carl', 'carla', 'carling', 'carlish', 'carlisle', 'carlo', 'carlos', 'carlsen', 'carly', 'carmaker', 'carmakers', 'carmaking', 'carman', 'carmen', 'carnival', 'carol', 'carolina', 'caroline', 'carpenter', 'carpet', 'carr', 'carradine', 'carragher', 'carrey', 'carrick', 'carried', 'carrier', 'carriers', 'carries', 'carroll', 'carrow', 'carry', 'carrying', 'cars', 'carsley', 'carson', 'carswell', 'carta', 'cartagena', 'carte', 'cartel', 'carter', 'carthy', 'cartilage', 'cartoon', 'cartridge', 'carvalho', 'carve', 'carved', 'carvel', 'carving', 'carwyn', 'cas', 'casablanca', 'casalme', 'case', 'cases', 'casey', 'cash', 'cashed', 'casino', 'casinos', 'casio', 'caspian', 'cassette', 'cast', 'castaldo', 'casting', 'castle', 'castor', 'castro', 'castrogiovanni', 'casts', 'casual', 'casualties', 'casualty', 'cat', 'catalan', 'catalina', 'catalogue', 'catalogues', 'cataloguing', 'catalysed', 'catalyst', 'catapulted', 'catastrophe', 'catastrophes', 'catch', 'catching', 'catchy', 'cate', 'categorically', 'categories', 'categorisation', 'categorise', 'category', 'catering', 'cates', 'cathal', 'catherina', 'catherine', 'catholic', 'catholics', 'cathy', 'cats', 'catsuit', 'cattle', 'cattrall', 'catwoman', 'caudwell', 'caught', 'cauldron', 'cause', 'caused', 'causes', 'causeway', 'causing', 'caustic', 'caution', 'cautioned', 'cautions', 'cautious', 'cautiously', 'cavalcade', 'cavalier', 'cavanagh', 'cave', 'cayenne', 'cazalets', 'cb', 'cbbc', 'cbi', 'cbo', 'cbs', 'ccf', 'cctv', 'cd', 'cdp', 'cds', 'cea', 'cease', 'ceased', 'ceasefire', 'cec', 'cech', 'cecil', 'cedric', 'ceiling', 'celebrate', 'celebrated', 'celebrates', 'celebrating', 'celebration', 'celebrations', 'celebrities', 'celebrity', 'celeron', 'celestine', 'cell', 'cellery', 'cellnet', 'cells', 'celltick', 'celta', 'celtic', 'celts', 'cement', 'cemented', 'cemetery', 'censor', 'censored', 'censors', 'cent', 'centenary', 'center', 'centimetres', 'centr', 'central', 'centralisation', 'centrally', 'centre', 'centred', 'centrepiece', 'centres', 'centring', 'cents', 'centuries', 'century', 'ceo', 'cepes', 'ceplak', 'cept', 'ceremonies', 'ceremony', 'ceri', 'cern', 'certain', 'certainly', 'certainty', 'certificate', 'certification', 'certified', 'ces', 'cesar', 'cesc', 'cessna', 'cfa', 'cfca', 'cfx', 'cga', 'cgi', 'chabal', 'chagrin', 'chain', 'chained', 'chains', 'chainsaw', 'chair', 'chaired', 'chairing', 'chairman', 'chairmanship', 'chairmen', 'chairs', 'chaiyasoot', 'chakkara', 'chakrabarti', 'chalk', 'challenge', 'challenged', 'challenger', 'challengers', 'challenges', 'challenging', 'chamber', 'chambers', 'chambre', 'champagne', 'champion', 'champions', 'championship', 'championships', 'chan', 'chancay', 'chance', 'chancellor', 'chancellors', 'chances', 'chancing', 'chandler', 'chang', 'change', 'changeable', 'changed', 'changeover', 'changer', 'changes', 'changi', 'changing', 'chango', 'channel', 'channels', 'chanting', 'chants', 'chaos', 'chaotic', 'chap', 'chapel', 'chaplin', 'chapman', 'chapter', 'chapters', 'character', 'characterised', 'characterises', 'characteristically', 'characters', 'charade', 'charbonnier', 'charcote', 'charge', 'charged', 'charges', 'charging', 'charing', 'charismatic', 'charitable', 'charities', 'charity', 'charlatans', 'charleroi', 'charles', 'charlie', 'charlize', 'charlotte', 'charlton', 'charly', 'charm', 'charming', 'charms', 'chart', 'charted', 'charter', 'chartered', 'chartering', 'charting', 'charts', 'charvis', 'chase', 'chased', 'chasing', 'chassis', 'chat', 'chatham', 'chatrooms', 'chatshow', 'chatted', 'chatter', 'chauvinistic', 'chavez', 'cheap', 'cheapened', 'cheaper', 'cheapest', 'cheaply', 'cheapness', 'cheating', 'cheats', 'check', 'checked', 'checking', 'checkpoints', 'checks', 'cheekbone', 'cheeky', 'cheer', 'cheerful', 'cheerleader', 'cheers', 'cheese', 'cheeses', 'cheetham', 'chef', 'chela', 'chelsea', 'chemical', 'chemicals', 'chemistry', 'chen', 'cheney', 'chennai', 'chepkemei', 'cheque', 'cherie', 'cherish', 'cherished', 'cherkasova', 'chernin', 'cheshire', 'cheslea', 'chest', 'chester', 'cheung', 'chevrolet', 'chevrontexaco', 'chia', 'chic', 'chicago', 'chicken', 'chicoine', 'chidambaram', 'chides', 'chief', 'chiefs', 'chieko', 'chiffon', 'chiffre', 'chihwaseon', 'child', 'childcare', 'childe', 'childhood', 'childlike', 'children', 'childs', 'chile', 'chilean', 'chill', 'chilly', 'chin', 'china', 'chinese', 'chino', 'chip', 'chipped', 'chipping', 'chips', 'chirac', 'chit', 'chittabrata', 'chocolate', 'choice', 'choices', 'choir', 'choking', 'cholesterol', 'chomsky', 'chongqing', 'chook', 'choose', 'chooses', 'choosing', 'chop', 'chopin', 'chopped', 'chore', 'choreographed', 'choreographers', 'choreography', 'choristes', 'chorus', 'chose', 'chosen', 'chris', 'chrissie', 'christ', 'christchurch', 'christian', 'christianity', 'christie', 'christina', 'christmas', 'christmases', 'christophe', 'christopher', 'christos', 'chromium', 'chronic', 'chronically', 'chronicle', 'chronicles', 'chronology', 'chronometer', 'chrysler', 'chubb', 'chum', 'chung', 'chunk', 'church', 'churches', 'churchill', 'churlishly', 'churn', 'churning', 'chuter', 'cia', 'ciara', 'cibc', 'cicero', 'cigala', 'cigarettes', 'cigars', 'cincinnati', 'cinema', 'cinemas', 'cinematic', 'cinematographer', 'cinematographically', 'cinematography', 'ciphertrust', 'cips', 'circle', 'circles', 'circling', 'circuit', 'circuits', 'circular', 'circulated', 'circulating', 'circulation', 'circumstances', 'circumvent', 'circuses', 'cisco', 'cisse', 'cite', 'cited', 'cites', 'cities', 'citigroup', 'citing', 'citizen', 'citizens', 'citizenship', 'citroen', 'citu', 'city', 'civic', 'civil', 'civilian', 'civilians', 'civilisation', 'civilised', 'cj', 'ckx', 'cl', 'claassens', 'claes', 'claim', 'claimant', 'claimed', 'claiming', 'claims', 'claire', 'clam', 'clamour', 'clamp', 'clampdown', 'clampett', 'clamping', 'clamshell', 'clandestine', 'clank', 'clans', 'clapping', 'clapton', 'claquin', 'clara', 'clare', 'clarence', 'clarets', 'claridge', 'clarified', 'clarify', 'clarifying', 'clarity', 'clark', 'clarke', 'clarkson', 'clash', 'clashed', 'clashes', 'class', 'classed', 'classes', 'classic', 'classical', 'classics', 'classification', 'classifications', 'classified', 'classroom', 'classy', 'claude', 'claudia', 'claudio', 'clause', 'clauses', 'clawed', 'claws', 'claxton', 'clay', 'clayton', 'clean', 'cleaned', 'cleaner', 'cleaners', 'cleaning', 'clear', 'clearance', 'cleared', 'clearer', 'clearest', 'clearing', 'clearly', 'clearskies', 'clearstream', 'clearswift', 'cleese', 'clem', 'clement', 'clemente', 'clergy', 'clergyman', 'clerical', 'clerk', 'clermont', 'cleveland', 'clever', 'cleverly', 'cliche', 'clichy', 'click', 'clicked', 'clicking', 'clicks', 'client', 'clients', 'cliff', 'cliffhanger', 'clifford', 'clijsters', 'climan', 'climate', 'climax', 'climb', 'climbed', 'climbing', 'climbs', 'clinch', 'clinched', 'clinches', 'clinching', 'cling', 'clinging', 'clinic', 'clinical', 'clinically', 'clint', 'clinton', 'clipped', 'clips', 'cliques', 'clitheroe', 'clive', 'clock', 'clocked', 'clocking', 'clockwork', 'cloete', 'clog', 'clogged', 'clones', 'cloning', 'clooney', 'close', 'closed', 'closely', 'closer', 'closes', 'closest', 'closet', 'closets', 'closing', 'closure', 'closures', 'clothe', 'clothes', 'clothing', 'cloud', 'clouded', 'clouding', 'clown', 'club', 'club2school', 'clubbing', 'clubman', 'clubs', 'clue', 'cluedo', 'clues', 'cluley', 'clump', 'clumsily', 'clumsy', 'clunes', 'clung', 'clutch', 'clutches', 'clutter', 'clyde', 'cmf', 'cml', 'cnpc', 'coach', 'coached', 'coaches', 'coaching', 'coachmen', 'coal', 'coalition', 'coarse', 'coast', 'coastal', 'coasted', 'coat', 'coatings', 'coax', 'cobain', 'cobblestones', 'cobh', 'cobhwoman', 'cocaine', 'cochilco', 'cock', 'cockbain', 'cockerell', 'cockerill', 'cocktail', 'coddled', 'code', 'coded', 'codelco', 'codemasters', 'codename', 'codenamed', 'coders', 'codes', 'coffee', 'coffers', 'coghlan', 'cogniron', 'cohen', 'coherence', 'coherent', 'cohesion', 'cohorts', 'coin', 'coincide', 'coincided', 'coincidence', 'coincidental', 'coincidentally', 'coined', 'coins', 'cojedes', 'coking', 'col', 'cola', 'colchester', 'cold', 'colder', 'coldplay', 'cole', 'coleman', 'colen', 'coleraine', 'colgan', 'colin', 'collaborate', 'collaborated', 'collaborating', 'collaboration', 'collaborations', 'collaborative', 'collaborator', 'collapse', 'collapsed', 'collateral', 'colleague', 'colleagues', 'collect', 'collected', 'collecting', 'collection', 'collections', 'collective', 'collector', 'collectors', 'collects', 'college', 'colleges', 'collegiate', 'collide', 'collided', 'colliding', 'collier', 'collins', 'collision', 'colloquial', 'colluded', 'colludes', 'colombia', 'colombian', 'colonel', 'colonisation', 'colony', 'colorado', 'colosseum', 'colossus', 'colour', 'coloured', 'colourful', 'colours', 'coltrane', 'columbia', 'column', 'columnist', 'columns', 'com', 'coma', 'comb', 'combat', 'combatant', 'combatants', 'combating', 'combats', 'combination', 'combine', 'combined', 'combines', 'combining', 'combs', 'come', 'comeback', 'comedian', 'comedians', 'comedic', 'comedies', 'comedy', 'comes', 'comfort', 'comfortable', 'comfortably', 'comic', 'comics', 'coming', 'command', 'commanded', 'commandeered', 'commander', 'commanders', 'commands', 'commences', 'commendable', 'comment', 'commentary', 'commentator', 'commentators', 'commented', 'commenting', 'comments', 'commerce', 'commercial', 'commercialisation', 'commercialised', 'commercially', 'commercials', 'commission', 'commissioned', 'commissioner', 'commissioners', 'commissions', 'commit', 'commitment', 'commitments', 'committed', 'committee', 'committees', 'committing', 'commoditising', 'commodity', 'commodore', 'common', 'commonly', 'commonplace', 'commons', 'commonwealth', 'communicate', 'communicated', 'communicating', 'communication', 'communications', 'communicator', 'communiqu', 'communism', 'communist', 'communists', 'communities', 'community', 'commuters', 'compact', 'companies', 'companion', 'companions', 'company', 'comparable', 'comparatively', 'compare', 'compared', 'compares', 'comparing', 'comparison', 'comparisons', 'compass', 'compassion', 'compatibility', 'compatible', 'compatriot', 'compatriots', 'compelled', 'compelling', 'compensate', 'compensated', 'compensation', 'compete', 'competed', 'competences', 'competency', 'competent', 'competes', 'competing', 'competition', 'competitions', 'competitive', 'competitiveness', 'competitor', 'competitors', 'competitve', 'compilation', 'compile', 'compiled', 'compiles', 'compiling', 'complacency', 'complacent', 'complain', 'complained', 'complaining', 'complains', 'complaint', 'complaints', 'complement', 'complete', 'completed', 'completely', 'completes', 'completing', 'completion', 'completions', 'complex', 'complexes', 'complexities', 'complexity', 'compliance', 'complicated', 'complied', 'complimentary', 'comply', 'component', 'components', 'composed', 'composer', 'composers', 'composite', 'composition', 'compositions', 'composure', 'compounded', 'comprehensive', 'comprehensively', 'compress', 'compressed', 'compressing', 'compression', 'comprise', 'comprised', 'comprises', 'comprising', 'compromise', 'compromised', 'compromises', 'compromising', 'comptia', 'comptroller', 'compulsive', 'compulsory', 'computational', 'computer', 'computerandvideogames', 'computerised', 'computers', 'computing', 'conceal', 'concealed', 'concealing', 'conceals', 'concede', 'conceded', 'conceding', 'conceivable', 'conceived', 'concentrate', 'concentrated', 'concentrates', 'concentrating', 'concentration', 'concept', 'conceptually', 'concern', 'concerned', 'concerning', 'concerns', 'concert', 'concerted', 'concerts', 'concession', 'concessions', 'conchita', 'conciliation', 'concise', 'conclude', 'concluded', 'concludes', 'concluding', 'conclusion', 'conclusions', 'conclusive', 'conclusively', 'concrete', 'concurrently', 'condemned', 'condemning', 'condemns', 'condition', 'conditions', 'condoleezza', 'condom', 'condoms', 'conduct', 'conducted', 'conducting', 'conductive', 'conductor', 'conducts', 'confectionery', 'confederation', 'conference', 'conferences', 'conferencing', 'conferring', 'confess', 'confessed', 'confesses', 'confessions', 'confided', 'confidence', 'confident', 'confidential', 'confidentiality', 'confidently', 'confined', 'confines', 'confining', 'confirm', 'confirmation', 'confirmed', 'confirming', 'confirms', 'conflict', 'conflicting', 'conflicts', 'conform', 'conformity', 'confound', 'confounded', 'confounding', 'confront', 'confrontation', 'confrontational', 'confronted', 'confuse', 'confused', 'confusing', 'confusingly', 'confusion', 'congdon', 'congenial', 'congested', 'congratulate', 'congratulated', 'congratulates', 'congratulations', 'congress', 'congressional', 'congressmen', 'conjoined', 'conjunction', 'conlon', 'conman', 'conmen', 'connaught', 'connect', 'connected', 'connecting', 'connection', 'connections', 'connectivity', 'connectors']\n"
     ]
    }
   ],
   "source": [
    "feature_names = vectorizer.get_feature_names()\n",
    "\n",
    "print(len(feature_names))\n",
    "print(feature_names[:5000])"
   ]
  },
  {
   "cell_type": "code",
   "execution_count": 12,
   "metadata": {},
   "outputs": [],
   "source": [
    "import numpy.ma as ma\n",
    "\n",
    "def write_terms (feature_names, data, vector_data, index):\n",
    "    '''\n",
    "    Escribe los términos presentes en un mensaje representado como bolsa de palabras.\n",
    "    \n",
    "    - feature_names: terminos usados para vectorizar\n",
    "    - data: lista de mensajes original (si data==None no se muestra el mensaje original)\n",
    "    - vector_data: matriz (dispersa) de mensaje vectorizados\n",
    "    - index: posición del mensaje a mostrar\n",
    "    '''\n",
    "    # máscara para seleccionar sólo el mensaje en posición index\n",
    "    mask=vector_data[index,:]>0\n",
    "    \n",
    "    # términos que aparecen en ese mensaje vectorizado\n",
    "    terminos = ma.array(feature_names, mask = ~(mask[0].toarray()))\n",
    "    \n",
    "    # mostrar mensaje original\n",
    "    if data is not None:\n",
    "        print('Mensaje', index, ':', data[index])\n",
    "    \n",
    "    # mostrar términos que aparecen en el mensaje vectorizado\n",
    "    print('Mensaje', index, 'vectorizado:', terminos.compressed(),'\\n')"
   ]
  },
  {
   "cell_type": "markdown",
   "metadata": {},
   "source": [
    "Mostramos un mensaje aleatorio tanto entero como vectorizado y comparamos."
   ]
  },
  {
   "cell_type": "code",
   "execution_count": 13,
   "metadata": {},
   "outputs": [
    {
     "name": "stdout",
     "output_type": "stream",
     "text": [
      "Mensaje 23 : holmes starts 2005 with gb events kelly holmes will start 2005 with a series of races in britain.  holmes will make her first track appearance on home soil since winning double olympic gold in january s norwich union international in glasgow. she will also run in the grand prix in birmingham in february and may defend her indoor aaa 800m title in sheffield earlier that month.  i am still competitive and still want to win   she said.  i m an athlete and i can t wait to get back on the track.  she added:  these events are also a great opportunity to thank the british public for the enormous levels of support they have given me from the moment i stepped off that plane from greece.  the glasgow meeting will see holmes compete over 1500m in a five-way match against sweden  france  russia and italy.\n",
      "Mensaje 23 vectorizado: ['1500m' '2005' '800m' 'aaa' 'added' 'appearance' 'athlete' 'birmingham'\n",
      " 'britain' 'british' 'compete' 'competitive' 'defend' 'double' 'earlier'\n",
      " 'enormous' 'events' 'february' 'france' 'gb' 'given' 'glasgow' 'gold'\n",
      " 'grand' 'great' 'greece' 'holmes' 'home' 'indoor' 'international' 'italy'\n",
      " 'january' 'kelly' 'levels' 'make' 'match' 'meeting' 'moment' 'month'\n",
      " 'norwich' 'olympic' 'opportunity' 'plane' 'prix' 'public' 'races' 'run'\n",
      " 'russia' 'said' 'series' 'sheffield' 'soil' 'start' 'starts' 'stepped'\n",
      " 'support' 'sweden' 'thank' 'title' 'track' 'union' 'wait' 'want' 'way'\n",
      " 'win' 'winning'] \n",
      "\n"
     ]
    }
   ],
   "source": [
    "write_terms(feature_names, train_data['Text'].values , train_vector_data, 23)"
   ]
  },
  {
   "cell_type": "markdown",
   "metadata": {},
   "source": [
    "Observamos que se eliminan todas las palabras que no aportan significado como las preposiciones, conjunciones, pronombres y algunos verbos nominales o comunes. Estas son las palabras que están dentro del conjunto de stopped_words del ingés y son eliminadas para reducir la dimensionalidad de las matrices y para que el entrenador solo tenga las palabras más relevantes que en un principio van a servir para clasificar."
   ]
  },
  {
   "cell_type": "markdown",
   "metadata": {},
   "source": [
    "Para calcular precisiones en el conjunto de prueba, debemos transformar también los mensajes en bolsas de palabras con TF/IDF usando el `CountVectorizer` y `TfidfTransformer` ajustados con el conjunto de entrenamiento."
   ]
  },
  {
   "cell_type": "code",
   "execution_count": 14,
   "metadata": {},
   "outputs": [],
   "source": [
    "tfidfer = TfidfTransformer()\n",
    "train_preprocessed = tfidfer.fit_transform(train_vector_data)\n",
    "# Tomamos los textos del conjunto de test y los transformamos en una matriz\n",
    "# de palabras. Al usar \"transform\" toma como referencia únicamente las palabras\n",
    "# encontradas en el conjunto de entrenamiento\n",
    "test_vector_data=vectorizer.transform(test_data['Text'])\n",
    "# Calculamos el valor TF-IDF \n",
    "# Al usar \"transform\" toma como IDF el del conjunto de entrenamiento \n",
    "test_preprocessed=tfidfer.transform(test_vector_data)"
   ]
  },
  {
   "cell_type": "markdown",
   "metadata": {},
   "source": [
    "Calculamos la precisión@5 para cada una de las clases, que es la precisión a nivel de exhaustividad 5, que nos calcula cuantos de los 5 primeros documentos de una lista son de la clase deseada.\n",
    "Consideramos que un documento recuperado es relevante cuando pertenezca a la misma clase que la consulta."
   ]
  },
  {
   "cell_type": "code",
   "execution_count": 15,
   "metadata": {},
   "outputs": [],
   "source": [
    "from sklearn.metrics.pairwise import cosine_similarity\n",
    "\n",
    "def knn(query, X_train, k):\n",
    "    '''Devuelve los índices de los k documentos de entrenamiento más similares a la consulta usando \n",
    "    la similitud del coseno.\n",
    "    \n",
    "    Parámetros:\n",
    "    - query: documento consulta vectorizado\n",
    "    - X_train: documentos de entrenamiento vectorizados\n",
    "    - k: número de documentos a recuperar\n",
    "    \n",
    "    Devuelve:\n",
    "    - índices de los k documentos más similares a la consulta.\n",
    "    '''\n",
    "    \n",
    "    # Necesitamos un vector de dimensión (1, X). Si se pasa un vector de dimensión X, transformarlo\n",
    "    if len(query.shape) == 1:\n",
    "        query = query.reshape(1, -1)\n",
    "\n",
    "    simil = cosine_similarity(query, X_train)\n",
    "    simil_idx = np.argsort(simil.flatten())\n",
    "    simil_idx = simil_idx[::-1]\n",
    "    return simil_idx[:k]"
   ]
  },
  {
   "cell_type": "code",
   "execution_count": 16,
   "metadata": {},
   "outputs": [],
   "source": [
    "def precision_at_k(y_selected, y_real, k):\n",
    "    '''Devuelve la precisión @k de los documentos seleccionados.\n",
    "    \n",
    "    Parametros:\n",
    "    - y_selected: etiquetas de los documentos seleccionados (se usan los k primeros)\n",
    "    - y_real: etiqueta de la categoría correcta\n",
    "    - k: número de documentos que se tienen en cuenta\n",
    "    \n",
    "    Devuelve:\n",
    "    - Precisión@k\n",
    "    '''\n",
    "    \n",
    "    return np.sum(y_selected[:k] == y_real) / k * 100"
   ]
  },
  {
   "cell_type": "code",
   "execution_count": 17,
   "metadata": {},
   "outputs": [],
   "source": [
    "def mean_precisions_per_class(X_train, y_train, X_test, y_test, k):\n",
    "    '''Devuelve las precision@k media para cada una de las classes.\n",
    "    \n",
    "    Parámetros:\n",
    "    - X_train: documentos de entrenamiento vectorizados.\n",
    "    - y_train: etiquetas de los documentos de entrenamiento.\n",
    "    - X_test: documentos vectorizados que se usan como consultas\n",
    "    - y_test: etiquetas de los documentos que se usan como consultas\n",
    "    - k: número de documentos considerados a recuperar por la consulta\n",
    "    \n",
    "    Devuelve:\n",
    "    - Diccionario clase -> precisión en tanto por ciento.\n",
    "    '''\n",
    "    \n",
    "    # diccionario categoría -> lista de precisiones\n",
    "    y_precisions = {y: [] for y in np.unique(y_test)}\n",
    "    \n",
    "    # Calcular precision@k para cada consulta\n",
    "    for x_query, y_query in zip(X_test, y_test):\n",
    "        idx = knn(x_query, X_train, k)\n",
    "        y_selected = np.take(y_train, idx)\n",
    "        precision = precision_at_k(y_selected, y_query, k)\n",
    "        y_precisions[y_query].append(precision)\n",
    "        \n",
    "    # Calcular medias\n",
    "    for y in y_precisions:\n",
    "        y_precisions[y] = np.mean(y_precisions[y])\n",
    "    \n",
    "    return y_precisions"
   ]
  },
  {
   "cell_type": "code",
   "execution_count": 18,
   "metadata": {},
   "outputs": [
    {
     "data": {
      "text/plain": [
       "{'business': 84.38356164383562,\n",
       " 'entertainment': 84.26229508196721,\n",
       " 'politics': 88.66666666666667,\n",
       " 'sport': 97.70491803278688,\n",
       " 'tech': 88.83720930232558}"
      ]
     },
     "execution_count": 18,
     "metadata": {},
     "output_type": "execute_result"
    }
   ],
   "source": [
    "p5 = mean_precisions_per_class(train_preprocessed, train_data['Category'], test_preprocessed, test_data['Category'], 5)\n",
    "p5"
   ]
  },
  {
   "cell_type": "markdown",
   "metadata": {},
   "source": [
    "Dibujamos el diagrama de barras con la precisión@5 por clase para analizar los datos visualmente"
   ]
  },
  {
   "cell_type": "code",
   "execution_count": 19,
   "metadata": {},
   "outputs": [
    {
     "data": {
      "text/plain": [
       "<AxesSubplot:xlabel='Category'>"
      ]
     },
     "execution_count": 19,
     "metadata": {},
     "output_type": "execute_result"
    },
    {
     "data": {
      "image/png": "[encoded data removed]",
      "text/plain": [
       "<Figure size 432x288 with 1 Axes>"
      ]
     },
     "metadata": {
      "needs_background": "light"
     },
     "output_type": "display_data"
    }
   ],
   "source": [
    "df_p5 = pd.DataFrame.from_dict(p5, orient='index', columns=['precision@5'])\n",
    "\n",
    "df_p5['Category'] = ['business', 'entertainment', 'politics', 'sport', 'tech']\n",
    "\n",
    "d = df_p5.set_index(\"Category\")\n",
    "\n",
    "d.plot.bar()"
   ]
  },
  {
   "cell_type": "markdown",
   "metadata": {},
   "source": [
    "En todas las categorías, más del 80% de las consultas nos devolverán un texto de la categoría deseada. Estos porcentajes son bastante altos, y, por lo tanto, fiables. Podemos ver que es ligeramente mayor, casi rozando el 100%, para la categoría 'sport', lo que se puede deber a la aparición de vocabulario específico en estos textos y que guardan muy poca relación con  los otros temas. Por otro lado, la menor precisión registrada es 'entertainment' con un 84%. En esta categoría recoge temas muy amplios, por lo que dos textos pueden tener muy poco en común y aún así estar ambos en esta misma categoría (por ejemplo, una noticia sobre la ceremonia de los premios Óscar y el anuncio de gira de un grupo de música). A parte de ser un tema muy extenso, que abarca varios aspectos de la vida, también encuentra similitudes con otros temas en los que están clasificados estos textos, lo que hace más díficil poder encontrar documentos relevantes asociados con una consulta de entretenimiento.   "
   ]
  },
  {
   "cell_type": "markdown",
   "metadata": {
    "id": "lH7sldldpzXi"
   },
   "source": [
    "## 3) Representación basada en word-embeddings y tf-idf\n",
    "\n",
    "La segunda vectorización que vamos a usar representará los mensajes usando usando word-embeddings usando como pesos la frecuencia de aparición de cada palabra. Al igual que en el apartado anterior, usaremos monogramas y las _stop words_ que vienen configuradas por defecto para el inglés. Recuerda usar como vocabulario para vectorizar el vocabulario del fichero con las word-embeddings.\n",
    "\n",
    "Aplica la vectorización a los conjuntos de mensajes de entrenamiento y test.\n",
    "\n",
    "Calcula la precisión@5 de cada una de las clases usando como consultas los documentos de la partición de test y la similitud del coseno. Vamos a considerar que un documento recuperado es relevante cuando pertenezca a la misma clase que la consulta.\n",
    "\n",
    "Dibuja los resultados en un diagrama de barras y compara los resultados con los del apartado anterior."
   ]
  },
  {
   "cell_type": "markdown",
   "metadata": {},
   "source": [
    "Cargamos y traducimos el fichero de la words-embeddings de Glove al formato word2vec, que reconoce Gensim, que en realidad es prácticamente idéntico al que ya tenemos."
   ]
  },
  {
   "cell_type": "code",
   "execution_count": 20,
   "metadata": {},
   "outputs": [],
   "source": [
    "from gensim.scripts.glove2word2vec import glove2word2vec\n",
    "from gensim.models import KeyedVectors\n",
    "\n",
    "# Traducimos el fichero glove a un fichero con formato word2vec\n",
    "glove_file = 'glove.6B.50d.txt'\n",
    "#glove_file = '/content/drive/MyDrive/Asignaturas/IA/IA2_21-22/Material/PLN/tmp/practica/Parte 1/glove.6B.50d.txt'\n",
    "\n",
    "# Gensim 3 requiere hacerlo en varios pasos\n",
    "#word2vec_file = 'glove.6B.50d.txt.word2vec'\n",
    "#glove2word2vec(glove_file, word2vec_file)\n",
    "#model = KeyedVectors.load_word2vec_format(word2vec_file, binary=False)\n",
    "\n",
    "# Gensim 4 puede transformar de glove a word2vec directamente\n",
    "model = KeyedVectors.load_word2vec_format(glove_file, binary=False, no_header=True)"
   ]
  },
  {
   "cell_type": "markdown",
   "metadata": {},
   "source": [
    "Creamos un vocabulario con todas las palabras del word-embeddings"
   ]
  },
  {
   "cell_type": "code",
   "execution_count": 21,
   "metadata": {},
   "outputs": [
    {
     "name": "stdout",
     "output_type": "stream",
     "text": [
      "['the', ',', '.', 'of', 'to', 'and', 'in', 'a', '\"', \"'s\"]\n"
     ]
    }
   ],
   "source": [
    "we_vocabulary = list(model.key_to_index.keys())\n",
    "\n",
    "print(we_vocabulary[0:10])"
   ]
  },
  {
   "cell_type": "markdown",
   "metadata": {},
   "source": [
    "Vectorizamos utilizando el vocabulario obtenido de las word.embeddings"
   ]
  },
  {
   "cell_type": "code",
   "execution_count": 22,
   "metadata": {},
   "outputs": [
    {
     "data": {
      "text/plain": [
       "<1192x400000 sparse matrix of type '<class 'numpy.int64'>'\n",
       "\twith 169636 stored elements in Compressed Sparse Row format>"
      ]
     },
     "execution_count": 22,
     "metadata": {},
     "output_type": "execute_result"
    }
   ],
   "source": [
    "vectorizerwe = CountVectorizer(vocabulary = we_vocabulary,stop_words='english', binary=False)\n",
    "# Tomamos los textos del conjunto de entrenamiento y los transformamos en \n",
    "# una matriz de datos (palabras) según el diccionario estándar\n",
    "train_vector_datawe=vectorizerwe.fit_transform(train_data['Text'])\n",
    "train_vector_datawe"
   ]
  },
  {
   "cell_type": "markdown",
   "metadata": {},
   "source": [
    "Aplicamos los pesos TF-IDF a nuestros datos vectorizados"
   ]
  },
  {
   "cell_type": "code",
   "execution_count": 23,
   "metadata": {},
   "outputs": [],
   "source": [
    "tfidfer = TfidfTransformer()\n",
    "train_preprocessedwe = tfidfer.fit_transform(train_vector_datawe)\n",
    "\n",
    "test_vector_datawe=vectorizerwe.transform(test_data['Text'])\n",
    "test_preprocessedwe=tfidfer.fit_transform(test_vector_datawe)"
   ]
  },
  {
   "cell_type": "code",
   "execution_count": 24,
   "metadata": {},
   "outputs": [],
   "source": [
    "from scipy.sparse import find\n",
    "\n",
    "\n",
    "def create_doc_embedding (doc_matrix_word_freq, keyedvectors):\n",
    "    \"\"\"\n",
    "    create_doc_embedding creates a doc-embedding matrix where rows are the \n",
    "    documents and columns are the dimensions of the word-embedding. Each row r\n",
    "    summarizes the vectors of the word-embeddings present in document r\n",
    "\n",
    "    :param doc_matrix_word_freq: frequency matrix of the terms in each document\n",
    "            It admits binary values, frequencies or weights.\n",
    "            It admits the output of vectorizer.fit_transform\n",
    "    :param keyedvectors: keyedvectors object from Gensim which has the \n",
    "            word-embedding information\n",
    "    :return: returns the doc-embedding matrix that summarizes the \n",
    "             vector-embeddings of the words present in each document\n",
    "    \"\"\" \n",
    "\n",
    "    \n",
    "    num_docs, num_words= doc_matrix_word_freq.get_shape()\n",
    "\n",
    "    # Creamos la matriz de documentos con tantas columnas como dimensiones tiene el we \n",
    "    doc_embed_matrix = np.zeros([num_docs,keyedvectors.vector_size])\n",
    "\n",
    "\n",
    "    # Obtenemos los documentos\n",
    "    docs, col, val = find(doc_matrix_word_freq)\n",
    "    docs = np.unique(docs)\n",
    "\n",
    "    # Para cada documento (esto se podrá hacer de forma más pythonica)\n",
    "    for doc in docs:\n",
    "      # Obtenemos las palabras presentes en el documento y su frecuencia\n",
    "      row, words, frecs = find(doc_matrix_word_freq[doc,:])\n",
    "\n",
    "      # Calculamos el vector medio para el documento\n",
    "      # Para ello recuperamos los vectores del we presentes en el documento y \n",
    "      # los promediamos teniendo en cuenta su frecuencia\n",
    "      count = 0\n",
    "      for w,f in zip(words,frecs):\n",
    "        doc_embed_matrix[doc,:] = doc_embed_matrix[doc,:] + (keyedvectors[w] * f)\n",
    "        count = count +1\n",
    "      doc_embed_matrix[doc,:] = doc_embed_matrix[doc,:]/count\n",
    "    \n",
    "      \n",
    "    return doc_embed_matrix"
   ]
  },
  {
   "cell_type": "markdown",
   "metadata": {},
   "source": [
    "Aplicamos el modelo de word-embeddings a nuestro vector de palabras en el que previamente habíamos usado los pesos TF-IDF"
   ]
  },
  {
   "cell_type": "code",
   "execution_count": 25,
   "metadata": {},
   "outputs": [
    {
     "data": {
      "text/plain": [
       "array([[ 0.00794175,  0.01705104, -0.01855913, ...,  0.00727405,\n",
       "        -0.01975189,  0.02405652],\n",
       "       [ 0.00536644,  0.01252589,  0.0140877 , ..., -0.00154335,\n",
       "         0.01681921, -0.01005512],\n",
       "       [ 0.0022235 , -0.00437085,  0.01384607, ..., -0.00090964,\n",
       "        -0.0027213 ,  0.00075259],\n",
       "       ...,\n",
       "       [-0.00682233,  0.00391371,  0.01101578, ..., -0.00546989,\n",
       "        -0.00277311,  0.00523289],\n",
       "       [ 0.01630543, -0.00279613,  0.0028525 , ...,  0.0374361 ,\n",
       "         0.01281606, -0.01754476],\n",
       "       [ 0.0037437 , -0.00261042,  0.00349485, ...,  0.01850674,\n",
       "         0.01283986,  0.00905975]])"
      ]
     },
     "execution_count": 25,
     "metadata": {},
     "output_type": "execute_result"
    }
   ],
   "source": [
    "doc_embed_matrix = create_doc_embedding(train_preprocessedwe,model)\n",
    "# contiene un vector \"embedding\" para cada documento\n",
    "doc_embed_matrix"
   ]
  },
  {
   "cell_type": "code",
   "execution_count": 26,
   "metadata": {},
   "outputs": [
    {
     "data": {
      "text/plain": [
       "array([[ 0.01893471,  0.00612426,  0.0066691 , ..., -0.0008087 ,\n",
       "        -0.00868633, -0.01675636],\n",
       "       [ 0.00151841, -0.00418998, -0.03060933, ..., -0.01278092,\n",
       "         0.01871666, -0.0237693 ],\n",
       "       [ 0.01491417,  0.01291672, -0.00561923, ...,  0.01949441,\n",
       "        -0.00422223, -0.01036158],\n",
       "       ...,\n",
       "       [ 0.00874533,  0.00581114, -0.00181629, ..., -0.01366179,\n",
       "        -0.0065521 ,  0.00492588],\n",
       "       [ 0.01549625,  0.01237827,  0.03584277, ...,  0.03563324,\n",
       "        -0.01344139, -0.03487768],\n",
       "       [ 0.01486787,  0.00045955,  0.01219599, ...,  0.00930455,\n",
       "        -0.00434948,  0.00309813]])"
      ]
     },
     "execution_count": 26,
     "metadata": {},
     "output_type": "execute_result"
    }
   ],
   "source": [
    "doc_test_embed_matrix = create_doc_embedding(test_preprocessedwe,model)\n",
    "doc_test_embed_matrix"
   ]
  },
  {
   "cell_type": "markdown",
   "metadata": {},
   "source": [
    "Vamos a usar como pesos la frecuencia de aparición de cada palabra."
   ]
  },
  {
   "cell_type": "markdown",
   "metadata": {},
   "source": [
    "Calculamos la precisión@5 para cada una de las clases, que es la precisión a nivel de exhaustividad 5, que nos calcula cuantos de los 5 primeros documentos de una lista son de la clase deseada.\n",
    "Consideramos que un documento recuperado es relevante cuando pertenezca a la misma clase que la consulta."
   ]
  },
  {
   "cell_type": "code",
   "execution_count": 27,
   "metadata": {},
   "outputs": [
    {
     "data": {
      "text/plain": [
       "{'business': 86.84931506849315,\n",
       " 'entertainment': 93.77049180327869,\n",
       " 'politics': 92.33333333333333,\n",
       " 'sport': 98.36065573770492,\n",
       " 'tech': 91.16279069767442}"
      ]
     },
     "execution_count": 27,
     "metadata": {},
     "output_type": "execute_result"
    }
   ],
   "source": [
    "p5we = mean_precisions_per_class(doc_embed_matrix, train_data['Category'], doc_test_embed_matrix, test_data['Category'], 5)\n",
    "p5we"
   ]
  },
  {
   "cell_type": "code",
   "execution_count": 28,
   "metadata": {},
   "outputs": [
    {
     "data": {
      "text/plain": [
       "<AxesSubplot:xlabel='Category'>"
      ]
     },
     "execution_count": 28,
     "metadata": {},
     "output_type": "execute_result"
    },
    {
     "data": {
      "image/png": "[encoded data removed]",
      "text/plain": [
       "<Figure size 432x288 with 1 Axes>"
      ]
     },
     "metadata": {
      "needs_background": "light"
     },
     "output_type": "display_data"
    }
   ],
   "source": [
    "df_p5we = pd.DataFrame.from_dict(p5we, orient='index', columns=['precision@5'])\n",
    "\n",
    "df_p5we['Category'] = ['business', 'entertainment', 'politics', 'sport', 'tech']\n",
    "\n",
    "d1 = df_p5we.set_index(\"Category\")\n",
    "\n",
    "d1.plot.bar()"
   ]
  },
  {
   "cell_type": "markdown",
   "metadata": {},
   "source": [
    "De misma forma que en el apartado anterior, sport es la categoría con más precisión probablemente por las causas mencionadas anteriormente. Observamos también que en general la precisión de todas las categorías es mayor. Esto se debe a que en este caso hemos utilizado el vocabulario de word-embeddings que nos aporta más información de relación semántica entre las palabras. Es por ello que ante las consultas se devuelven textos relevantes de forma más eficiente."
   ]
  },
  {
   "cell_type": "code",
   "execution_count": 29,
   "metadata": {},
   "outputs": [
    {
     "data": {
      "text/plain": [
       "array([84.38356164, 84.26229508, 88.66666667, 97.70491803, 88.8372093 ])"
      ]
     },
     "execution_count": 29,
     "metadata": {},
     "output_type": "execute_result"
    }
   ],
   "source": [
    "df_p5['precision@5'].values\n"
   ]
  },
  {
   "cell_type": "code",
   "execution_count": 30,
   "metadata": {},
   "outputs": [],
   "source": [
    "import matplotlib.pyplot as plt"
   ]
  },
  {
   "cell_type": "markdown",
   "metadata": {},
   "source": [
    "Dibujamos a continuación una tabla con los resultados de los dos apartados para compararlos visualmente y sacar conclusiones"
   ]
  },
  {
   "cell_type": "code",
   "execution_count": 31,
   "metadata": {},
   "outputs": [
    {
     "data": {
      "image/png": "[encoded data removed]",
      "text/plain": [
       "<Figure size 432x288 with 1 Axes>"
      ]
     },
     "metadata": {
      "needs_background": "light"
     },
     "output_type": "display_data"
    }
   ],
   "source": [
    "values =  df_p5['precision@5'].values\n",
    "valueswe = df_p5we['precision@5'].values\n",
    " \n",
    " \n",
    "numero_de_grupos = len(values)\n",
    "indice_barras = np.arange(numero_de_grupos)\n",
    "ancho_barras =0.35\n",
    " \n",
    "plt.bar(indice_barras, values, width=ancho_barras, label='Sin WE')\n",
    "plt.bar(indice_barras + ancho_barras, valueswe, width=ancho_barras, label='WE')\n",
    "plt.legend(loc='best')\n",
    "## Se colocan los indicadores en el eje x\n",
    "plt.xticks(indice_barras + ancho_barras, ('business', 'entertainment', 'politics', 'sport', 'tech') )\n",
    " \n",
    "plt.ylabel('Precision@5')\n",
    "plt.title('Comparación de precisiones')\n",
    " \n",
    "plt.show()"
   ]
  },
  {
   "cell_type": "markdown",
   "metadata": {},
   "source": [
    "Observamos que en todas las categorías, utilizar el vocabulario de word-embeddings nos da mejores resultados a la hora de realizar una consulta. Como hemos mencionado antes, este vocabulario aporta información semántica sobre cómo están relacionadas las palabras entre sí. Por ello es más sencillo devolver textos relevantes ante una consulta, pues tenemos la misma información que antes más el añadido semántico. Por ello los porcentajes son muy altos aunque la mejora más notoria la vemos en la categoría de 'entertainent' que como habíamos comentado, la amplitud en el vocabulario y la diversidad en los temas de los textos de esta categoría puede hacer que se confunda con otras. Sin embargo la aplicación del vocabulario de word-embeddings consigue tener menos en cuenta esto. "
   ]
  },
  {
   "cell_type": "markdown",
   "metadata": {
    "id": "d-J6GYut4DGu"
   },
   "source": [
    "## 4) Análisis de errores\n",
    "\n",
    "Vamos a investigar los resultados para entender mejor dónde están fallando los procesos de recuperación. Sigue los siguientes pasos.\n",
    "\n",
    "\n",
    "1. Identifica la categoría de noticias donde la precisión media haya mejorado más al incorporar word-embeddings\n",
    "2. Para dicha categoría, identifica la consulta donde la precisión haya mejorado más al usar word-embeddings\n",
    "3. Muestra el texto original de la consulta y los términos que aparecen en las dos vectorizaciones tf-idf que usamos (recuerda que usamos diccionarios distintos para las vectorizaciones bolsa de palabras y word-embeddings).\n",
    "4. Identifica las noticias recuperadas para dicha consulta para las dos aproximaciones y sus categorías (TF-IDF puro y con word-embeddings)\n",
    "5. Muestra la intersección de términos entre la consulta y la primera noticia mal recuperada usando TF-IDF puro.\n",
    "6. Muestra la intersección de términos entre la consulta y la última noticia bien recuperada usando word-embeddings.\n",
    "7. A la luz de todo lo anterior, razona sobre por qué crees que el TF-IDF no fue capaz de clasificar bien la noticia y el word-embedding sí.\n",
    "\n",
    "\n",
    "Puedes usar el código que calcula la intersección de términos que ponemos a continuación"
   ]
  },
  {
   "cell_type": "code",
   "execution_count": 116,
   "metadata": {
    "id": "RUat8DCRLYs1"
   },
   "outputs": [],
   "source": [
    "def terms_in_message(feature_names,vector_data,index):\n",
    "    '''\n",
    "    Devuelve un conjunto los términos presentes en un mensaje representado como bolsa de palabras.\n",
    "    \n",
    "    - feature_names: terminos usados para vectorizar\n",
    "    - vector_data: matriz (dispersa) de mensaje vectorizados\n",
    "    - index: posición del mensaje a mostrar\n",
    "    '''\n",
    "    mensaje=vector_data[index,:]>0\n",
    "    terminos_presentes = ma.array(feature_names, mask = ~(mensaje[0].toarray()))\n",
    "\n",
    "    return set(terminos_presentes.compressed())"
   ]
  },
  {
   "cell_type": "markdown",
   "metadata": {},
   "source": [
    "En el gráfico visto anteriormente se intuye que la categoría con más mejora al utilizar word-embeddings es 'entertainment'. Lo comprobamos y observamos que hay casi un 9 % de mejora."
   ]
  },
  {
   "cell_type": "code",
   "execution_count": 33,
   "metadata": {},
   "outputs": [
    {
     "data": {
      "text/plain": [
       "<BarContainer object of 5 artists>"
      ]
     },
     "execution_count": 33,
     "metadata": {},
     "output_type": "execute_result"
    },
    {
     "data": {
      "image/png": "[encoded data removed]",
      "text/plain": [
       "<Figure size 432x288 with 1 Axes>"
      ]
     },
     "metadata": {
      "needs_background": "light"
     },
     "output_type": "display_data"
    }
   ],
   "source": [
    "names = ['business', 'entertainment', 'politics', 'sport', 'tech'] \n",
    "values =  df_p5['precision@5'].values\n",
    "valueswe = df_p5we['precision@5'].values\n",
    "\n",
    "restavalues = valueswe - values\n",
    "\n",
    "plt.bar(names, restavalues)"
   ]
  },
  {
   "cell_type": "code",
   "execution_count": 88,
   "metadata": {},
   "outputs": [],
   "source": [
    "def precisions_in_class(X_train, y_train, X_test, y_test, k):\n",
    "    '''Devuelve las precision@k de las consultas para las classes.\n",
    "    \n",
    "    Parámetros:\n",
    "    - X_train: documentos de entrenamiento vectorizados.\n",
    "    - y_train: etiquetas de los documentos de entrenamiento.\n",
    "    - X_test: documentos vectorizados que se usan como consultas\n",
    "    - y_test: etiquetas de los documentos que se usan como consultas\n",
    "    - k: número de documentos considerados a recuperar por la consulta\n",
    "    '''\n",
    "    \n",
    "    # diccionario categoría -> lista de precisiones\n",
    "    y_precisions = {y: [] for y in np.unique(y_test)}\n",
    "    \n",
    "    indice_consultas = {y: [] for y in np.unique(y_test)}\n",
    "    i = 0\n",
    "    # Calcular precision@k para cada consulta\n",
    "    for x_query, y_query in zip(X_test, y_test):\n",
    "        \n",
    "        idx = knn(x_query, X_train, k)\n",
    "        y_selected = np.take(y_train, idx)\n",
    "        precision = precision_at_k(y_selected, y_query, k)\n",
    "        y_precisions[y_query].append(precision)\n",
    "        indice_consultas[y_query].append(i)\n",
    "        i = i+1\n",
    "        \n",
    "    return y_precisions, indice_consultas"
   ]
  },
  {
   "cell_type": "markdown",
   "metadata": {},
   "source": [
    "Calculamos las precisiones de cada consulta sin hacer la media para poder encontrar el texto con mayor diferencia en la categoria de entretenimiento"
   ]
  },
  {
   "cell_type": "code",
   "execution_count": 92,
   "metadata": {},
   "outputs": [],
   "source": [
    "precisiones1, consultas1 = precisions_in_class(train_preprocessed, train_data['Category'], test_preprocessed,  test_data['Category'], 5)"
   ]
  },
  {
   "cell_type": "code",
   "execution_count": 93,
   "metadata": {},
   "outputs": [],
   "source": [
    "precisioneswe, consultaswe = precisions_in_class(doc_embed_matrix, train_data['Category'], doc_test_embed_matrix,  test_data['Category'], 5)"
   ]
  },
  {
   "cell_type": "code",
   "execution_count": 113,
   "metadata": {},
   "outputs": [
    {
     "data": {
      "text/plain": [
       "array([  0., 100.,  40., 100., 100., 100., 100.,  80., 100., 100., 100.,\n",
       "        60., 100., 100., 100., 100., 100., 100., 100.,  60.,   0.,  40.,\n",
       "       100., 100., 100.,   0.,  80., 100., 100., 100., 100.,  40., 100.,\n",
       "       100.,  80., 100.,  80.,  60., 100., 100., 100.,  80., 100., 100.,\n",
       "       100., 100., 100., 100., 100., 100.,  60., 100.,  60.,  60., 100.,\n",
       "       100.,  80., 100.,  60.,  20., 100.])"
      ]
     },
     "execution_count": 113,
     "metadata": {},
     "output_type": "execute_result"
    }
   ],
   "source": [
    "array_precisiones1 = np.array(precisiones1['entertainment'])\n",
    "array_precisiones1"
   ]
  },
  {
   "cell_type": "code",
   "execution_count": 114,
   "metadata": {},
   "outputs": [
    {
     "data": {
      "text/plain": [
       "array([  0., 100.,  80., 100., 100., 100., 100., 100.,  80., 100., 100.,\n",
       "       100., 100., 100., 100., 100., 100., 100., 100.,  60., 100., 100.,\n",
       "       100., 100., 100.,  60., 100., 100., 100., 100., 100.,  60., 100.,\n",
       "       100., 100., 100.,  80., 100., 100., 100., 100., 100., 100., 100.,\n",
       "       100., 100., 100., 100., 100., 100., 100., 100., 100., 100., 100.,\n",
       "       100., 100., 100.,   0., 100., 100.])"
      ]
     },
     "execution_count": 114,
     "metadata": {},
     "output_type": "execute_result"
    }
   ],
   "source": [
    "array_precisioneswe = np.array(precisioneswe['entertainment'])\n",
    "array_precisioneswe"
   ]
  },
  {
   "cell_type": "code",
   "execution_count": 115,
   "metadata": {},
   "outputs": [],
   "source": [
    "diferencias = array_precisiones1 - array_precisioneswe"
   ]
  },
  {
   "cell_type": "markdown",
   "metadata": {},
   "source": [
    "A partir del array de diferencias, buscamos el índice donde se encuentra la consulta con más aumento de precisión al usar word-embeddings, es decir, en la que la resta sea mayor. Vemos que la diferencia es de un 100% de mejora en esa consulta, es decir, la primera vectorización se obtenía un 0% y con word-embeddings 100%"
   ]
  },
  {
   "cell_type": "code",
   "execution_count": 40,
   "metadata": {},
   "outputs": [
    {
     "data": {
      "text/plain": [
       "(array([20], dtype=int64),)"
      ]
     },
     "execution_count": 40,
     "metadata": {},
     "output_type": "execute_result"
    }
   ],
   "source": [
    "indice = np.where(diferencias == np.amax(diferencias)) \n",
    "indice"
   ]
  },
  {
   "cell_type": "code",
   "execution_count": 41,
   "metadata": {},
   "outputs": [
    {
     "data": {
      "text/plain": [
       "100.0"
      ]
     },
     "execution_count": 41,
     "metadata": {},
     "output_type": "execute_result"
    }
   ],
   "source": [
    "ind = 20\n",
    "diferencias[ind]"
   ]
  },
  {
   "cell_type": "markdown",
   "metadata": {},
   "source": [
    "El indice de la consulta con más aumento de precisión al usar word-embeddings es el siguiente"
   ]
  },
  {
   "cell_type": "code",
   "execution_count": 101,
   "metadata": {},
   "outputs": [
    {
     "data": {
      "text/plain": [
       "110"
      ]
     },
     "execution_count": 101,
     "metadata": {},
     "output_type": "execute_result"
    }
   ],
   "source": [
    "consultasaux = np.array(consultas1['entertainment'])\n",
    "indice_consulta = consultasaux[ind]\n",
    "indice_consulta"
   ]
  },
  {
   "cell_type": "markdown",
   "metadata": {},
   "source": [
    "A continuación mostramos el texto original seguido de los términos que aparecen en las dos vectorizaciones usadas"
   ]
  },
  {
   "cell_type": "code",
   "execution_count": 102,
   "metadata": {},
   "outputs": [
    {
     "name": "stdout",
     "output_type": "stream",
     "text": [
      "Mensaje 110 : holmes wins  2004 top tv moment  sprinter kelly holmes  olympic victory has been named the top television moment of 2004 in a bbc poll.  holmes  800m gold medal victory beat favourite moments from drama  comedy and factual programmes  as voted by television viewers. natasha kaplinsky s strictly come dancing win was top entertainment moment and a little britain breast feeding sketch won the comedy prize. the 2004 tv moments will be shown on bbc one at 2000 gmt on wednesday. double gold medal winner holmes topped the best sports moment category  beating maria sharapova s wimbledon triumph and matthew pinsent s rowing victory at the olympics.  she then went on to take the overall prize of golden tv moment. the sight of former royal correspondent jennie bond with dozens of rats crawling over her in itv s i m a celebrity get me out of here was named best factual entertainment moment. michael buerk s return to ethiopia  20 years after originally reporting its famine  topped the factual category for bbc programme this world. long-running soap eastenders won the best popular drama moment title when character dot confided in den watts that she was unwell.\n",
      "Mensaje 110 vectorizado: ['20' '2000' '2004' '800m' 'bbc' 'beat' 'beating' 'best' 'bond' 'breast'\n",
      " 'britain' 'category' 'celebrity' 'character' 'come' 'comedy' 'confided'\n",
      " 'correspondent' 'dancing' 'den' 'dot' 'double' 'dozens' 'drama'\n",
      " 'eastenders' 'entertainment' 'ethiopia' 'factual' 'famine' 'favourite'\n",
      " 'feeding' 'gmt' 'gold' 'golden' 'holmes' 'itv' 'kelly' 'little' 'long'\n",
      " 'maria' 'matthew' 'medal' 'michael' 'moment' 'moments' 'named' 'natasha'\n",
      " 'olympic' 'olympics' 'originally' 'overall' 'poll' 'popular' 'prize'\n",
      " 'programme' 'programmes' 'rats' 'reporting' 'return' 'royal' 'running'\n",
      " 'sharapova' 'shown' 'sight' 'sketch' 'soap' 'sports' 'sprinter'\n",
      " 'strictly' 'television' 'title' 'topped' 'triumph' 'tv' 'victory'\n",
      " 'viewers' 'voted' 'watts' 'wednesday' 'went' 'wimbledon' 'win' 'winner'\n",
      " 'wins' 'won' 'world' 'years'] \n",
      "\n"
     ]
    }
   ],
   "source": [
    "write_terms(feature_names, test_data['Text'].values , test_vector_data, indice_consulta)"
   ]
  },
  {
   "cell_type": "code",
   "execution_count": 103,
   "metadata": {},
   "outputs": [
    {
     "name": "stdout",
     "output_type": "stream",
     "text": [
      "Mensaje 110 vectorizado: ['years' 'world' 'long' 'wednesday' 'won' 'best' 'win' '20' 'come'\n",
      " 'little' 'went' 'television' 'return' 'named' 'victory' '2000' 'britain'\n",
      " 'title' '2004' 'gold' 'michael' 'running' 'popular' 'tv' 'sports' 'beat'\n",
      " 'olympic' 'royal' 'overall' 'double' 'winner' 'character' 'originally'\n",
      " 'olympics' 'moment' 'medal' 'shown' 'gmt' 'bond' 'poll' 'wins' 'prize'\n",
      " 'voted' 'entertainment' 'dozens' 'golden' 'drama' 'beating' 'comedy'\n",
      " 'category' 'programme' 'bbc' 'reporting' 'maria' 'kelly' 'viewers'\n",
      " 'moments' 'matthew' 'wimbledon' 'sight' 'ethiopia' 'celebrity' 'breast'\n",
      " 'dancing' 'correspondent' 'triumph' 'topped' 'feeding' 'strictly' 'soap'\n",
      " 'programmes' 'holmes' 'favourite' 'den' 'dot' 'watts' 'famine' 'rats'\n",
      " 'sketch' 'sharapova' 'rowing' 'itv' 'sprinter' 'factual' 'natasha'\n",
      " 'crawling' 'confided' '800m' 'eastenders' 'jennie' 'unwell' 'pinsent'\n",
      " 'kaplinsky' 'buerk'] \n",
      "\n"
     ]
    }
   ],
   "source": [
    "feature_nameswe = vectorizerwe.get_feature_names()\n",
    "write_terms(feature_nameswe,None,test_vector_datawe,indice_consulta)"
   ]
  },
  {
   "cell_type": "markdown",
   "metadata": {},
   "source": [
    "Identificamos ahora las noticias recuperadas en ambos casos a raíz de utilizar el texto anterior como consulta."
   ]
  },
  {
   "cell_type": "code",
   "execution_count": 107,
   "metadata": {},
   "outputs": [
    {
     "data": {
      "text/plain": [
       "array([ 23, 992, 117, 915, 421], dtype=int64)"
      ]
     },
     "execution_count": 107,
     "metadata": {},
     "output_type": "execute_result"
    }
   ],
   "source": [
    "idx1 = knn(test_preprocessed[indice_consulta], train_preprocessed, 5)\n",
    "idx1"
   ]
  },
  {
   "cell_type": "code",
   "execution_count": 108,
   "metadata": {},
   "outputs": [
    {
     "data": {
      "text/plain": [
       "array([1135,  408,  266,  811, 1048], dtype=int64)"
      ]
     },
     "execution_count": 108,
     "metadata": {},
     "output_type": "execute_result"
    }
   ],
   "source": [
    "idxwe = knn(doc_test_embed_matrix[indice_consulta], doc_embed_matrix, 5)\n",
    "idxwe"
   ]
  },
  {
   "cell_type": "markdown",
   "metadata": {},
   "source": [
    "A continuación observamos las categorías de estos textos."
   ]
  },
  {
   "cell_type": "code",
   "execution_count": 110,
   "metadata": {},
   "outputs": [
    {
     "data": {
      "text/plain": [
       "1420    sport\n",
       "197     sport\n",
       "660     sport\n",
       "1121    sport\n",
       "88      sport\n",
       "Name: Category, dtype: object"
      ]
     },
     "execution_count": 110,
     "metadata": {},
     "output_type": "execute_result"
    }
   ],
   "source": [
    "categories1 = np.take(train_data['Category'], idx1)\n",
    "categories1"
   ]
  },
  {
   "cell_type": "code",
   "execution_count": 111,
   "metadata": {},
   "outputs": [
    {
     "data": {
      "text/plain": [
       "173     entertainment\n",
       "187     entertainment\n",
       "883     entertainment\n",
       "1410    entertainment\n",
       "1153    entertainment\n",
       "Name: Category, dtype: object"
      ]
     },
     "execution_count": 111,
     "metadata": {},
     "output_type": "execute_result"
    }
   ],
   "source": [
    "categorieswe = np.take(train_data['Category'], idxwe)\n",
    "categorieswe"
   ]
  },
  {
   "cell_type": "markdown",
   "metadata": {},
   "source": [
    "En efecto y como veíamos, con TF-IDF puro, se recuperan textos de 'sport' en todos los casos ante la consulta por lo que como decíamos, la precisión es 0% mientras que al incorporar word-embeddings , la precisión es 100% porque recupera textos de 'entertainment' en todos los casos."
   ]
  },
  {
   "cell_type": "markdown",
   "metadata": {},
   "source": [
    "Mostramos la intersección de términos entre la consulta y la primera noticia mal recuperada usando TF-IDF puro."
   ]
  },
  {
   "cell_type": "code",
   "execution_count": 135,
   "metadata": {},
   "outputs": [],
   "source": [
    "terms1 = terms_in_message(feature_names, train_vector_data,23)"
   ]
  },
  {
   "cell_type": "code",
   "execution_count": 136,
   "metadata": {},
   "outputs": [],
   "source": [
    "terms_consulta1 = terms_in_message(feature_names, test_vector_data, indice_consulta)"
   ]
  },
  {
   "cell_type": "code",
   "execution_count": 137,
   "metadata": {},
   "outputs": [
    {
     "name": "stdout",
     "output_type": "stream",
     "text": [
      "{'gold', 'double', '800m', 'moment', 'holmes', 'olympic', 'win', 'britain', 'kelly', 'title'}\n"
     ]
    }
   ],
   "source": [
    "interseccion1 = terms1.intersection(terms_consulta1)\n",
    "print(interseccion1)"
   ]
  },
  {
   "cell_type": "markdown",
   "metadata": {},
   "source": [
    "Mostramos la intersección de términos entre la consulta y la ultima noticia bien recuperada usando word-embeddings."
   ]
  },
  {
   "cell_type": "code",
   "execution_count": 141,
   "metadata": {},
   "outputs": [],
   "source": [
    "termswe = terms_in_message(feature_nameswe, train_vector_datawe, 1153)"
   ]
  },
  {
   "cell_type": "code",
   "execution_count": 142,
   "metadata": {},
   "outputs": [],
   "source": [
    "terms_consultawe = terms_in_message(feature_nameswe, test_vector_datawe, indice_consulta)"
   ]
  },
  {
   "cell_type": "code",
   "execution_count": 143,
   "metadata": {},
   "outputs": [
    {
     "name": "stdout",
     "output_type": "stream",
     "text": [
      "{'years', 'television', 'poll', 'overall', 'running', 'moment', 'bbc', 'long', 'world', 'come', 'little', 'voted', 'britain', 'michael', 'tv', 'victory'}\n"
     ]
    }
   ],
   "source": [
    "interseccionwe = termswe.intersection(terms_consultawe)\n",
    "print(interseccionwe)"
   ]
  },
  {
   "cell_type": "markdown",
   "metadata": {},
   "source": [
    "A la luz de toda la información que hemos visto, vamos a analizar por qué con word-embeddings se ha clasificado eficientemente la pregunta y con TF-IDF no. El texto de la noticia trata sobre que un evento deportivo ha sido nombrado como el mejor momento televisivo en 2004. A partir de ahí, el texto habla sobre otros momentos televisivos icónicos y los compara también con otros eventos deportivos. Vemos que la clasificación usando TF-IDF puro es de deporte ya que a pesar de que el texto sea de la categoría entretenimiento, utiliza palabras relacionadas con el deporte en varias ocasiones ya que el acontecimiento televisivo ha sido deportivo. Por tanto, como TF-IDF da importancia a la frecuencia con la que aparecen palabras en el texto, y las palabras de deporte son recurrentes en textos de deporte y no en otros textos del corpus de otras categorías, como por ejemplo las que coinciden con el texto mal clasificado: \"sport, olymppic, win,...\", se recuperan noticias relacionadas con deporte.\n",
    "\n",
    "Sin embargo, al aplicar el vocabulario de word-embeddings, se añade a las palabras un valor semántico que permite relacionarlas con otras palabras. Este extra de información hace que se puedan recuperar textos de entretenimiento que tienen palabras muy relacionadas con nuestro texto. Vemos que las palabras de uno de los textos recuperados son \"television, poll, moment, tv, bbc\" por lo que las relaciones entre palabras de word-embeddings ha hecho que el texto esté más relacionado con temas de entretenimiento que de deporte. Seguramente estas palabras mencionadas no tengan mucha relación con palabras en un texto deportivo y sí con uno de entretenimiento."
   ]
  }
 ],
 "metadata": {
  "colab": {
   "name": "P2_recuperacion_informacion_2122_enunciado.ipynb",
   "provenance": []
  },
  "kernelspec": {
   "display_name": "Python 3",
   "language": "python",
   "name": "python3"
  },
  "language_info": {
   "codemirror_mode": {
    "name": "ipython",
    "version": 3
   },
   "file_extension": ".py",
   "mimetype": "text/x-python",
   "name": "python",
   "nbconvert_exporter": "python",
   "pygments_lexer": "ipython3",
   "version": "3.8.8"
  }
 },
 "nbformat": 4,
 "nbformat_minor": 1
}
